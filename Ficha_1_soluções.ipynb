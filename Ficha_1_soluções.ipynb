{
 "cells": [
  {
   "cell_type": "markdown",
   "id": "65dd1498",
   "metadata": {
    "id": "65dd1498"
   },
   "source": [
    "# Instalação do software e introdução à biblioteca pySMT\n",
    "\n",
    "Nesta UC vamos estudar metodologias e ferramentas para modelar e verificar propriedades lógicas de sistemas.\n",
    "As ferramentas que vamos usar são [SMT solvers](https://en.wikipedia.org/wiki/Satisfiability_modulo_theories#SMT_solvers) e a ferramenta de programação inteira [SCIP](https://www.scipopt.org).\n",
    "\n",
    "A linguagem de programação que vamos usar é o [Python](https://www.python.org) e as aulas práticas serão desenvolvidas dentro de um [Jupyter](https://jupyter.org) notebook, a ser executado na plataforma\n",
    "[Anaconda](https://www.anaconda.com).\n",
    "Usaremos a biblioteca [OR-Tools](https://developers.google.com/optimization) para fazer a interface para o SCIP, a biblioteca [pySMT](https://github.com/pysmt/pysmt) para fazer a interface com os SMT solvers, e a biblioteca de grafos [NetworkX](https://networkx.org)."
   ]
  },
  {
   "cell_type": "markdown",
   "id": "bcc82458",
   "metadata": {
    "id": "bcc82458"
   },
   "source": [
    "# Instalação do software\n",
    "\n",
    "\n",
    "Os passos que a seguir se apresentam são para instalar o Anaconda, criar um \"environment\" (logica) específico para esta UC onde instalamos o Python 3.10, o Jupyter, a biblioteca pySMT, o SMT solver Z3, e as bibliotecas OR-Tools e NetworkX.\n",
    "\n",
    "Estes passos correspondem à instalação em MacOS.\n",
    "\n",
    "1. Instalar o Anaconda a partir do [site](https://www.anaconda.com).\n",
    "\n",
    "2. [Iniciar o Anaconda Prompt](https://docs.anaconda.com/free/anaconda/install/verify-install/#conda).\n",
    "        \n",
    "3. Criar um ambiente específico (chamado \"logica\").\n",
    "\n",
    "        conda create -n logica python=3.10  \n",
    "        \n",
    "4. Ativar o ambiente \"logica\".\n",
    "\n",
    "        conda activate logica\n",
    "        \n",
    "5. Instalar o Jupyter nesse ambiente.\n",
    "  \n",
    "        conda install jupyter\n",
    "\n",
    "6. Instalar a biblioteca pySMT e os SMT solvers (Z3 e MathSAT) nesse ambiente.\n",
    "\n",
    "        pip install pysmt\n",
    "        pysmt-install --z3\n",
    "        \n",
    "7. Instalar as bibliotecas OR-Tools e NetworkX nesse ambiente.\n",
    "\n",
    "        pip install ortools\n",
    "        pip install networkx\n",
    "        \n",
    "\n",
    "Para arrancar com o Jupyter, na linha de comando, fazer `jupyter notebook`. Será possível aceder às diretorias locais, e abrir os notebooks (extensão `.ipynb`) com as fichas práticas. Em sessões posteriores, basta ativar o ambiente criado utilizando novamente o comando `conda activate logica`, e lançar o jupyter a partir daí."
   ]
  },
  {
   "cell_type": "markdown",
   "id": "1xWlBCR8hWcj",
   "metadata": {
    "id": "1xWlBCR8hWcj"
   },
   "source": [
    "# Alternativa na cloud\n",
    "\n",
    "Em alternativa à distribuição Anaconda, é possível utilizar uma solução na cloud.\n",
    "\n",
    "1. Abrir o [Google Colab](https://colab.research.google.com/), utilizando uma conta Google.\n",
    "\n",
    "1. Fazer _upload_ de um notebook `.ipynb`.\n",
    "\n",
    "Neste caso, é atribuído um ambiente de execução em cada início da sessão, que é posteriormente encerrado quando termina a atividade. Como tal, é necessário fazer as instalações necessárias em cada sessão, correndo numa célula um ou vários dos comandos seguintes:\n",
    "\n",
    "        !pip install pysmt\n",
    "        !pysmt-install --z3\n",
    "        !pip install ortools\n",
    "        !pip install networkx"
   ]
  },
  {
   "cell_type": "markdown",
   "id": "16754ba8",
   "metadata": {
    "id": "16754ba8"
   },
   "source": [
    "# Breve introdução à utilização de SMT solvers com  a biblioteca pySMT\n",
    "\n",
    "O problema SMT (*Satisfiability Modulo Theories*) é o problema de satisfatibilidade para lógica de primeira ordem\n",
    "no âmbito de alguma teoria lógica específica - uma teoria lógica que fixa as interpretações de certos predicados e símbolos de função. Dito de outra forma, restringe-se a satisfatibilidade a uma classe específica de modelos, numa lógica de primeira ordem tipificada e com igualdade.\n",
    "Os *SMT solvers* são ferramentas que visam responder ao problema SMT. Como o problema não é decidível, pode ser necessário (ou conveniente) restringir a classe de fórmulas em consideração a um fragmento (isto é, restrição sintática) adequado.\n",
    "\n",
    "Os SMT solvers são o motor central de muitas ferramentas de análise e verificação de programas, geração de casos de teste, bounded model checking of SW, planeamento, etc.\n",
    "Existem muitos SMT solvers disponíveis. Por exemplo: Z3, MathSAT, CVC4, Yices, entre outros. Alguns são direcionados a teorias específicas;\n",
    "muitos suportam o formato SMT-LIB (um formato textural normalizado de input/output para SMT solvers);\n",
    "muitos fornecem recursos não padronizados. Mais informação [aqui](https://en.wikipedia.org/wiki/Satisfiability_modulo_theories#SMT_solvers). Nesta UC vamos utilizar apenas o Z3."
   ]
  },
  {
   "cell_type": "markdown",
   "id": "794f6fc7",
   "metadata": {
    "id": "794f6fc7"
   },
   "source": [
    "## A biblioteca pySMT\n",
    "\n",
    "A biblioteca [pySMT](https://github.com/pysmt/pysmt) permite que um programa em Python comunique com vários SMT solvers, tendo por base uma linguagem comum. Permite assim codificar um problema de forma independente do SMT solver, e correr o mesmo problema com vários SMT solvers.\n",
    "A documentação do pySMT pode ser encontrada em https://pysmt.readthedocs.io/en/latest/index.html.\n",
    "\n",
    "Vamos explorar alguns exemplos disponibilizados no manual do pySMT e propor novos desafios."
   ]
  },
  {
   "cell_type": "markdown",
   "id": "153830ee",
   "metadata": {
    "id": "153830ee"
   },
   "source": [
    "## Primeiros exemplos\n",
    "\n",
    "\n",
    "O pySMT é altamente estruturado, mas oferece uma API simplificada que disponibiliza as funcionalidades para a utilização usual de um SMT solver. Essa API agrupa num único módulo todas as funções para construir fórmulas, verificar a satisfatibilidade e recuperar instâncias do solver. Esse módulo é o `pysmt.shortcuts`.\n",
    "\n",
    "Neste primeiro exemplo vamos testar a satisfatibilidade de duas fórmulas proposicionais: $(A \\wedge \\neg B)$ e $(A \\wedge \\neg A)$.\n",
    "\n",
    "Para isso, primeiro precisamos criar duas novas variáveis $A$ e $B$. As variáveis PySMT são chamadas de “símbolos” e são criadas usando a função `Symbol()` que recebe como entrada um nome de variável e, opcionalmente, um tipo. Por omissão, os símbolos são Booleanos.\n",
    "\n",
    "Para este exemplo, vamos precisar das seguintes funções: `Symbol`, `And`, `Not`, `is_sat` e `get_model`."
   ]
  },
  {
   "cell_type": "code",
   "execution_count": 1,
   "id": "2ee33028",
   "metadata": {
    "colab": {
     "base_uri": "https://localhost:8080/"
    },
    "id": "2ee33028",
    "outputId": "72cbb683-2e52-4669-a257-bc2d8496998f"
   },
   "outputs": [
    {
     "name": "stdout",
     "output_type": "stream",
     "text": [
      "f := (A & (! B)) is SAT? True\n"
     ]
    }
   ],
   "source": [
    "from pysmt.shortcuts import Symbol, And, Not, is_sat, get_model\n",
    "\n",
    "varA = Symbol(\"A\")    # Default type is Boolean\n",
    "varB = Symbol(\"B\")\n",
    "f = And(varA, Not(varB))\n",
    "\n",
    "res = is_sat(f)\n",
    "print(\"f := %s is SAT? %s\" % (f, res))"
   ]
  },
  {
   "cell_type": "markdown",
   "id": "c62e72ab",
   "metadata": {
    "id": "c62e72ab"
   },
   "source": [
    "O teste de satisfatibilidade da fórmula pode ser feito com a função `is_sat()`. É possivel explicitar o SMT solver que queremos usar."
   ]
  },
  {
   "cell_type": "code",
   "execution_count": 2,
   "id": "5151b033",
   "metadata": {
    "colab": {
     "base_uri": "https://localhost:8080/"
    },
    "id": "5151b033",
    "outputId": "c374b1e9-dcfe-4ee7-a0fb-fabaf7054668"
   },
   "outputs": [
    {
     "name": "stdout",
     "output_type": "stream",
     "text": [
      "f := (A & (! B)) is SAT (z3)? True\n"
     ]
    }
   ],
   "source": [
    "resZ3 = is_sat(f,solver_name=\"z3\")\n",
    "\n",
    "print(\"f := %s is SAT (z3)? %s\" % (f, resZ3))"
   ]
  },
  {
   "cell_type": "markdown",
   "id": "77e979e1",
   "metadata": {
    "id": "77e979e1"
   },
   "source": [
    "Como a fórmula é satisfazível, isso significa que existe uma interpretação para seus símbolos não lógicos que torna a fórmula verdadeira. Ou seja, que existe um modelo para a fórmula.\n",
    "\n",
    "Para sabermos qual o modelo que o solver encontrou podemos usar a função `get_model()`. Se a fórmula é satifazível, esta função devolve um modelo para a fórmula (isto é, uma espécie de dicionário que mapeia cada variável lógica no seu valor), caso contrário, devolve `None`."
   ]
  },
  {
   "cell_type": "code",
   "execution_count": 3,
   "id": "13a7a78f",
   "metadata": {
    "colab": {
     "base_uri": "https://localhost:8080/"
    },
    "id": "13a7a78f",
    "outputId": "af0b8f12-20e4-48f6-d594-15bdf51da847"
   },
   "outputs": [
    {
     "name": "stdout",
     "output_type": "stream",
     "text": [
      "Model:\n",
      "B := False\n",
      "A := True\n"
     ]
    }
   ],
   "source": [
    "print(\"Model:\")\n",
    "model = get_model(f)\n",
    "print(model)"
   ]
  },
  {
   "cell_type": "markdown",
   "id": "8d6bcc14",
   "metadata": {
    "id": "8d6bcc14"
   },
   "source": [
    "Vamos agora gerar a fórmula $A \\wedge \\neg A$ ilustrando como podemos fazer uma substituição com o método `substitute()`. Neste caso vamos substituir a variável $B$ por $A$ na fórmula `f`."
   ]
  },
  {
   "cell_type": "code",
   "execution_count": 4,
   "id": "7694d2bf",
   "metadata": {
    "colab": {
     "base_uri": "https://localhost:8080/"
    },
    "id": "7694d2bf",
    "outputId": "5a053335-a90c-4db9-b940-57443a7e5a99"
   },
   "outputs": [
    {
     "name": "stdout",
     "output_type": "stream",
     "text": [
      "g := (A & (! A)) is SAT? False\n",
      "None\n"
     ]
    }
   ],
   "source": [
    "g = f.substitute({varB:varA})\n",
    "\n",
    "res = is_sat(g)\n",
    "print(\"g := %s is SAT? %s\" % (g, res))\n",
    "\n",
    "print(get_model(g))"
   ]
  },
  {
   "cell_type": "markdown",
   "id": "4a27a25f",
   "metadata": {
    "id": "4a27a25f"
   },
   "source": [
    "\n",
    "Vamos agora trabalhar com a teoria dos inteiros, para saber se é possível arranjar valores inteiros $x$ e $y$ entre 1 e 10, tal que $x+y > 10$ e $x-y\\leq 5$.\n",
    "\n",
    "Para criar variáveis inteiras temos que indicar o seu tipo. Os tipos estão definidos no módulo `pysmt.typing` de onde temos que importar o tipo `INT`."
   ]
  },
  {
   "cell_type": "code",
   "execution_count": 5,
   "id": "edf6cd59",
   "metadata": {
    "colab": {
     "base_uri": "https://localhost:8080/"
    },
    "id": "edf6cd59",
    "outputId": "92390bc2-257c-4c5b-fcb8-62f17131da2e"
   },
   "outputs": [
    {
     "name": "stdout",
     "output_type": "stream",
     "text": [
      "y := 3\n",
      "x := 8\n"
     ]
    }
   ],
   "source": [
    "from pysmt.shortcuts import Symbol, is_sat, get_model, And\n",
    "from pysmt.typing import INT\n",
    "\n",
    "x = Symbol(\"x\", INT)\n",
    "y = Symbol(\"y\", INT)\n",
    "\n",
    "formula = And(1<=x , x<=10 , 1<=y , y<=10 , x+y>10 , x-y<=5)\n",
    "\n",
    "print(get_model(formula))"
   ]
  },
  {
   "cell_type": "markdown",
   "id": "e6f30b45",
   "metadata": {
    "id": "e6f30b45"
   },
   "source": [
    "Ao importar `pysmt.shortcuts` a notação infixa fica disponível. No entanto, podemos usar os operadores textuais importando-os de `pysmt.shortcuts`. Isto por vezes torna o código mais claro, distingindo entre os operadores do Python e do SMT."
   ]
  },
  {
   "cell_type": "code",
   "execution_count": 6,
   "id": "68f6eaf4",
   "metadata": {
    "colab": {
     "base_uri": "https://localhost:8080/"
    },
    "id": "68f6eaf4",
    "outputId": "4246a0b9-3ed0-437d-dd58-ef5d3939e227"
   },
   "outputs": [
    {
     "name": "stdout",
     "output_type": "stream",
     "text": [
      "y := 3\n",
      "x := 8\n"
     ]
    }
   ],
   "source": [
    "from pysmt.shortcuts import Symbol, is_sat, get_model, And, LE, GE, GT, Int, Not, Or, Equals\n",
    "from pysmt.typing import INT\n",
    "\n",
    "x = Symbol(\"x\", INT)\n",
    "y = Symbol(\"y\", INT)\n",
    "\n",
    "formula = And(LE(Int(1),x) , GE(Int(10),x) , LE(Int(1),y) , GT(x+y,Int(10)), LE(x-y,Int(5)))\n",
    "\n",
    "print(get_model(formula))"
   ]
  },
  {
   "cell_type": "markdown",
   "id": "ea5a915a",
   "metadata": {
    "id": "ea5a915a"
   },
   "source": [
    "### Exercício 1\n",
    "\n",
    "Será que esta é a única solução para este problema? Como poderiamos tirar partido do solver para saber isso?"
   ]
  },
  {
   "cell_type": "code",
   "execution_count": 7,
   "id": "a8a69657",
   "metadata": {
    "colab": {
     "base_uri": "https://localhost:8080/"
    },
    "id": "a8a69657",
    "outputId": "f08f2f9e-aa78-4991-8ac3-b5ff81f24814"
   },
   "outputs": [
    {
     "name": "stdout",
     "output_type": "stream",
     "text": [
      "y := 6\n",
      "x := 5\n"
     ]
    }
   ],
   "source": [
    "# completar\n",
    "\n",
    "formula = And(LE(Int(1),x) , GE(Int(10),x) , LE(Int(1),y) , GT(x+y,Int(10)), LE(x-y,Int(5)), Not(Equals(x,y)))\n",
    "\n",
    "print(get_model(formula))"
   ]
  },
  {
   "cell_type": "markdown",
   "id": "0481155c",
   "metadata": {
    "id": "0481155c"
   },
   "source": [
    "Em vez de definir uma variável de cada vez, podemos usar as listas por compreensão do Python para definir vários símbolos.\n",
    "As compreensões são tão comuns no pySMT que operadores n-ários (como `And()`, `Or()`, `Plus()`) podem aceitar um objecto iterável (por exemplo, listas ou gerador). Vejamos o seguinte exemplo."
   ]
  },
  {
   "cell_type": "markdown",
   "id": "d26bdbeb",
   "metadata": {
    "id": "d26bdbeb"
   },
   "source": [
    "## Hello World\n",
    "\n",
    "O problema é o seguinte:\n",
    "queremos associar a cada  uma das letra que compõem as palavras HELLO e WORLD, um valor inteiro entre 1 e 10, de forma a que `H+E+L+L+O = W+O+R+L+D = 25`. Será que isso é possivel?\n",
    "\n",
    "Vejamos a seguinte formalização do problema."
   ]
  },
  {
   "cell_type": "code",
   "execution_count": 8,
   "id": "aa8795d9",
   "metadata": {
    "colab": {
     "base_uri": "https://localhost:8080/"
    },
    "id": "aa8795d9",
    "outputId": "2c88b9d4-3291-4957-f089-7c2d06de6eb7"
   },
   "outputs": [
    {
     "name": "stdout",
     "output_type": "stream",
     "text": [
      "{l, o, w, r, d, h, e}\n",
      "((((1 <= l) & (l <= 10)) & ((1 <= o) & (o <= 10)) & ((1 <= w) & (w <= 10)) & ((1 <= r) & (r <= 10)) & ((1 <= d) & (d <= 10)) & ((1 <= h) & (h <= 10)) & ((1 <= e) & (e <= 10))) & (((h + e + l + l + o) = (w + o + r + l + d)) & ((h + e + l + l + o) = 25)))\n"
     ]
    }
   ],
   "source": [
    "from pysmt.shortcuts import Symbol, LE, GE, Int, And, Equals, Plus, Solver, is_sat, get_model\n",
    "from pysmt.typing import INT\n",
    "\n",
    "hello = [Symbol(s, INT) for s in \"hello\"]\n",
    "world = [Symbol(s, INT) for s in \"world\"]\n",
    "\n",
    "letters = set(hello+world)\n",
    "print(letters)\n",
    "\n",
    "domains = And(And(LE(Int(1), l),\n",
    "                  GE(Int(10), l)) for l in letters)\n",
    "\n",
    "sum_hello = Plus(hello)\n",
    "sum_world = Plus(world)\n",
    "\n",
    "problem = And(Equals(sum_hello, sum_world),\n",
    "              Equals(sum_hello, Int(25)))\n",
    "\n",
    "formula = And(domains, problem)\n",
    "\n",
    "print(formula)"
   ]
  },
  {
   "cell_type": "markdown",
   "id": "1426178d",
   "metadata": {
    "id": "1426178d"
   },
   "source": [
    "Se a fórmula for muito grande, certas subfórmulas podem ser mostradas como `...`. Se quiser garantir que vê sempre a fórmula toda use o método `serialize()`."
   ]
  },
  {
   "cell_type": "code",
   "execution_count": 9,
   "id": "df94e50e",
   "metadata": {
    "colab": {
     "base_uri": "https://localhost:8080/"
    },
    "id": "df94e50e",
    "outputId": "310dc9d5-d6de-408f-f39d-a182c7782605"
   },
   "outputs": [
    {
     "name": "stdout",
     "output_type": "stream",
     "text": [
      "Serialization of the formula:\n",
      "((((1 <= l) & (l <= 10)) & ((1 <= o) & (o <= 10)) & ((1 <= w) & (w <= 10)) & ((1 <= r) & (r <= 10)) & ((1 <= d) & (d <= 10)) & ((1 <= h) & (h <= 10)) & ((1 <= e) & (e <= 10))) & (((h + e + l + l + o) = (w + o + r + l + d)) & ((h + e + l + l + o) = 25)))\n"
     ]
    }
   ],
   "source": [
    "print(\"Serialization of the formula:\")\n",
    "print(formula.serialize())"
   ]
  },
  {
   "cell_type": "markdown",
   "id": "063e9f9f",
   "metadata": {
    "id": "063e9f9f"
   },
   "source": [
    "### Exercício 2\n",
    "\n",
    "Veja se o problema tem solução e, se tiver, apresente uma solução."
   ]
  },
  {
   "cell_type": "code",
   "execution_count": 10,
   "id": "d7118656",
   "metadata": {
    "colab": {
     "base_uri": "https://localhost:8080/"
    },
    "id": "d7118656",
    "outputId": "620571d9-66f8-4f2b-b302-af90f75b4b9d"
   },
   "outputs": [
    {
     "name": "stdout",
     "output_type": "stream",
     "text": [
      "True\n",
      "o := 1\n",
      "l := 2\n",
      "e := 10\n",
      "h := 10\n",
      "d := 2\n",
      "r := 10\n",
      "w := 10\n"
     ]
    }
   ],
   "source": [
    "# completar\n",
    "\n",
    "print(is_sat(formula))\n",
    "m = get_model(formula)\n",
    "print(m)"
   ]
  },
  {
   "cell_type": "markdown",
   "id": "2f55d569",
   "metadata": {
    "id": "2f55d569"
   },
   "source": [
    "Estas funções de atalho são muito úteis em situações pontuais. Contudo, a forma mais usual de utilização de um SMT solver consiste em criar uma instância de um `Solver` e trabalhar com ele de forma incremental. Isto faz-se através da função `Solver()`, e\n",
    "pode ser usado dentro de um contexto (com a instrução `with`) para lidar automaticamente com a destruição do solver e dos recursos associados.\n",
    "É possível especificar qual o solver que queremos executar e/ou a teoria lógica em que queremos trabalhar.\n",
    "\n",
    "Depois de criar o solver, podemos adicionar restrições de forma incremental (com o método `add_assertion()`), testar a satisfatibilidade desse conjunto de restrições (com o método `solve()`), inspecionar o modelo, etc.\n",
    "No exemplo abaixo lançamos o solver Z3 e, em primeiro lugar, verificamos se a fórmula `domain` é satisfazível. Depois, em caso afirmativo, continuamos a resolver o problema. Repare que, neste exemplo, acedemos ao valor de cada símbolo com o método `get_value()`. Porém, também podemos obter o modelo usando o método `get_model()`."
   ]
  },
  {
   "cell_type": "code",
   "execution_count": 11,
   "id": "65960918",
   "metadata": {
    "colab": {
     "base_uri": "https://localhost:8080/"
    },
    "id": "65960918",
    "outputId": "6fa0d618-87d3-49a1-d7c1-ec987c5fb880"
   },
   "outputs": [
    {
     "name": "stdout",
     "output_type": "stream",
     "text": [
      "l = 1\n",
      "o = 10\n",
      "w = 1\n",
      "r = 3\n",
      "d = 10\n",
      "h = 3\n",
      "e = 10\n"
     ]
    }
   ],
   "source": [
    "with Solver(name=\"z3\") as solver:\n",
    "    solver.add_assertion(domains)\n",
    "    if not solver.solve():\n",
    "        print(\"Domain is not SAT!!!\")\n",
    "        exit()\n",
    "    solver.add_assertion(problem)\n",
    "    if solver.solve():\n",
    "        for l in letters:\n",
    "            print(\"%s = %s\" %(l, solver.get_value(l)))\n",
    "    else:\n",
    "        print(\"No solution found\")"
   ]
  },
  {
   "cell_type": "markdown",
   "id": "c0b71f91",
   "metadata": {
    "id": "c0b71f91"
   },
   "source": [
    "### Exercício 3\n",
    "\n",
    "Altere o código acima de forma a usar o método `get_model()`, apresentado o resultado com o mesmo formato."
   ]
  },
  {
   "cell_type": "code",
   "execution_count": 12,
   "id": "a48d3916",
   "metadata": {
    "colab": {
     "base_uri": "https://localhost:8080/"
    },
    "id": "a48d3916",
    "outputId": "8b4e02c8-e0dc-4a60-decf-8869e478553f"
   },
   "outputs": [
    {
     "name": "stdout",
     "output_type": "stream",
     "text": [
      "l = 1\n",
      "o = 10\n",
      "w = 1\n",
      "r = 3\n",
      "d = 10\n",
      "h = 3\n",
      "e = 10\n"
     ]
    }
   ],
   "source": [
    "# completar\n",
    "with Solver(name=\"z3\") as solver:\n",
    "    solver.add_assertion(domains)\n",
    "    if not solver.solve():\n",
    "        print(\"Domain is not SAT!!!\")\n",
    "        exit()\n",
    "    solver.add_assertion(problem)\n",
    "    if solver.solve():\n",
    "        m = solver.get_model()\n",
    "        for l in letters:\n",
    "          print(\"%s = %s\" % (l, m.get_value(l)))\n",
    "    else:\n",
    "        print(\"No solution found\")"
   ]
  },
  {
   "cell_type": "markdown",
   "id": "936528e7",
   "metadata": {
    "id": "936528e7"
   },
   "source": [
    "Podemos lançar um solver simplemente com a indicação da teoria lógica com que queremos trabalhar.\n",
    "Neste caso, o solver é escolhido entre os solvers instalados que suportam essa lógica. Se não existir é gerada uma\n",
    "exceção (`NoSolverAvailableErro`).\n",
    "É claro que também podemos indicar o solver.\n",
    "\n",
    "No exemplo a seguir escolhe-se a lógica `QF_LIA` (*Quantifier-Free Linear Integer Arithmetic*)."
   ]
  },
  {
   "cell_type": "code",
   "execution_count": 13,
   "id": "978a3a10",
   "metadata": {
    "colab": {
     "base_uri": "https://localhost:8080/"
    },
    "id": "978a3a10",
    "outputId": "e952bed0-407c-45cd-d937-14f43b27d7a8"
   },
   "outputs": [
    {
     "name": "stdout",
     "output_type": "stream",
     "text": [
      "l = 10\n",
      "o = 10\n",
      "w = 10\n",
      "r = 5\n",
      "d = 1\n",
      "h = 5\n",
      "e = 1\n"
     ]
    }
   ],
   "source": [
    "from pysmt.shortcuts import Symbol, LE, GE, Int, And, Equals, Plus, Solver\n",
    "from pysmt.typing import INT\n",
    "\n",
    "hello = [Symbol(s, INT) for s in \"hello\"]\n",
    "world = [Symbol(s, INT) for s in \"world\"]\n",
    "\n",
    "letters = set(hello+world)\n",
    "\n",
    "domains = And([And(LE(Int(1), l),\n",
    "                   GE(Int(10), l)) for l in letters])\n",
    "\n",
    "sum_hello = Plus(hello)\n",
    "sum_world = Plus(world)\n",
    "\n",
    "problem = And(Equals(sum_hello, sum_world),\n",
    "              Equals(sum_hello, Int(36)))\n",
    "\n",
    "formula = And(domains, problem)\n",
    "\n",
    "with Solver(logic=\"QF_LIA\") as solver:\n",
    "    solver.add_assertion(domains)\n",
    "    if not solver.solve():\n",
    "        print(\"Domain is not SAT!!!\")\n",
    "        exit()\n",
    "    solver.add_assertion(problem)\n",
    "    if solver.solve():\n",
    "        for l in letters:\n",
    "            print(\"%s = %s\" %(l, solver.get_value(l)))\n",
    "    else:\n",
    "        print(\"No solution found\")"
   ]
  },
  {
   "cell_type": "markdown",
   "id": "20a4744d",
   "metadata": {
    "id": "20a4744d"
   },
   "source": [
    "### Exercício 4\n",
    "\n",
    "O Cryptarithms é um jogo que consiste numa equação matemática entre números desconhecidos, cujos dígitos são representados por letras. Cada letra deve representar um dígito diferente e o dígito inicial de um número com vários dígitos não deve ser zero.\n",
    "\n",
    "Queremos saber os dígitos a que correspondem as letras envolvidas na seguinte equação:\n",
    "```\n",
    "TWO + TWO = FOUR\n",
    "```\n",
    "Podemos modelar o problema numa teoria de inteiros. Cada letra dá origem a uma variável inteira ($T$,$W$,$O$,$F$,$U$, e $R$) e para representar a equação acima representamos cada parcela por uma expressão aritmética onde cada letra é multiplicada pelo seu “peso específico” (em base 10).\n",
    "\n",
    "Resolver este problema equivale a resolver o seguinte sistema de equações:\n",
    "$$\n",
    "\\left\\{\n",
    "\\begin{array}{l}\n",
    "0 \\le T \\le 9\\\\\n",
    "\\cdots\\\\\n",
    "0 \\le R \\le 9\\\\\n",
    "T \\neq W \\neq O \\neq F \\neq U \\neq R \\\\\n",
    "T \\neq 0\\\\\n",
    "F \\neq 0\\\\\n",
    "(100 \\times T + 10 \\times W + O) + (100 \\times T + 10 \\times W + O) = 1000 \\times F + 100 \\times O + 10 \\times U + R\n",
    "\\end{array}\n",
    "\\right.\n",
    "$$\n",
    "\n",
    "Use o Z3 para resolver este problema. Nota: poderá ser útil usar o operador `AllDifferent` e a função `Times`."
   ]
  },
  {
   "cell_type": "code",
   "execution_count": 14,
   "id": "2ffb91b5",
   "metadata": {
    "colab": {
     "base_uri": "https://localhost:8080/"
    },
    "id": "2ffb91b5",
    "outputId": "8eb8095c-5dfb-44d4-87ad-7b1828e425ef"
   },
   "outputs": [
    {
     "name": "stdout",
     "output_type": "stream",
     "text": [
      "T = 9\n",
      "W = 3\n",
      "O = 8\n",
      "F = 1\n",
      "U = 7\n",
      "R = 6\n"
     ]
    }
   ],
   "source": [
    "# completar\n",
    "\n",
    "from pysmt.shortcuts import Times, AllDifferent\n",
    "\n",
    "two = [Symbol(s, INT) for s in \"TWO\"]\n",
    "four = [Symbol(s, INT) for s in \"FOUR\"]\n",
    "\n",
    "\n",
    "letters = set(two+four)\n",
    "range = And([And(LE(Int(0), l),\n",
    "                   GE(Int(9), l)) for l in letters])\n",
    "\n",
    "words = [two, four]\n",
    "nonzero =  And([Not(Equals(w[0],Int(0))) for w in words])\n",
    "\n",
    "domains = And(range, nonzero)\n",
    "\n",
    "\n",
    "def word_eval(word):\n",
    "    ndigits = len(word)\n",
    "    total_value = Int(0)\n",
    "    for i,l in enumerate(word[::-1]):\n",
    "        factor = int(10**i)\n",
    "        value = Times(l, Int(factor))\n",
    "        total_value = Plus(total_value, value)\n",
    "    return total_value\n",
    "\n",
    "\n",
    "with Solver(name=\"z3\") as solver:\n",
    "    solver.add_assertion(domains)\n",
    "    solver.add_assertion(AllDifferent(letters))\n",
    "    if not solver.solve():\n",
    "        print(\"Domain is not SAT!!!\")\n",
    "        exit()\n",
    "\n",
    "    LHS = Times(word_eval(two), Int(2))\n",
    "    # LHS = Plus(LHS,LHS)\n",
    "    RHS = word_eval(four)\n",
    "    # eq = Equals(word_eval(two, solver),Int(10))\n",
    "    eq = Equals(LHS,RHS)\n",
    "    solver.add_assertion(eq)\n",
    "\n",
    "    if solver.solve():\n",
    "        for l in letters:\n",
    "            print(\"%s = %s\" %(l, solver.get_value(l)))\n",
    "    else:\n",
    "        print(\"No solution found\")"
   ]
  },
  {
   "cell_type": "markdown",
   "id": "f85ee232",
   "metadata": {
    "id": "f85ee232"
   },
   "source": [
    "### Exercício 5\n",
    "\n",
    "Considere o seguinte enigma:\n",
    "```\n",
    "- If the unicorn is mythical, then it is immortal.\n",
    "- If the unicorn is not mythical, then it is a mortal mammal.\n",
    "- If the unicorn is either immortal or a mammal, then it is horned.\n",
    "- The unicorn is magical if it is horned.\n",
    "\n",
    "Given these constraints:\n",
    "   - Is the unicorn magical?\n",
    "   - Is it horned?\n",
    "   - Is it mythical?\n",
    "```\n",
    "Modele o problema em lógica proposicional criando uma variável proposicional para cada caracteristica dos unicornios.\n",
    "Use um SMT solver para o resolver.\n",
    "\n",
    "**Sugestão:** Resolva o problema com o auxílio de 5 variáveis proposicionais, correspondentes às 5 propriedades dos unicórnios. Relembre que a afirmação $A_1, \\ldots, A_n \\models B$ é válida se e só se o conjunto de restrições $\\{A_1, \\ldots, A_n, \\neg B\\}$ é inconsistente. Tire proveito dos métodos `push()` e `pop()` para responder às várias questões usando de forma incremental o mesmo solver."
   ]
  },
  {
   "cell_type": "code",
   "execution_count": 15,
   "id": "71bd9324",
   "metadata": {
    "colab": {
     "base_uri": "https://localhost:8080/"
    },
    "id": "71bd9324",
    "outputId": "67233fa0-02d4-4684-fe13-5cbea73c03b0"
   },
   "outputs": [
    {
     "name": "stdout",
     "output_type": "stream",
     "text": [
      "> The premises imply that unicorns are magical.\n",
      "> The premises imply that unicorns are horned.\n",
      "> The premises imply that unicorns are not mythical.\n",
      "mythical = False\n",
      "immortal = False\n",
      "mammal = True\n",
      "horned = True\n",
      "magical = True\n"
     ]
    }
   ],
   "source": [
    "# completar\n",
    "from pysmt.shortcuts import BOOL, EqualsOrIff, Implies\n",
    "\n",
    "properties = [Symbol(p, BOOL) \\\n",
    "              for p in [\"mythical\", \"immortal\", \"mammal\", \"horned\", \"magical\"]]\n",
    "\n",
    "def get_premises():\n",
    "    One = Implies(properties[0], properties[1])\n",
    "    Two = Implies(Not(properties[0]), properties[2])\n",
    "    Three = Implies(Or(properties[1], properties[2]), properties[3])\n",
    "    Four = EqualsOrIff(properties[3], properties[4])\n",
    "    premises = [One, Two, Three, Four]\n",
    "    return premises\n",
    "\n",
    "def is_implied(prop, solver, vars):\n",
    "    solver.push()\n",
    "    solver.add_assertion(Not(prop))\n",
    "    if solver.solve():\n",
    "        print(f\"> The premises imply that unicorns are not {prop}.\")\n",
    "        for v in vars:\n",
    "            print(\"%s = %s\" %(v, solver.get_value(v)))\n",
    "    else:\n",
    "        print(f\"> The premises imply that unicorns are {prop}.\")\n",
    "    solver.pop()\n",
    "\n",
    "with Solver(name=\"z3\") as solver:\n",
    "    premises = get_premises()\n",
    "    for p in premises:\n",
    "        solver.add_assertion(p)\n",
    "\n",
    "    to_check = [properties[i] for i in [4, 3, 0]]\n",
    "    for prop in to_check:\n",
    "        is_implied(prop, solver, properties)"
   ]
  },
  {
   "cell_type": "markdown",
   "id": "Ts23YIlajZQj",
   "metadata": {
    "id": "Ts23YIlajZQj"
   },
   "source": [
    "## Breve introdução à utilização do SCIP em Python\n",
    "\n",
    "A documentação do OR-Tools pode ser encontrada em https://developers.google.com/optimization/introduction/overview.\n",
    "\n",
    "Para resolver um problema de programação inteira com esta biblioteca é necessário seguir uma série de passos:\n",
    "1. Importar a biblioteca de programação linear do OR-Tools usando o comando `from ortools.linear_solver import pywraplp`\n",
    "1. Criar uma instância do *solver* com o método `pywraplp.Solver.CreateSolver('SCIP')`.\n",
    "1. Adicionar as variáveis do problema. Para criar uma variável inteira deve ser usado o método `IntVar` que recebe 3 parâmetros: o limite inferior, o limite superior, e o nome da variável. Na definição dos limites pode ser usada a constante `solver.infinity()`. O método `NumVar` pode ser usado para criar uma variável contínua, e o método `BoolVar` para criar uma variável inteira binária. Neste último caso, o método só tem um parâmetro que é o nome da variável, sendo os limites pré-definidos como 0 e 1.\n",
    "1. Adicionar as restrições do problema usando o método `Add`. A restrição é definida com a sintaxe normal Python, podendo também ser usada a função `sum` para fazer o somatório de uma lista de expressões aritméticas.\n",
    "1. Definir o objectivo do problema com os métodos `Maximize` ou `Minimize`, que recebem como parâmetro a função objectivo. Mais uma vez a função objectivo é definida com a sintaxe usual do Python. Este passo é opcional: se não for definido um objectivo será calculada uma qualquer solução.\n",
    "1. Invocar o solver com o método `Solve`. Este método pode devolver um dos seguintes códigos:\n",
    "  - `pywraplp.Solver.OPTIMAL`, quando é possível resolver o problema.\n",
    "  - `pywraplp.Solver.INFEASIBLE`, quando não é possível resolver o problema.\n",
    "  - `pywraplp.Solver.UNBOUNDED`, quando a solução não está limitada superiormente (no caso do `Maximize`) ou inferiormente (no caso do `Minimize`).\n",
    "1. Interpretar os resultados no caso do resultado ser `pywraplp.Solver.OPTIMAL`. Para saber o valor de uma variável pode ser usado o método `solution_value`, que devolve sempre um `double`. Também é possível aceder à função objectivo com o método `Objective` e ao respectivo valor com o método `Value`. Para converter o valor do tipo `double` para um `int` deve ser usada a função `round`, pois o valor pode sofrer de pequenos erros de precisão."
   ]
  },
  {
   "cell_type": "markdown",
   "id": "IaXaHfESjfQo",
   "metadata": {
    "id": "IaXaHfESjfQo"
   },
   "source": [
    "Por exemplo, o programa seguinte tenta encontrar $x$ e $y$ que minimizem $3x+4y$ satisfazendo as seguintes restrições:\n",
    "\n",
    "$$\n",
    "\\left\\{\n",
    "\\begin{array}{l}\n",
    "5x + 6y \\ge 11\\\\\n",
    "7x + 5y \\ge 5\\\\\n",
    "x \\ge 0\\\\\n",
    "y \\ge 0\n",
    "\\end{array}\n",
    "\\right.\n",
    "$$"
   ]
  },
  {
   "cell_type": "code",
   "execution_count": 16,
   "id": "m5egayMKjlCx",
   "metadata": {
    "colab": {
     "base_uri": "https://localhost:8080/"
    },
    "id": "m5egayMKjlCx",
    "outputId": "4ba6b6fb-f5ca-466f-b9de-a64268269446"
   },
   "outputs": [
    {
     "name": "stdout",
     "output_type": "stream",
     "text": [
      "x =  1\n",
      "y =  1\n",
      "objectivo =  7\n"
     ]
    }
   ],
   "source": [
    "# Importar biblioteca\n",
    "from ortools.linear_solver import pywraplp\n",
    "# Criar instância do solver\n",
    "solver = pywraplp.Solver.CreateSolver('SCIP')\n",
    "# Adicionar variáveis\n",
    "x = solver.IntVar(0.0,solver.infinity(),\"x\")\n",
    "y = solver.IntVar(0.0,solver.infinity(),\"y\")\n",
    "# Adicionar restrições\n",
    "solver.Add(5*x + 6*y >= 11)\n",
    "solver.Add(7*x + 5*y >= 5)\n",
    "# Definir objectivo\n",
    "solver.Minimize(3*x + 4*y)\n",
    "# Invocar o solver\n",
    "status = solver.Solve()\n",
    "# Interpretar os resultados\n",
    "print (\"x = \",round(x.solution_value()))\n",
    "print (\"y = \",round(y.solution_value()))\n",
    "print (\"objectivo = \",round(solver.Objective().Value()))"
   ]
  },
  {
   "cell_type": "markdown",
   "id": "AXAGRVbVkoAm",
   "metadata": {
    "id": "AXAGRVbVkoAm"
   },
   "source": [
    "Acrescente as restrições $y=0$, $x \\leq 2$. Qual é o resultado?"
   ]
  },
  {
   "cell_type": "code",
   "execution_count": 17,
   "id": "77LClaynkzZ3",
   "metadata": {
    "colab": {
     "base_uri": "https://localhost:8080/"
    },
    "id": "77LClaynkzZ3",
    "outputId": "8d664371-3fb6-4c20-d0e1-abfb7abf7b28"
   },
   "outputs": [
    {
     "name": "stdout",
     "output_type": "stream",
     "text": [
      "x =  0\n",
      "y =  0\n",
      "objectivo =  0\n",
      "The problem is not feasible.\n"
     ]
    }
   ],
   "source": [
    "# completar\n",
    "\n",
    "solver.Add(y==0)\n",
    "solver.Add(x<=2)\n",
    "\n",
    "status = solver.Solve()\n",
    "\n",
    "print (\"x = \",round(x.solution_value()))\n",
    "print (\"y = \",round(y.solution_value()))\n",
    "print (\"objectivo = \",round(solver.Objective().Value()))\n",
    "\n",
    "# The solution does not make sense (the restraints are not satisfied)! Check status:\n",
    "if status==pywraplp.Solver.INFEASIBLE:\n",
    "    print(\"The problem is not feasible.\")\n",
    "if status==pywraplp.Solver.FEASIBLE:\n",
    "    print(\"The problem is feasible.\")\n",
    "if status==pywraplp.Solver.OPTIMAL:\n",
    "    print(\"The solution is optimal.\")"
   ]
  },
  {
   "cell_type": "markdown",
   "id": "_FPJYLRZ22in",
   "metadata": {
    "id": "_FPJYLRZ22in"
   },
   "source": [
    "Em alternativa aos métodos `Add` e `Minimize`, é possível utilizar os métodos `Constraint`, `SetCoefficient`, `Objective` e `SetMinimization` ou `SetMaximization`. Reescreva o código anterior utilizando estes últimos."
   ]
  },
  {
   "cell_type": "code",
   "execution_count": 18,
   "id": "bYsW1_U4zURk",
   "metadata": {
    "colab": {
     "base_uri": "https://localhost:8080/",
     "height": 254
    },
    "id": "bYsW1_U4zURk",
    "outputId": "6b7b95ab-eeb6-417b-945f-696c369d6035"
   },
   "outputs": [
    {
     "name": "stdout",
     "output_type": "stream",
     "text": [
      "The solution is optimal.\n",
      "x =  1\n",
      "y =  1\n",
      "objectivo =  7\n"
     ]
    }
   ],
   "source": [
    "# completar\n",
    "from ortools.linear_solver import pywraplp\n",
    "\n",
    "solver = pywraplp.Solver.CreateSolver('SCIP')\n",
    "# Adicionar variáveis\n",
    "x = solver.IntVar(0.0,solver.infinity(),\"x\")\n",
    "y = solver.IntVar(0.0,solver.infinity(),\"y\")\n",
    "\n",
    "c1 = solver.Constraint(11, solver.infinity(), \"c1\")\n",
    "c1.SetCoefficient(x, 5)\n",
    "c1.SetCoefficient(y, 6)\n",
    "\n",
    "c2 = solver.Constraint(5, solver.infinity(), \"c2\")\n",
    "c2.SetCoefficient(x, 7)\n",
    "c2.SetCoefficient(y, 5)\n",
    "\n",
    "objective = solver.Objective()\n",
    "objective.SetCoefficient(x, 3)\n",
    "objective.SetCoefficient(y, 4)\n",
    "objective.SetMinimization()\n",
    "\n",
    "status = solver.Solve()\n",
    "\n",
    "if status==pywraplp.Solver.INFEASIBLE:\n",
    "    print(\"The problem is not feasible.\")\n",
    "if status==pywraplp.Solver.FEASIBLE:\n",
    "    print(\"The problem is feasible.\")\n",
    "if status==pywraplp.Solver.OPTIMAL:\n",
    "    print(\"The solution is optimal.\")\n",
    "    print (\"x = \",round(x.solution_value()))\n",
    "    print (\"y = \",round(y.solution_value()))\n",
    "    print (\"objectivo = \",round(solver.Objective().Value()))"
   ]
  },
  {
   "cell_type": "markdown",
   "id": "25cJ_Dlq7_7E",
   "metadata": {
    "id": "25cJ_Dlq7_7E"
   },
   "source": [
    "Reverta o sentido da primeira restrição, i.e., imponha $5x + 6y \\le 11$, mantendo as restantes. Qual é a nova solução?\n",
    "\n",
    "Nota: poderá ser útil usar os métodos `Clear` e `SetBounds`  da classe `Constraint`."
   ]
  },
  {
   "cell_type": "code",
   "execution_count": 19,
   "id": "QOc__kDv5oYj",
   "metadata": {
    "colab": {
     "base_uri": "https://localhost:8080/"
    },
    "id": "QOc__kDv5oYj",
    "outputId": "6922704a-a3ba-4db2-f0c8-2f32dd39b9fc"
   },
   "outputs": [
    {
     "name": "stdout",
     "output_type": "stream",
     "text": [
      "x =  1\n",
      "y =  0\n",
      "objectivo =  3\n",
      "The solution is optimal.\n"
     ]
    }
   ],
   "source": [
    "# completar\n",
    "\n",
    "c1.Clear()\n",
    "\n",
    "c1.Clear()\n",
    "c1.SetBounds(-solver.infinity(), 11)\n",
    "\n",
    "status = solver.Solve()\n",
    "\n",
    "print (\"x = \",round(x.solution_value()))\n",
    "print (\"y = \",round(y.solution_value()))\n",
    "print (\"objectivo = \",round(solver.Objective().Value()))\n",
    "\n",
    "if status==pywraplp.Solver.INFEASIBLE:\n",
    "    print(\"The problem is not feasible.\")\n",
    "if status==pywraplp.Solver.FEASIBLE:\n",
    "    print(\"The problem is feasible.\")\n",
    "if status==pywraplp.Solver.OPTIMAL:\n",
    "    print(\"The solution is optimal.\")"
   ]
  },
  {
   "cell_type": "code",
   "execution_count": null,
   "id": "af54b576",
   "metadata": {},
   "outputs": [],
   "source": []
  }
 ],
 "metadata": {
  "colab": {
   "provenance": []
  },
  "kernelspec": {
   "display_name": "Python 3 (ipykernel)",
   "language": "python",
   "name": "python3"
  },
  "language_info": {
   "codemirror_mode": {
    "name": "ipython",
    "version": 3
   },
   "file_extension": ".py",
   "mimetype": "text/x-python",
   "name": "python",
   "nbconvert_exporter": "python",
   "pygments_lexer": "ipython3",
   "version": "3.10.14"
  }
 },
 "nbformat": 4,
 "nbformat_minor": 5
}
