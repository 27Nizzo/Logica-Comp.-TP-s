{
 "cells": [
  {
   "cell_type": "markdown",
   "metadata": {
    "id": "UqLU0IeuTGUH"
   },
   "source": [
    "# *Bounded Model Checking*\n",
    "\n",
    "Nesta aula vamos estudar *model checking*, uma das técnicas mais utilizadas para verificação automática de propriedades de sistemas dinâmicos (sistemas caracterizados por um estado que evolui ao longo do tempo). O *model checking* tem por objectivo verificar automaticamente se uma propriedade (tipicamente especificada numa lógica temporal) é válida num modelo do sistema (tipicamente formalizado como um sistema de transição). Mais concretamente vamos estudar uma técnica de *bounded model checking*, onde o objectivo é verificar se uma propriedade é válida considerando apenas um dado número máximo de estados da execução do sistema.\n",
    "\n",
    "\n",
    "Vamos usar a biblioteca [pySMT](https://github.com/pysmt/pysmt), apresentada na ficha 1, que permite que um programa em Python comunique com vários SMT solvers, tendo por base uma linguagem comum.\n",
    "A documentação do pySMT pode ser encontrada em https://pysmt.readthedocs.io/en/latest/index.html."
   ]
  },
  {
   "cell_type": "markdown",
   "metadata": {
    "id": "HvSqi-xHTGUN"
   },
   "source": [
    "## *First-order Transition Systems* (FOTS)\n",
    "\n",
    "FOTS são modelos de sistemas dinâmicos que são determinados por um espaço de estados, uma relação de transição de estados e um conjunto de estados iniciais. Nos FOTS o conjunto de estados iniciais é descrito por um predicado unário (*init*) sobre o vector de variáveis associado ao espaço de estados, e a relação de transição é descrita por um predicado binário (*trans*) sobre dois vectores de variáveis que representam o estado antes e depois da transição."
   ]
  },
  {
   "cell_type": "markdown",
   "metadata": {
    "id": "BuJbOTLATGUN"
   },
   "source": [
    "### Modelação de programas com FOTS\n",
    "\n",
    "Um programa pode ser modelado por um FOTS da seguinte forma:\n",
    "- O estado é constituído pelas variáveis do programa mais uma variável para o respectivo *program counter*\n",
    "- Os estados iniciais são caracterizados implicitamente por um predicado sobre as variáveis de estado\n",
    "- As transições são caracterizadas implicitamente por um predicado sobre pares de estados\n",
    "\n",
    "Considere, por exemplo o programa seguinte, anotado com uma pré-condição que restringe o valor inicial de $x$:\n",
    "\n",
    "```Python\n",
    "{ x >= 3 }\n",
    "0: while (x>0):\n",
    "1:    x = x-1\n",
    "2: stop\n",
    "```\n",
    "\n",
    "Neste caso o estado do FOTS respectivo será um par de inteiros, o primeiro contendo o valor do $\\mathit{pc}$ (o *program counter* que neste caso pode ser 0, 1 ou 2) e o segundo o valor da variável $x$. O estado inicial é caracterizado pelo seguinte predicado:\n",
    "\n",
    "$$\n",
    "\\mathit{pc} = 0 \\wedge x \\ge 3\n",
    "$$\n",
    "\n",
    "As transições possíveis no FOTS são caracterizadas pelo seguinte predicado:\n",
    "\n",
    "$$\n",
    "\\begin{array}{c}\n",
    "(\\mathit{pc} = 0 \\wedge x > 0 \\wedge \\mathit{pc}' = 1 \\wedge x' = x)\\\\\n",
    "\\vee\\\\\n",
    "(\\mathit{pc} = 0 \\wedge x \\le 0 \\wedge \\mathit{pc}' = 2 \\wedge x' = x) \\\\\n",
    "\\vee\\\\\n",
    "(\\mathit{pc} = 1 \\wedge \\mathit{pc}' = 0 \\wedge x' = x - 1) \\\\\n",
    "\\vee\\\\\n",
    "(\\mathit{pc} = 2 \\wedge \\mathit{pc}' = 2 \\wedge x' = x)\n",
    "\\end{array}\n",
    "$$\n",
    "\n",
    "Note que este predicado é uma disjunção de todas as possíveis transições que podem ocorrer no programa. Cada transição é caracterizada por um predicado onde uma variável do programa denota o seu valor no pré-estado e a mesma variável com apóstrofe denota o seu valor no pós-estado. É usual exigir que cada estado do FOTS tenha pelo menos um sucessor, pelo que o estado final do programa é caracterizado por uma transição para ele próprio (um lacete).\n",
    "\n",
    "Usando estes predicados podemos usar um SMT solver para, por exemplo, gerar uma possível execução de $k\\!-\\!1$ passos do programa (em que $k>0$). Para tal precisamos de criar $k$ cópias das variáveis que caracterizam o estado do FOTS e depois impor que a primeira cópia satisfaz o predicado inicial e que cada par de cópias consecutivas satisfazem o predicado de transição.\n",
    "\n",
    "Começamos por importar o módulo `pysmt.shortcuts` que oferece uma API simplificada que disponibiliza as funcionalidades para a utilização usual de um SMT solver.\n",
    "Os tipos estão definidos no módulo `pysmt.typing` de onde temos que importar o tipo `INT`."
   ]
  },
  {
   "cell_type": "code",
   "execution_count": 3,
   "metadata": {
    "id": "yAgIkZDd1wQl"
   },
   "outputs": [],
   "source": [
    "from pysmt.shortcuts import *\n",
    "from pysmt.typing import INT"
   ]
  },
  {
   "cell_type": "markdown",
   "metadata": {
    "id": "9feVCe-e1wQm"
   },
   "source": [
    "A seguinte função cria a $i$-ésima cópia das variáveis de estado, agrupadas num dicionário que nos permite aceder às mesmas pelo nome."
   ]
  },
  {
   "cell_type": "code",
   "execution_count": 4,
   "metadata": {
    "id": "LVPq3HTNTGUO"
   },
   "outputs": [],
   "source": [
    "def declare(i):\n",
    "    state = {}\n",
    "    state['pc'] = Symbol('pc'+str(i),INT)\n",
    "    state['x'] = Symbol('x'+str(i),INT)\n",
    "    return state"
   ]
  },
  {
   "cell_type": "markdown",
   "metadata": {
    "id": "dl3FgSJtTGUQ"
   },
   "source": [
    "### Exercício 1\n",
    "\n",
    "Defina a função `init` que, dado um possível estado do programa (um dicionário de variáveis), devolva um predicado do pySMT que testa se esse estado é um possível estado inicial do programa."
   ]
  },
  {
   "cell_type": "code",
   "execution_count": 5,
   "metadata": {
    "id": "PZ4dnt1VTGUR"
   },
   "outputs": [],
   "source": [
    "def init(state):\n",
    "    # completar\n",
    "    A = Equals(state['pc'], Int(0))\n",
    "    B = GE(state['x'], Int(3))\n",
    "    return And(A, B)"
   ]
  },
  {
   "cell_type": "markdown",
   "metadata": {
    "id": "nhFyExLWTGUR"
   },
   "source": [
    "### Exercício 2\n",
    "\n",
    "Defina a função `trans` que, dados dois possíveis estados do programa, devolva um predicado do pySMT que testa se é possível transitar do primeiro para o segundo."
   ]
  },
  {
   "cell_type": "code",
   "execution_count": 6,
   "metadata": {
    "id": "8F3Q9hScTGUR"
   },
   "outputs": [],
   "source": [
    "def trans(curr,prox):\n",
    "    # completar\n",
    "    t01 = And(Equals(curr['pc'], Int(0)), GT(curr['x'], Int(0)), Equals(prox['pc'], Int(1)), Equals(prox['x'], curr['x']))\n",
    "    t02 = And(Equals(curr['pc'], Int(0)), LE(curr['x'], Int(0)), Equals(prox['pc'], Int(2)), Equals(prox['x'], curr['x'])) \n",
    "    t10 = And(Equals(curr['pc'], Int(1)), Equals(prox['pc'], Int(0)), Equals(prox['x'] + Int(1), curr['x']))\n",
    "    t22 = And(Equals(curr['pc'], Int(2)), Equals(prox['pc'], Int(2)), Equals(prox['x'], curr['x']))\n",
    "    return Or(t01, t02, t10, t22)"
   ]
  },
  {
   "cell_type": "markdown",
   "metadata": {
    "id": "H43N7v42TGUS"
   },
   "source": [
    "### Exercício 3\n",
    "\n",
    "Complete a função de ordem superior `gera_traco` que, dada uma função que gera uma cópia das variáveis do estado, um predicado que testa se um estado é inicial, um predicado que testa se um par de estados é uma transição válida, e um número positivo `k`, use o SMT solver para gerar um possível traço de execução do programa de tamanho `k`. Para cada estado do traço deverá imprimir o respectivo valor das variáveis."
   ]
  },
  {
   "cell_type": "code",
   "execution_count": 7,
   "metadata": {
    "colab": {
     "base_uri": "https://localhost:8080/"
    },
    "id": "f6bVg4XXTGUS",
    "outputId": "5be487c4-0228-428c-a0a4-2e3589f2ab21"
   },
   "outputs": [
    {
     "name": "stdout",
     "output_type": "stream",
     "text": [
      "> State 0: x = 10, pc= 0.\n",
      "> State 1: x = 10, pc= 1.\n",
      "> State 2: x = 9, pc= 0.\n",
      "> State 3: x = 9, pc= 1.\n",
      "> State 4: x = 8, pc= 0.\n",
      "> State 5: x = 8, pc= 1.\n",
      "> State 6: x = 7, pc= 0.\n",
      "> State 7: x = 7, pc= 1.\n",
      "> State 8: x = 6, pc= 0.\n",
      "> State 9: x = 6, pc= 1.\n",
      "> State 10: x = 5, pc= 0.\n",
      "> State 11: x = 5, pc= 1.\n",
      "> State 12: x = 4, pc= 0.\n",
      "> State 13: x = 4, pc= 1.\n",
      "> State 14: x = 3, pc= 0.\n",
      "> State 15: x = 3, pc= 1.\n",
      "> State 16: x = 2, pc= 0.\n",
      "> State 17: x = 2, pc= 1.\n",
      "> State 18: x = 1, pc= 0.\n",
      "> State 19: x = 1, pc= 1.\n"
     ]
    }
   ],
   "source": [
    "def gera_traco(declare,init,trans,k):\n",
    "    # completar\n",
    "    states = [declare(i) for i in range(k)]\n",
    "    with Solver() as solver:\n",
    "        solver.add_assertion(init(states[0]))\n",
    "        for i in range(k-1):\n",
    "            solver.add_assertion(trans(states[i], states[i+1]))\n",
    "        \n",
    "        if solver.solve():\n",
    "            for i,s in enumerate(states):\n",
    "                print(f\"> State {i}: x = {solver.get_value(s['x'])}, pc= {solver.get_value(s['pc'])}.\")\n",
    "            pass\n",
    "        else:\n",
    "            print(\"> Not feasible.\")\n",
    "\n",
    "gera_traco(declare,init,trans,20)"
   ]
  },
  {
   "cell_type": "markdown",
   "metadata": {
    "id": "ytDfWWjgTGUT"
   },
   "source": [
    "## Lógica temporal linear (LTL)\n",
    "\n",
    "Sobre este FOTS podemos querer verificar várias propriedades temporais, como por exemplo:\n",
    "1. $x$ é sempre não negativo\n",
    "2. $x$ é sempre diferente de 1\n",
    "3. $x$ chega inevitavelmente a 0\n",
    "4. $x$ chega inevitavelmente a um valor negativo\n",
    "5. o programa termina\n",
    "\n",
    "Estas propriedades são de natureza muito diferente. As duas primeiras são *propriedades de segurança* (*safety*) que, em geral, garantem que \"nada de mau irá acontecer\". Neste caso em particular são invariantes, ou seja, propriedades que devem ser verdade em todos os estados da execução do programa. As três últimas são *propriedades de animação* (*liveness*) que, em geral, garantem que \"algo de bom irá acontecer\".\n",
    "\n",
    "A lógica LTL introduz *operadores temporais* que nos permitem escrever estas propriedades formalmente. Os operadores mais conhecidos são o $G$, que informalmente significa \"*é sempre verdade que*\", e o $F$, que informalmente significa \"*é inevitável que*\". Com estes operadores, as propriedades acima podem ser especificadas formalmente do seguinte modo\n",
    "1. $G\\ (x \\ge 0)$\n",
    "2. $G\\ (x \\neq 1)$\n",
    "3. $F\\ (x = 0)$\n",
    "4. $F\\ (x < 0)$\n",
    "5. $F\\ (pc = 2)$\n",
    "\n",
    "## *Bounded Model Checking* (BMC) para LTL\n",
    "\n",
    "Como é óbvio, nem todas estas propriedades são válidas. Em particular a 2ª e a 4ª não o são. O objectivo da verificação é precisamente determinar se uma propriedade temporal é válida num FOTS ou não. Este procedimento designa-se *model checking* e, quando uma propriedade não é válida, produz um contra-exemplo (um traço do FOTS correspondente a uma execução do programa onde a propriedade falha). Nesta aula vamos estudar uma técnica particular de *model checking* designada *bounded model checking*, onde o objectivo é determinar se uma propriedade temporal é válida nos primeiros $K$ estados da execução do FOTS.\n",
    "\n",
    "A ideia passa por usar um SMT solver para tentar descobrir um contra-exemplo para uma dada propriedade. Para simplificar vamos abordar apenas dois casos: verificação de invariantes da forma $G\\ \\phi$ e propriedades de animação simples da forma $F\\ \\phi$, em que $\\phi$ é uma fórmula sem operadores temporais.\n",
    "\n",
    "### BMC de invariantes\n",
    "\n",
    "Para fazer BMC de um invariante, por exemplo $G\\ (x \\ge 0)$ basta-nos usar o solver para encontrar um contra-exemplo com no máximo $K$ estados onde a propriedade $(x \\ge 0)$ seja inválida nalgum estado. Para tal podemos implementar um procedimento iterativo que tenta encontrar esse contra-exemplo com tamanhos crescentes, começando com tamanho 1 até ao tamanho máximo $K$. Para cada tamanho $0 < k \\le K$ basta tentar encontrar um possível traço onde o invariante a verificar seja inválido no último estado. Para tal podemos usar um código muito semelhante ao da função `gera_traco`. O procedimento é interrompido mal um contra-exemplo seja encontrado, sendo garantido que esse é um contra-exemplo mínimo para essa propriedade."
   ]
  },
  {
   "cell_type": "markdown",
   "metadata": {
    "id": "DtlOV8enTGUU"
   },
   "source": [
    "### Exercício 4\n",
    "\n",
    "Complete a definição da função de ordem superior `bmc_always` que, dada uma função que gera uma cópia das variáveis do estado, um predicado que testa se um estado é inicial, um predicado que testa se um par de estados é uma transição válida, um invariante a verificar, e um número positivo `K`, use o SMT solver para verificar se esse invariante é sempre válido nos primeiros `K-1` passos de execução do programa, ou devolva um contra-exemplo mínimo caso não seja."
   ]
  },
  {
   "cell_type": "code",
   "execution_count": 4,
   "metadata": {
    "colab": {
     "base_uri": "https://localhost:8080/"
    },
    "id": "wk0hQWBl1wQp",
    "outputId": "0b7f93a0-4c34-4edc-99d3-ee5045df05e7"
   },
   "outputs": [
    {
     "ename": "NameError",
     "evalue": "name 'declare' is not defined",
     "output_type": "error",
     "traceback": [
      "\u001b[0;31m---------------------------------------------------------------------------\u001b[0m",
      "\u001b[0;31mNameError\u001b[0m                                 Traceback (most recent call last)",
      "Cell \u001b[0;32mIn[4], line 28\u001b[0m\n\u001b[1;32m     25\u001b[0m \u001b[38;5;28;01mdef\u001b[39;00m \u001b[38;5;21mnonnegative\u001b[39m(state):\n\u001b[1;32m     26\u001b[0m     \u001b[38;5;28;01mreturn\u001b[39;00m GE(state[\u001b[38;5;124m'\u001b[39m\u001b[38;5;124mx\u001b[39m\u001b[38;5;124m'\u001b[39m], Int(\u001b[38;5;241m0\u001b[39m))\n\u001b[0;32m---> 28\u001b[0m bmc_always(\u001b[43mdeclare\u001b[49m,init,trans,nonnegative,\u001b[38;5;241m20\u001b[39m)\n",
      "\u001b[0;31mNameError\u001b[0m: name 'declare' is not defined"
     ]
    }
   ],
   "source": [
    "def bmc_always(declare,init,trans,inv,K):\n",
    "    # completar\n",
    "    with Solver() as solver:\n",
    "        states = [declare(i) for i in range(K)]\n",
    "        solver.add_assertion(init(states[0]))\n",
    "        \n",
    "        for k in range(K):\n",
    "            if k>0:\n",
    "                solver.add_assertion(trans(states[k-1], states[k]))\n",
    "            \n",
    "            solver.push()\n",
    "            solver.add_assertion(Not(inv(states[k])))\n",
    "\n",
    "            if solver.solve():\n",
    "                print(f\"> Invariant does not hold for {k+1} first states. Counter-example:\")\n",
    "                for i,s in enumerate(states[:k+1]):\n",
    "                    print(f\"> State {i}: x = {solver.get_value(s['x'])}, pc= {solver.get_value(s['pc'])}.\")\n",
    "                return\n",
    "            else:\n",
    "                if k==K-1:\n",
    "                    print(f\"> Invariant holds for the first {K} states.\")\n",
    "                else:\n",
    "                    solver.pop()\n",
    "\n",
    "def nonnegative(state):\n",
    "    return GE(state['x'], Int(0))\n",
    "\n",
    "bmc_always(declare,init,trans,nonnegative,20)"
   ]
  },
  {
   "cell_type": "markdown",
   "metadata": {
    "id": "wslkjoYpTGUW"
   },
   "source": [
    "### Exercício 5\n",
    "\n",
    "Use o procedimento `bmc_always` para encontrar um contra-exemplo para a segunda propriedade especificada acima."
   ]
  },
  {
   "cell_type": "code",
   "execution_count": 5,
   "metadata": {
    "colab": {
     "base_uri": "https://localhost:8080/"
    },
    "id": "GrpLVknVTGUW",
    "outputId": "e1e9f54f-6292-4636-dc4f-dbb3fac56d14"
   },
   "outputs": [
    {
     "ename": "NameError",
     "evalue": "name 'declare' is not defined",
     "output_type": "error",
     "traceback": [
      "\u001b[0;31m---------------------------------------------------------------------------\u001b[0m",
      "\u001b[0;31mNameError\u001b[0m                                 Traceback (most recent call last)",
      "Cell \u001b[0;32mIn[5], line 5\u001b[0m\n\u001b[1;32m      2\u001b[0m \u001b[38;5;28;01mdef\u001b[39;00m \u001b[38;5;21mnotone\u001b[39m(state):\n\u001b[1;32m      3\u001b[0m     \u001b[38;5;28;01mreturn\u001b[39;00m Not(Equals(state[\u001b[38;5;124m'\u001b[39m\u001b[38;5;124mx\u001b[39m\u001b[38;5;124m'\u001b[39m], Int(\u001b[38;5;241m1\u001b[39m)))\n\u001b[0;32m----> 5\u001b[0m bmc_always(\u001b[43mdeclare\u001b[49m,init,trans,notone,\u001b[38;5;241m20\u001b[39m)\n",
      "\u001b[0;31mNameError\u001b[0m: name 'declare' is not defined"
     ]
    }
   ],
   "source": [
    "# completar\n",
    "def notone(state):\n",
    "    return Not(Equals(state['x'], Int(1)))\n",
    "\n",
    "bmc_always(declare,init,trans,notone,20)"
   ]
  },
  {
   "cell_type": "markdown",
   "metadata": {
    "id": "vR0Epco4TGUX"
   },
   "source": [
    "### BMC de propriedades de animação\n",
    "\n",
    "Para fazer BMC de propriedades de animação da forma $F\\ \\phi$ o prodimento é ligeiramente mais complicado. Neste caso não basta encontrar um traço aberto com no máximo $K$ estados onde $\\phi$ nunca seja válida, pois tal contra-exemplo não seria convincente: nada garante que $\\phi$ não pudesse ser válida num ponto mais tarde da execução. Neste caso, o contra-exemplo teria que ser uma execução completa do programa que demonstre inequivocamente que a propriedade não é válida. É possível encontrar uma execução completa do programa com no máximo $K$ estados se a mesma tiver um *loop* no último estado, mais concretamente, uma transição para um dos estados precedentes."
   ]
  },
  {
   "cell_type": "markdown",
   "metadata": {
    "id": "3kHk9FDkTGUX"
   },
   "source": [
    "### Exercício 6\n",
    "\n",
    "Complete a definição da função de ordem superior `bmc_eventually` que, dada uma função que gera uma cópia das variáveis do estado, um predicado que testa se um estado é inicial, um predicado que testa se um par de estados é uma transição válida, uma propriedade cuja inevitabilidade se pretende verificar, e um número positivo `K`, use o SMT solver para encontrar um contra-exemplo para essa propriedade considerando apenas os primeiros `K` estados de execução do programa. Note que neste caso um contra-exemplo tem que ser necessariamente um *loop* (no sentido acima referido) onde a propriedade desejada nunca seja válida."
   ]
  },
  {
   "cell_type": "code",
   "execution_count": 8,
   "metadata": {
    "colab": {
     "base_uri": "https://localhost:8080/"
    },
    "id": "1wyINvR9TGUY",
    "outputId": "73c8c1a8-66ef-4d2b-815b-8969b2d79108"
   },
   "outputs": [
    {
     "name": "stdout",
     "output_type": "stream",
     "text": [
      "> Property holds for execution of length 20.\n",
      "> Property holds for execution of length 20.\n"
     ]
    }
   ],
   "source": [
    "def bmc_eventually(declare,init,trans,prop,bound):\n",
    "    # completar\n",
    "    with Solver() as solver:\n",
    "        states = [declare(i) for i in range(bound)]\n",
    "        solver.add_assertion(init(states[0]))\n",
    "        \n",
    "        for k in range(bound):\n",
    "            if k > 0:\n",
    "                solver.add_assertion(trans(states[k-1], states[k]))\n",
    "            \n",
    "            solver.push()\n",
    "            has_loop = Or(And(Equals(states[i]['x'], states[k]['x']), Equals(states[k]['pc'], states[i]['pc'])) \n",
    "                          for i in range(k))\n",
    "            solver.add_assertion(has_loop)\n",
    "\n",
    "            never_occurs = And(Not(prop(states[i])) for i in range(k+1))\n",
    "            solver.add_assertion(never_occurs)\n",
    "\n",
    "            if solver.solve():\n",
    "                print(f\"> Property does not necessarily occur for {k} first states. Counter-example:\")\n",
    "                for i,s in enumerate(states[:k+1]):\n",
    "                    print(f\"> State {i}: x = {solver.get_value(s['x'])}, pc= {solver.get_value(s['pc'])}.\")\n",
    "                return\n",
    "            else:\n",
    "                if k==bound-1:\n",
    "                    print(f\"> Property holds for execution of length {bound}.\")\n",
    "                else:\n",
    "                    solver.pop()\n",
    "\n",
    "def zero(state):\n",
    "    return Equals(state['x'],Int(0))\n",
    "\n",
    "bmc_eventually(declare,init,trans,zero,20)\n",
    "\n",
    "def terminates(state):\n",
    "    return Equals(state['pc'],Int(2))\n",
    "\n",
    "bmc_eventually(declare,init,trans,terminates,20)"
   ]
  },
  {
   "cell_type": "markdown",
   "metadata": {
    "id": "2QmsfKbyTGUZ"
   },
   "source": [
    "### Exercício 7\n",
    "\n",
    "Modifique a função `bmc_eventually` para não só imprimir os estados do contra-exemplo, mas também o estado onde começa o *loop*. Sugere-se a utilização do método `get_py_value` do pySMT para detectar esse estado. Este método permite avaliar uma expressão no modelo devolvendo o seu valor num tipo do Python.\n",
    "\n",
    "Utilize esta função modificada para encontrar um contra exemplo para a quarta propriedade acima referida."
   ]
  },
  {
   "cell_type": "code",
   "execution_count": 9,
   "metadata": {
    "colab": {
     "base_uri": "https://localhost:8080/"
    },
    "id": "JljMLd17TGUZ",
    "outputId": "368a31cc-1a3e-43a9-e20f-defbb9861ba5"
   },
   "outputs": [
    {
     "name": "stdout",
     "output_type": "stream",
     "text": [
      "> Contradição! A propriedade não se verifica no seguinte traço com loop (k=8)\n",
      "State 0 = (0, 3)\n",
      "State 1 = (1, 3)\n",
      "State 2 = (0, 2)\n",
      "State 3 = (1, 2)\n",
      "State 4 = (0, 1)\n",
      "State 5 = (1, 1)\n",
      "State 6 = (0, 0)\n",
      "State 7 = (2, 0) <- loop starts here!\n",
      "State 8 = (2, 0)\n"
     ]
    }
   ],
   "source": [
    "def bmc_eventually(declare,init,trans,prop,bound):\n",
    "    for k in range(1,bound+1):\n",
    "         with Solver(name=\"z3\") as solver:\n",
    "            traco = [declare(i) for i in range(k+1)]\n",
    "            solver.add_assertion(init(traco[0]))\n",
    "            transitions = And([trans(traco[i],traco[i+1]) for i in range(k)])\n",
    "            solver.add_assertion(transitions)\n",
    "            never_occurs = And([Not(prop(traco[i])) for i in range(k)])\n",
    "            solver.add_assertion(never_occurs)\n",
    "            loop = Or([And(Equals(traco[-1]['pc'], traco[i]['pc']), Equals(traco[-1]['x'], traco[i]['x'])) for i in range(k)])\n",
    "            solver.add_assertion(loop)\n",
    "            if solver.solve():\n",
    "                print(f\"> Contradição! A propriedade não se verifica no seguinte traço com loop (k={k})\")\n",
    "                first_loop_start = True\n",
    "                for i,estado in enumerate(traco):\n",
    "                    print(f\"State {i} = ({solver.get_value(estado['pc'])}, {solver.get_value(estado['x'])})\", end = \"\")\n",
    "                    loop_start = Or(And(Equals(estado['pc'], traco[-1]['pc']), Equals(estado['x'], traco[-1]['x'])))\n",
    "                    if first_loop_start and solver.get_py_value(loop_start):\n",
    "                        print(\" <- loop starts here!\")\n",
    "                        first_loop_start = False\n",
    "                    else:\n",
    "                        print(\"\")\n",
    "                return\n",
    "            else:\n",
    "                if k == bound:\n",
    "                    print(f\"> A propriedade ocorre inevitavelmente para traços de tamanho <={k}.\")\n",
    "\n",
    "def negative(state):\n",
    "    return (state['x'] < 0)\n",
    "\n",
    "bmc_eventually(declare,init,trans,negative,10)"
   ]
  },
  {
   "cell_type": "markdown",
   "metadata": {},
   "source": [
    "# Verificação Indutiva\n",
    "\n",
    "Até agora vimos como modelar sistemas dinâmicos com *First-order Transition Systems* (FOTSs) e como verificar propriedades de segurança e animação sobre estes sistemas com *Bounded Model Checking* (BMC). O procedimento de BMC verifica se uma propriedade é válida num FOTS considerando apenas um número limitado de estados de execução. Se quisermos verificar uma propriedade para qualquer execução não limitada do FOTS temos que usar um procedimento alternativo. Vamos agora usar indução para fazer verificação em traços não limitadados."
   ]
  },
  {
   "cell_type": "markdown",
   "metadata": {},
   "source": [
    "## Verificação indutiva de invariantes\n",
    "\n",
    "No caso da verificação de propriedades de segurança $G\\ \\phi$, para verificar o invariante $\\phi$ por indução temos que verificar as seguintes condições:\n",
    "- $\\phi$ é válido nos estados iniciais, ou seja, $\\mathit{init}(s) \\rightarrow \\phi(s)$\n",
    "- Para qualquer estado, assumindo que $\\phi$ é verdade, se executarmos uma transição, $\\phi$ continua a ser verdade no próximo estado, ou seja, $\\phi(s) \\wedge \\mathit{trans}(s,s') \\rightarrow \\phi(s')$."
   ]
  },
  {
   "cell_type": "markdown",
   "metadata": {},
   "source": [
    "### Exercício 8\n",
    "\n",
    "Implemente a função `induction_always` para verificação de invariantes por indução. \n",
    "A função recebe como argumento uma função que gera uma cópia das variáveis do estado, um predicado que testa se um estado é inicial, um predicado que testa se um par de estados é uma transição válida, e o invariante.\n",
    "\n",
    "Note que terá que testar a validade das duas condições acima recorrendo à satisfiabilidade, ou seja, usando o solver para encontrar contra-exemplos, devendo o procedimento reportar qual das propriedades falha. Por exemplo, no caso da primeira deve procurar uma valoração que satisfaça $\\mathit{init}(s) \\wedge \\neg \\phi(s)$."
   ]
  },
  {
   "cell_type": "code",
   "execution_count": 10,
   "metadata": {},
   "outputs": [],
   "source": [
    "def induction_always(declare,init,trans,inv):\n",
    "    # completar\n",
    "    with Solver(name=\"z3\") as solver:\n",
    "        s0 = declare(0)\n",
    "        solver.push()\n",
    "        solver.add_assertion(init(s0))\n",
    "        solver.add_assertion(Not(inv(s0)))\n",
    "        if solver.solve():\n",
    "            print(f\"> Contradição! O invariante não se verifica no estado inicial.\")\n",
    "            return\n",
    "        solver.pop()\n",
    "        \n",
    "        si = declare(1)\n",
    "        sj = declare(2)\n",
    "        solver.add_assertion(inv(si))\n",
    "        solver.add_assertion(trans(si,sj))\n",
    "        solver.add_assertion(Not(inv(sj)))\n",
    "        if solver.solve():\n",
    "            print(f\"> Contradição! O passo indutivo não se verifica.\")\n",
    "            print(f\"State i = ({solver.get_value(si['pc'])}, {solver.get_value(si['x'])})\")\n",
    "            print(f\"State j = ({solver.get_value(sj['pc'])}, {solver.get_value(sj['x'])})\")\n",
    "            return\n",
    "        \n",
    "        print(\"> A propriedade verifica-se por indução.\")"
   ]
  },
  {
   "cell_type": "markdown",
   "metadata": {},
   "source": [
    "Usando este procedimento podemos tentar verificar a propriedade $G (x \\ge 0)$ sobre o nosso programa."
   ]
  },
  {
   "cell_type": "code",
   "execution_count": 11,
   "metadata": {},
   "outputs": [
    {
     "name": "stdout",
     "output_type": "stream",
     "text": [
      "> Contradição! O passo indutivo não se verifica.\n",
      "State i = (1, 0)\n",
      "State j = (0, -1)\n"
     ]
    }
   ],
   "source": [
    "induction_always(declare,init,trans,nonnegative)"
   ]
  },
  {
   "cell_type": "markdown",
   "metadata": {},
   "source": [
    "Como se pode verificar, a propriedade anterior, embora seja verdade, não pode ser verificada por indução, pois o passo indutivo falha quando $\\mathit{pc} = 1$ e $x = 0$. De facto, este contra-exemplo para o passo de indução não é realista, dado que este estado não é acessível a partir do estado inicial. Para verificarmos esta propriedade por indução temos que encontrar um invariante $\\phi$ que seja mais forte que o desejado, ou seja, $\\phi(x,\\mathit{pc}) \\rightarrow x \\ge 0$, e que seja verificável por indução."
   ]
  },
  {
   "cell_type": "markdown",
   "metadata": {},
   "source": [
    "### Exercício 9\n",
    "\n",
    "Encontre uma propriedade mais forte que $x \\ge 0$ e que seja verificável por indução. Sugestão: pode ser útil usar a funcção `Ite` do pySMT, que corresponde a um if-then-else lógico."
   ]
  },
  {
   "cell_type": "code",
   "execution_count": 12,
   "metadata": {},
   "outputs": [
    {
     "name": "stdout",
     "output_type": "stream",
     "text": [
      "> A propriedade verifica-se por indução.\n"
     ]
    }
   ],
   "source": [
    "# completar\n",
    "def stronger_prop(state):\n",
    "    inside_loop = Equals(state['pc'], Int(1))\n",
    "    prop = Ite(inside_loop, GT(state['x'], Int(0)), GE(state['x'], Int(0)))\n",
    "    return prop\n",
    "\n",
    "induction_always(declare,init,trans,stronger_prop)"
   ]
  },
  {
   "cell_type": "markdown",
   "metadata": {},
   "source": [
    "### Exercício 10\n",
    "\n",
    "Utilize o SMT solver para verificar que essa propriedade é realmente mais forte que $x \\ge 0$."
   ]
  },
  {
   "cell_type": "code",
   "execution_count": 13,
   "metadata": {},
   "outputs": [
    {
     "name": "stdout",
     "output_type": "stream",
     "text": [
      "The first property is stronger than the second.\n"
     ]
    }
   ],
   "source": [
    "# completar\n",
    "def is_stronger(prop1, prop2):\n",
    "    # Check if prop1 is stronger than prop2.\n",
    "    with Solver(name=\"z3\") as solver:\n",
    "        s0 = declare(0)\n",
    "        solver.push()\n",
    "        # For prop1 to be stronger, it must imply prop2.\n",
    "        # Thus, prop1 and not prop2 must be impossible.\n",
    "        solver.add_assertion(prop1(s0))\n",
    "        solver.add_assertion(Not(prop2(s0)))\n",
    "        if solver.solve():\n",
    "            print(\"The first property is not stronger than the second.\")\n",
    "            return\n",
    "        solver.pop()\n",
    "        # For prop2 to be strictly weaker (and not equally strong), prop2 cannot imply prop1.\n",
    "        # Thus, not prop1 and prop2 must be possible.\n",
    "        solver.add_assertion(Not(prop1(s0)))\n",
    "        solver.add_assertion(prop2(s0))\n",
    "        if solver.solve():\n",
    "            print(\"The first property is stronger than the second.\")\n",
    "        else:\n",
    "            print(\"The first property is not stronger than the second.\")\n",
    "            \n",
    "is_stronger(stronger_prop, nonnegative)"
   ]
  },
  {
   "cell_type": "markdown",
   "metadata": {},
   "source": [
    "Nem sempre é fácil encontrar um invariante indutivo mais forte que o desejado. Um procedimento de verificação alternativo que pode ser utilizado nesses casos é a designada $k$-indução. A ideia é generalizar a indução simples assumindo no passo indutivo que o invariante é válido nos $k$ estados anteriores. Claro que neste caso também será necessário verificar que a propriedade é válida nos $k$ primeiros estados. Com esta generalização é possível verificar que $x \\ge 0$ é um invariante recorrendo a $k$-indução com $k=2$."
   ]
  },
  {
   "cell_type": "markdown",
   "metadata": {},
   "source": [
    "### Exercício 11\n",
    "\n",
    "Implemente o método `kinduction_always` para verificação de invariantes por $k$-indução."
   ]
  },
  {
   "cell_type": "code",
   "execution_count": null,
   "metadata": {},
   "outputs": [
    {
     "name": "stdout",
     "output_type": "stream",
     "text": [
      "> A propriedade verifica-se por k-indução (k=2).\n"
     ]
    }
   ],
   "source": [
    "def kinduction_always(declare,init,trans,inv,k):\n",
    "    # completar\n",
    "    '''\n",
    "    Obs: Não especificar o solver Z3, caso haja outros instalados, dá erro mais tarde ao usar o ForAll.\n",
    "    '''\n",
    "    with Solver(name=\"z3\") as solver:\n",
    "        s = [declare(i) for i in range(k)]\n",
    "        solver.add_assertion(init(s[0]))\n",
    "        for i in range(k-1):\n",
    "            solver.add_assertion(trans(s[i],s[i+1]))\n",
    "            \n",
    "        for i in range(k):\n",
    "            solver.push()\n",
    "            solver.add_assertion(Not(inv(s[i])))\n",
    "            if solver.solve():\n",
    "                print(f\"> Contradição! O invariante não se verifica nos k estados iniciais.\")\n",
    "                for st in s:\n",
    "                    print(\"x, pc, inv: \", solver.get_value(st['x']), solver.get_value(st['pc']))\n",
    "                return\n",
    "            solver.pop()\n",
    "        \n",
    "        s2 = [declare(i+k) for i in range(k+1)]\n",
    "        \n",
    "        for i in range(k):\n",
    "            solver.add_assertion(inv(s2[i]))\n",
    "            solver.add_assertion(trans(s2[i],s2[i+1]))\n",
    "        \n",
    "        solver.add_assertion(Not(inv(s2[-1])))\n",
    "        \n",
    "        if solver.solve():\n",
    "            print(f\"> Contradição! O passo indutivo não se verifica.\")\n",
    "            for i,state in enumerate(s):\n",
    "                print(f\"> State {i}: x = {solver.get_value(state['x'])}, pc= {solver.get_value(state['pc'])}.\")\n",
    "            return\n",
    "        \n",
    "        print(f\"> A propriedade verifica-se por k-indução (k={k}).\")\n",
    "        \n",
    "kinduction_always(declare,init,trans,nonnegative, 2)"
   ]
  },
  {
   "cell_type": "markdown",
   "metadata": {},
   "source": [
    "## Verificação de propriedades de animação por indução\n",
    "\n",
    "Como vimos, podemos verificar propriedades de animação do tipo $F\\ \\phi$ usando BMC. Mais uma vez, se quisermos verificar estas propriedades para qualquer execução ilimitada temos que usar um procedimento alternativo. Uma possibilidade consiste em reduzir a verificação dessas propriedades à verificação de uma propriedade de segurança, mais concretamente um invariante, que possa ser verificado por indução.\n",
    "\n",
    "Por exemplo, uma técnica que pode ser usada para verificar uma propriedade de animação do tipo $F\\ (G\\ \\phi)$, passa por descobrir um *variante* $V$ que satisfaz as seguintes condições:\n",
    "- O variante nunca é negativo, ou seja, $G\\ (V(s) \\ge 0)$\n",
    "- O variante descresce sempre (estritamente) ou atinge o valor 0, ou seja, $G\\ (\\forall s' . \\mathit{trans}(s,s') \\rightarrow (V(s') < V(s) \\vee V(s') = 0))$\n",
    "- Quando o variante é 0 verifica-se necessariamente $\\phi$, ou seja, $G\\ (V(s)=0 \\rightarrow \\phi(s))$\n",
    "\n",
    "A terminação de um programa é um dos exemplos de propriedade que encaixa neste padrão. Por exemplo, para o programa acima a terminação pode ser expressa por $F\\ (G\\ \\mathit{pc}=2)$ (note que devido ao lacete no estado final, o programa permanece indefinidamente no estado final).\n",
    "\n",
    "Note que a segunda condição recorre a uma quantificação universal sobre os possíveis estados alcançáveis por uma transição a partir de cada estado."
   ]
  },
  {
   "cell_type": "markdown",
   "metadata": {},
   "source": [
    "### Exercício 12\n",
    "\n",
    "Descubra o variante que permite provar por indução que o programa acima termina. Encontre também os menores valores de $k$ que permitem provar as condições acima por $k$-indução."
   ]
  },
  {
   "cell_type": "code",
   "execution_count": 15,
   "metadata": {},
   "outputs": [
    {
     "name": "stdout",
     "output_type": "stream",
     "text": [
      "> A propriedade verifica-se por k-indução (k=3).\n",
      "----\n",
      "> A propriedade verifica-se por k-indução (k=3).\n",
      "----\n",
      "> A propriedade verifica-se por k-indução (k=2).\n",
      "----\n"
     ]
    }
   ],
   "source": [
    "# completar\n",
    "\n",
    "def variant(s):\n",
    "    return Plus(Minus(Times(Int(2), \n",
    "                           s['x']), \n",
    "                     s['pc']), \n",
    "               Int(2))\n",
    "\n",
    "def var_nonnegative(s, variant):\n",
    "    return GE(variant(s), Int(0))\n",
    "\n",
    "def var_decreasing(s, variant):\n",
    "    x, pc = Symbol(\"xnext\", INT),  Symbol(\"pcnext\", INT)\n",
    "    return ForAll([x, pc], Implies(trans(s, {\"x\": x, \"pc\": pc}), Or(LT(variant({\"x\": x, \"pc\": pc}), variant(s)),Equals(variant({\"x\": x, \"pc\": pc}), Int(0)))))\n",
    "\n",
    "def var_implies_termination(s, variant):\n",
    "    termination = Equals(s['pc'], Int(2))\n",
    "    return Implies(Equals(variant(s), Int(0)), termination)\n",
    "\n",
    "def var_strictly_decreasing(s):\n",
    "    x = Symbol(\"xnext\", INT)\n",
    "    pc = Symbol(\"pcnext\", INT)\n",
    "    return ForAll([x, pc],\n",
    "              Implies(trans(s, {\"x\": x, \"pc\": pc}),\n",
    "                     Or(LT(variant({\"x\": x, \"pc\": pc}), \n",
    "                        variant(s)),\n",
    "                       Equals(variant({\"x\": x, \"pc\": pc}), Int(0)))))\n",
    "\n",
    "ks = [3, 3, 2]\n",
    "ps = [var_nonnegative, var_decreasing, var_implies_termination]\n",
    "for k,p in zip(ks,ps):\n",
    "    kinduction_always(declare,init,trans,lambda s: p(s, variant), k)\n",
    "    print(\"----\")"
   ]
  },
  {
   "cell_type": "markdown",
   "metadata": {},
   "source": [
    "### Exercício 13\n",
    "\n",
    "Encontrar um variante que decresça em todas as transições nem sempre é fácil. Podemos relaxar a segunda condição acima e exigir que o variante apenas tenha que decrescer estritamente a cada $l$ transições. Neste caso dizemos que temos um *lookahead* de $l$. Altere a definição da função decrescente por forma a considerar um lookahead de 2 e encontre um variante mais simples que o anterior que lhe permita verificar a terminação do programa."
   ]
  },
  {
   "cell_type": "code",
   "execution_count": 16,
   "metadata": {},
   "outputs": [
    {
     "name": "stdout",
     "output_type": "stream",
     "text": [
      "> A propriedade verifica-se por k-indução (k=2).\n"
     ]
    }
   ],
   "source": [
    "# completar\n",
    "def decreasing_la(s, variant):\n",
    "    x, pc = Symbol(\"xnext\", INT),  Symbol(\"pcnext\", INT)\n",
    "    x2, pc2 = Symbol(\"xnext2\", INT),  Symbol(\"pcnext2\", INT)\n",
    "    return ForAll([x, pc, x2, pc2], Implies(And(trans(s, {\"x\": x, \"pc\": pc}),\n",
    "                                               trans({\"x\": x, \"pc\": pc}, {\"x\": x2, \"pc\": pc2})), \n",
    "                                            Or(LT(variant({\"x\": x2, \"pc\": pc2}), variant(s)),\n",
    "                                               Equals(variant({\"x\": x2, \"pc\": pc2}), Int(0)))))\n",
    "\n",
    "def simpler_variant(s):\n",
    "    return s['x']\n",
    "\n",
    "kinduction_always(declare,init,trans, lambda s: decreasing_la(s, simpler_variant), 2)"
   ]
  }
 ],
 "metadata": {
  "colab": {
   "provenance": []
  },
  "kernelspec": {
   "display_name": "logica",
   "language": "python",
   "name": "python3"
  },
  "language_info": {
   "codemirror_mode": {
    "name": "ipython",
    "version": 3
   },
   "file_extension": ".py",
   "mimetype": "text/x-python",
   "name": "python",
   "nbconvert_exporter": "python",
   "pygments_lexer": "ipython3",
   "version": "3.10.14"
  }
 },
 "nbformat": 4,
 "nbformat_minor": 1
}
