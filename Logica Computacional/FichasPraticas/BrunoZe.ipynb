{
 "cells": [
  {
   "cell_type": "markdown",
   "id": "0a0fe2b4",
   "metadata": {},
   "source": [
    "# Trabalho Prático 4\n",
    "\n",
    "## Bruno Jardim (A91680) e José Ferreira (A91636)"
   ]
  },
  {
   "cell_type": "markdown",
   "id": "f6f70761",
   "metadata": {},
   "source": [
    "\n",
    "> Todos os problemas deste devem ser resolvidos usando pySMT   e  SMT’s  que suportem BitVec\n",
    "\n",
    "Considere o seguinte programa, em Python anotado, para multiplicação de dois inteiros de precisão limitada a 16 bits.  \n"
   ]
  },
  {
   "cell_type": "markdown",
   "id": "02b3a66d",
   "metadata": {},
   "source": [
    "```python\n",
    "       assume m >= 0 and n >= 0 and r == 0 and x == m and y == n \n",
    "    0: while y > 0:\n",
    "    1:    if y & 1 == 1: \n",
    "                y , r  = y-1 , r+x\n",
    "    2:    x , y = x<<1  ,  y>>1\n",
    "    3: assert r == m * n\n",
    "```"
   ]
  },
  {
   "cell_type": "markdown",
   "id": "83b3264d",
   "metadata": {},
   "source": [
    "\n",
    "\n",
    "1. Prove por indução a terminação deste programa\n",
    "\n",
    "\n",
    "2. Pretende-se verificar a correção total deste  programa usando a metodologia dos invariantes e a metodologia do “single assignment unfolding”. Para isso, \n",
    "    1. Codifique usando a LPA (linguagem de programas anotadas) a forma recursiva deste programa. \n",
    "    2. Proponha o invariante mais fraco que assegure a correção, codifique-o em SMT e prove a correção.\n",
    "    3. Construa a definição iterativa do “single assignment unfolding”  usando um parâmetro limite $ \\,N\\, $  e aumentando a pré-condição com a condição \n",
    "$$(n < N)\\, \\wedge \\,(m<N)$$\n",
    "        O número de iterações vai ser controlado por este parâmetro $N$"
   ]
  },
  {
   "cell_type": "markdown",
   "id": "c8969931",
   "metadata": {},
   "source": [
    "### 1. Provar que o programa termina"
   ]
  },
  {
   "cell_type": "markdown",
   "id": "cc5e553f",
   "metadata": {},
   "source": [
    "Para provar que o programa termina iremos utilizar, tal como no Trabalho Prático 3, a função `kinduction_always` desenvolvida nas aulas.\n",
    "\n",
    "\n",
    "No entanto para podermos usar a função `kinduction_always` teremos que definir as funções `declare`,`init` e `trans`\n",
    "\n",
    "\n",
    "As variáveis que iremos usar serão as seguintes: \n",
    "\n",
    "\n",
    "- **pc** $\\rightarrow$ Representará o Program Counter\n",
    "- **x**  $\\rightarrow$ Representará a variável **x** do programa na forma de *BitVec*\n",
    "- **y**  $\\rightarrow$ Representará a variável **y** do programa na forma de *BitVec*\n",
    "- **r**  $\\rightarrow$ Representará a variável **r** do programa na forma de *BitVec*"
   ]
  },
  {
   "cell_type": "code",
   "execution_count": 1,
   "id": "e8283acc",
   "metadata": {},
   "outputs": [],
   "source": [
    "from z3 import *\n",
    "def declare(i):\n",
    "    state = {}\n",
    "    state['pc'] = Int('pc'+str(i))\n",
    "    state['x'] = BitVec('x'+str(i),16)\n",
    "    state['y'] = BitVec('y'+str(i),16)\n",
    "    state['r'] = BitVec('r'+str(i),16)\n",
    "    return state\n",
    "\n",
    "def init(state):\n",
    "    return And(state['pc'] == 0,state['x'] >= 0, state['y'] >= 0, state['r'] == 0)\n",
    "\n",
    "def trans(atual,prox):\n",
    "    trans01 = And(\n",
    "                atual['pc'] == 0,\n",
    "                prox['pc'] == 1,\n",
    "                atual['y'] > 0,\n",
    "                #Operacao \"And\" Bitwise -> &\n",
    "                atual['y'] & BitVecVal(1,16) == BitVecVal(1,16),\n",
    "                prox['y'] == atual['y'],\n",
    "                prox['r'] == atual['r']\n",
    "    )\n",
    "    trans02 = And(\n",
    "                atual['pc'] == 0,\n",
    "                prox['pc'] == 2,\n",
    "                atual['y'] > 0,\n",
    "                #Operacao \"And\" Bitwise -> &\n",
    "                atual['y'] & BitVecVal(1,16) != BitVecVal(1,16),\n",
    "                prox['y'] == atual['y'],\n",
    "                prox['r'] == atual['r']\n",
    "    )\n",
    "    trans12 = And(\n",
    "                atual['pc'] == 1,\n",
    "                prox['pc']  == 2,\n",
    "                atual['x']  == prox['x'],\n",
    "                atual['y']  == prox['y'] + 1,\n",
    "                prox['r']   == atual['r'] + atual['x']\n",
    "    )\n",
    "    trans20 = And(\n",
    "                atual['pc']   == 2,\n",
    "                prox['pc']    == 0,\n",
    "                atual['x']<<1 == prox['x'],\n",
    "                atual['y']>>1 == prox['y'],\n",
    "                prox['r']     == atual['r']\n",
    "    )\n",
    "    trans03 = And(\n",
    "                atual['y']  <= 0,\n",
    "                atual['pc'] == 0,\n",
    "                prox['pc']  == 3,\n",
    "                atual['x']  == prox['x'],\n",
    "                atual['y']  == prox['y'],\n",
    "                prox['r']   == atual['r']\n",
    "    )\n",
    "    return Or(trans01,trans02,trans12,trans20,trans03), Not(And(trans01,trans02,trans12,trans20,trans03))"
   ]
  },
  {
   "cell_type": "markdown",
   "id": "a1a6835b",
   "metadata": {},
   "source": [
    "De seguida codificamos um variante que nos permitirá verificar se nos encontramos num estado final\n"
   ]
  },
  {
   "cell_type": "code",
   "execution_count": 17,
   "id": "eb89eeb2",
   "metadata": {},
   "outputs": [],
   "source": [
    "def variante(state):\n",
    "    return If(state['pc'] == 3,0,state['y'])"
   ]
  },
  {
   "cell_type": "markdown",
   "id": "f1ca5e9a",
   "metadata": {},
   "source": [
    "Agora teremos de garantir que o variante atingirá o valor de 0, ou então que é estritamente decrescente\n"
   ]
  },
  {
   "cell_type": "code",
   "execution_count": 18,
   "id": "225d0e9e",
   "metadata": {},
   "outputs": [],
   "source": [
    "def converge(state):\n",
    "    \n",
    "    \n",
    "    next1 = declare(-1)\n",
    "    next2 = declare(-2)\n",
    "    next3 = declare(-3)\n",
    "    \n",
    "    converge = variante(next3) < variante(state)\n",
    "    terminou = variante(next3) == 0\n",
    "    \n",
    "    \n",
    "    implicacao = Implies(\n",
    "        And(\n",
    "            trans(state,next1),\n",
    "            trans(next1,next2),\n",
    "            trans(next2,next3)\n",
    "        ),\n",
    "        Or(\n",
    "            terminou,\n",
    "            converge\n",
    "        )\n",
    "    )\n",
    "    \n",
    "    \n",
    "    return ForAll(\n",
    "                    list(next1.values())+\n",
    "                    list(next2.values())+\n",
    "                    list(next3.values()),\n",
    "                    implicacao\n",
    "                 )\n",
    "    \n",
    "    \n",
    "    "
   ]
  },
  {
   "cell_type": "code",
   "execution_count": 19,
   "id": "b04c6101",
   "metadata": {},
   "outputs": [],
   "source": [
    "def kinduction_always(declare,init,trans,inv,k):\n",
    "    s = Solver()\n",
    "    state = {i: declare(i) for i in range(k)}\n",
    "\n",
    "    s.add(init(state[0]))\n",
    "\n",
    "    for i in range(k-1):\n",
    "        s.add(trans(state[i], state[i+1]))\n",
    "    \n",
    "    s.add(Or([Not(inv(state[i])) for i in range(k)]))\n",
    "\n",
    "    if s.check() == sat:\n",
    "        m = s.model()\n",
    "        print(\"A propriedade falha no estado inicial\")\n",
    "        for i in range(k):\n",
    "            print(\"i =\", i)\n",
    "            for v in state[i]:\n",
    "                print(v, \"=\", m[state[i][v]])\n",
    "            print()\n",
    "        print()\n",
    "        return False\n",
    "\n",
    "    s = Solver()\n",
    "    state = {i: declare(i) for i in range(k+1)}\n",
    "\n",
    "    for i in range(k):\n",
    "        s.add(inv(state[i]))\n",
    "        s.add(trans(state[i], state[i+1]))\n",
    "    \n",
    "    s.add(Not(inv(state[k])))\n",
    "\n",
    "    if s.check() == sat:\n",
    "        m = s.model()\n",
    "        print(\"A propriedade falha nos seguintes estados:\")\n",
    "        for i in range(k):\n",
    "            print(\"i =\", i)\n",
    "            for v in state[i]:\n",
    "                print(v, \"=\", m[state[i][v]])\n",
    "            print()\n",
    "        print()\n",
    "        return False\n",
    "    \n",
    "    print(\"A propriedade é válida!\")\n",
    "    return True"
   ]
  },
  {
   "cell_type": "code",
   "execution_count": 20,
   "id": "52f7d594",
   "metadata": {},
   "outputs": [
    {
     "name": "stdout",
     "output_type": "stream",
     "text": [
      "A propriedade é válida!\n"
     ]
    },
    {
     "data": {
      "text/plain": [
       "True"
      ]
     },
     "execution_count": 20,
     "metadata": {},
     "output_type": "execute_result"
    }
   ],
   "source": [
    "kinduction_always(declare,init,trans,converge,10)"
   ]
  },
  {
   "cell_type": "markdown",
   "id": "e4110db8",
   "metadata": {},
   "source": [
    "### 2. Correção Total do Programa e Metodologia \"SAU\""
   ]
  },
  {
   "cell_type": "markdown",
   "id": "0c22cc20",
   "metadata": {},
   "source": [
    "##### a)\n",
    "Para provar a correção do nosso programa utilizando as metodologia **SAU** (*single assignment unfolding*) e dos **invariantes**, teremos que codificar o nosso programa em **LPA** (*linguagem de programas anotadas*)"
   ]
  },
  {
   "cell_type": "markdown",
   "id": "2a5f45fc",
   "metadata": {},
   "source": [
    "```python\n",
    "    assume m >= 0 and n >= 0  and r == 0 and x == m and y == n\n",
    "    assert invariante\n",
    "    \n",
    "    havoc x\n",
    "    havoc y\n",
    "    \n",
    "    (\n",
    "        #Condição do While True e invariante \n",
    "        (assume y > 0) and invariante\n",
    "            # Condição do IF verdadeira + intrucoes\n",
    "            ((assume (y & 1 == 1)\n",
    "                  y = y-1\n",
    "                  r = r + x\n",
    "             )\n",
    "             #Condição do IF falsa\n",
    "             ||\n",
    "             (assume(not(y & 1 == 1))\n",
    "              skip\n",
    "             )\n",
    "            \n",
    "            x = x<<1\n",
    "            y = y>>1\n",
    "            assert invariante\n",
    "            assume False\n",
    "       ||\n",
    "       # Condição do While False e invariante\n",
    "       (\n",
    "           assume (y <= 0) and invariante\n",
    "       )\n",
    "   )\n",
    "   assert r == m * n\n",
    "\n",
    "```"
   ]
  },
  {
   "cell_type": "markdown",
   "id": "bb53b57d",
   "metadata": {},
   "source": [
    "Este programa poderá ser resumido às seguintes equações:\n",
    "\n",
    "$$\n",
    "P \\equiv \\{\\mathsf{ assume }\\ (y > 0); Q; P\\} \\ \\|\\  \\{\\mathsf{ assume }\\ (y \\le 0)\\}\n",
    "$$\n",
    "$$\n",
    "Q \\equiv \\{\\mathsf{ assume }\\ (y\\ \\&\\ 1 == 1); R; S\\}\\ \\|\\ \\{\\mathsf{ assume }\\ (y\\ \\&\\ 1 \\ne 1); S\\}\n",
    "$$\n",
    "$$\n",
    "R \\equiv \\{y\\ \\leftarrow \\ y\\ -\\ 1;\\ r\\leftarrow\\ r\\ +\\ x\\}  \n",
    "$$\n",
    "$$\n",
    "S \\equiv \\{y\\ \\leftarrow \\ y\\ \\gg \\ 1;\\ x\\leftarrow\\ x\\ \\ll\\ 1\\}\n",
    "$$"
   ]
  },
  {
   "cell_type": "markdown",
   "id": "4ecc4755",
   "metadata": {},
   "source": [
    "##### b)"
   ]
  },
  {
   "cell_type": "markdown",
   "id": "a39b917b",
   "metadata": {},
   "source": [
    "Para assegurar a correção através da **WPC** (*weakest pre-condition*) com recurso ao comando **Havoc**\n",
    "\n",
    "\n",
    "Começemos então por definir as pré e pós condições e também o invariante do ciclo.\n",
    "\n",
    "\n",
    "$invariante = y\\ \\ge \\ 0\\ \\land\\ x\\ *\\ y\\ +\\ r\\ ==\\ m\\ * \\ n \\newline$\n",
    "$pre = m\\ \\ge\\ 0\\ \\land\\ n\\ \\ge\\ 0\\ \\land\\ r\\ ==\\ 0\\ \\land\\ x\\ ==\\ m\\ \\land\\ y \\ ==\\ n \\newline$\n",
    "$pos\\ =\\ r\\ ==\\ m\\ *\\ n\\newline$\n",
    "\n",
    "\n",
    "Desenvolveremos agora a *weakest pre-condition*:\n",
    "\n",
    "$\\quad pre\\ \\rightarrow\\ (\\ invariante\\land\\ [Ciclo]\\ )\\quad (havoc)\\newline$\n",
    "$\\quad pre\\ \\rightarrow\\ (\\ invariante\\land\\ \\forall{x}.\\forall{y}.[Ciclo]\\ )\\newline$\n",
    "$\\quad pre\\ \\rightarrow\\ invariante\\land\\ \\forall{x}.\\forall{y}.[Ciclo]\\newline$\n",
    "\n",
    "\n",
    "$$\\quad pre\\ \\rightarrow\\ invariante\\land\\ \\forall{x}.\\forall{y}.\\ (y\\ > \\ 0\\ \\land invariante \\rightarrow ((y\\ \\&\\ 1\\ =\\ 1\\  \\rightarrow\\ invariante[(\\ y\\ \\gg\\ 1\\ /\\ y][x\\ \\ll\\ 1\\ /\\ x][(r\\ +\\ x)\\ /\\ r][y\\ -\\ 1\\ /\\ y])\\ \\land\\ (\\neg\\ (\\ y\\ \\&\\ 1\\ =\\ 1\\ \\rightarrow\\ invriante[(\\ y\\ \\gg\\ 1\\ /\\ y][x\\ \\ll\\ 1\\ /\\ x]\\ \\land\\ (\\ \\neg\\ (y\\ >\\ 0\\ )\\ \\land\\ invariante\\ \\rightarrow\\ pos)\\ )\\ )$$"
   ]
  },
  {
   "cell_type": "code",
   "execution_count": 3,
   "id": "1cb328c1",
   "metadata": {},
   "outputs": [],
   "source": [
    "m,n,x,y,r = BitVecs('m n x y r',8)\n",
    "pre = And(\n",
    "            m >= 0,\n",
    "            #x >= 0,\n",
    "            n >= 0,\n",
    "            r == 0,\n",
    "            y == n,\n",
    "            x ==m\n",
    "            )\n",
    "pos = And(\n",
    "            r == m * n\n",
    "            )\n",
    "invariante = And(\n",
    "                    y >= 0,\n",
    "                    x * y + r == m * n\n",
    "                )\n",
    "\n",
    "\n",
    "ciclo = And(Implies(y&1 == 1, substitute(invariante,[(y,y>>1),(x,x<<1),(r,r+x),(y,y-1)])),\n",
    "            Implies(Not(y&1==1),substitute(invariante,[(y,y>>1),(x,x<<1)]))\n",
    "           ) \n",
    "utilidade = And(\n",
    "                Implies(And(Not(y>0),invariante),pos),\n",
    "                Implies(And(y>0,invariante),ciclo)\n",
    "            )\n",
    "\n",
    "WPC = Implies(pre,And(invariante, ForAll([x,y,r],utilidade)))"
   ]
  },
  {
   "cell_type": "code",
   "execution_count": 22,
   "id": "43d3921e",
   "metadata": {},
   "outputs": [
    {
     "name": "stdout",
     "output_type": "stream",
     "text": [
      "A WPC assegura a correção do programa\n"
     ]
    }
   ],
   "source": [
    "def prove(f):\n",
    "    s = Solver()\n",
    "    s.add(Not(f))\n",
    "    r = s.check()\n",
    "    if r == unsat:\n",
    "        print('A WPC assegura a correção do programa')\n",
    "    else:\n",
    "        print('A WPC não assegura a correção do programa em :')\n",
    "        m = s.model()\n",
    "        for v in m:\n",
    "            print(v,'=', m[v])\n",
    "prove(WPC)"
   ]
  },
  {
   "cell_type": "markdown",
   "id": "ec6befbd",
   "metadata": {},
   "source": [
    "##### c)\n"
   ]
  },
  {
   "cell_type": "code",
   "execution_count": 9,
   "id": "0ccb9e4a",
   "metadata": {},
   "outputs": [
    {
     "name": "stdout",
     "output_type": "stream",
     "text": [
      "Requirement already satisfied: pysmt in c:\\users\\bruno\\anaconda3\\lib\\site-packages (0.9.0)\n",
      "Requirement already satisfied: six in c:\\users\\bruno\\anaconda3\\lib\\site-packages (from pysmt) (1.15.0)\n"
     ]
    }
   ],
   "source": [
    "!pip install pysmt"
   ]
  },
  {
   "cell_type": "markdown",
   "id": "6829c6f2",
   "metadata": {},
   "source": [
    "#### ErrorPropertyUnrolling"
   ]
  },
  {
   "cell_type": "markdown",
   "id": "d4987e0f",
   "metadata": {},
   "source": [
    "De seguida, encontra-se a implementação da classe que faz unfolding de ciclos, denomindada de **EPU** (*error property unrolling*) disponibilizada pelo Professor Valença.\n",
    "\n",
    "\n",
    "\n",
    "Quando a propriedade $\\{\\mathsf{assume}\\ pre\\ \\}\\ P\\ \\{\\mathsf{assert}\\  pos\\} $ seja verdadeira, quando tal for verdade o algoritmo retornará a iteração em que a propriedade se verifica."
   ]
  },
  {
   "cell_type": "code",
   "execution_count": 4,
   "id": "ba4d4104",
   "metadata": {},
   "outputs": [],
   "source": [
    "from pysmt.shortcuts import *\n",
    "from pysmt.typing import *\n",
    "\n",
    "\n",
    "# Auxiliares\n",
    "\n",
    "def prime(v):\n",
    "    return Symbol(\"next(%s)\" % v.symbol_name(), v.symbol_type())\n",
    "\n",
    "def fresh(v):\n",
    "    return FreshSymbol(typename=v.symbol_type(),template=v.symbol_name()+\"_%d\")\n",
    "\n",
    "\n",
    "class EPU(object):      \n",
    "    \"\"\"deteção de erro\"\"\"\n",
    "\n",
    "    def __init__(self, variables, init , trans, error, sname=\"z3\"):\n",
    "              \n",
    "        self.variables = variables       # FOTS variables   \n",
    "        self.init  = init                # FOTS init as unary predicate in \"variables\"\n",
    "        self.error = error               # FOTS error state\n",
    "        self.trans = trans               # FOTS transition relation as a binary transition relation \n",
    "                                         # in \"variables\" and \"prime variables\"\n",
    "        \n",
    "        self.prime_variables = [prime(v) for v in self.variables]\n",
    "        self.frames = [self.error]       # inializa com uma só frame: a situação de error\n",
    "        \n",
    "        self.solver = Solver(name=sname)\n",
    "        self.solver.add_assertion(self.init)     # adiciona o estado inicial como uma asserção sempre presente \n",
    "\n",
    "    def new_frame(self):  \n",
    "        freshs = [fresh(v) for v in self.variables]\n",
    "        T = self.trans.substitute(dict(zip(self.prime_variables,freshs)))\n",
    "        F = self.frames[-1].substitute(dict(zip(self.variables,freshs)))\n",
    "        self.frames.append(Exists(freshs, And(T, F)))\n",
    "        \n",
    "    def unroll(self,bound=0):\n",
    "        n = 0\n",
    "        while True:\n",
    "            if n > bound:\n",
    "                print(\"falha: tentativas ultrapassam o limite %d \"%bound)\n",
    "                break\n",
    "            elif self.solver.solve(self.frames):  \n",
    "                self.new_frame()\n",
    "                n += 1\n",
    "            else:\n",
    "                print(\"sucesso: tentativa %d \"%n)\n",
    "                break   \n",
    "\n",
    "\n",
    "class Cycle(EPU):\n",
    "    def __init__(self,variables,pre,pos,control,body,sname=\"z3\"):\n",
    "        init   = pre\n",
    "        trans = And(control,body)\n",
    "        error  = Or(control,Not(pos))\n",
    "        super().__init__(variables, init, trans, error, sname)"
   ]
  },
  {
   "cell_type": "code",
   "execution_count": 5,
   "id": "035aba1e",
   "metadata": {},
   "outputs": [],
   "source": [
    "#Definição de variaveis\n",
    "x = Symbol(\"x\",BVType(16))\n",
    "y = Symbol(\"y\",BVType(16))\n",
    "m = Symbol(\"m\",BVType(16))\n",
    "n = Symbol(\"n\",BVType(16))\n",
    "r = Symbol(\"r\",BVType(16))\n",
    "variaveis = [x,y,m,n,r]\n",
    "Zero = BVZero(16)\n",
    "One = BVOne(16)"
   ]
  },
  {
   "cell_type": "markdown",
   "id": "3d9da7c6",
   "metadata": {},
   "source": [
    "```python\n",
    "       assume m >= 0 and n >= 0 and r == 0 and x == m and y == n \n",
    "    0: while y > 0:\n",
    "    1:    if y & 1 == 1: \n",
    "                y , r  = y-1 , r+x\n",
    "    2:    x , y = x<<1  ,  y>>1\n",
    "    3: assert r == m * n\n",
    "```\n"
   ]
  },
  {
   "cell_type": "code",
   "execution_count": 7,
   "id": "21607e38",
   "metadata": {},
   "outputs": [],
   "source": [
    "\"\"\" \n",
    "    𝑖𝑛𝑣𝑎𝑟𝑖𝑎𝑛𝑡𝑒=𝑦 ≥ 0 ∧ 𝑥 ∗ 𝑦 + 𝑟 == 𝑚 ∗ 𝑛\n",
    "    𝑝𝑟𝑒=𝑚 ≥ 0 ∧ 𝑛 ≥ 0 ∧ 𝑟 == 0 ∧ 𝑥 == 𝑚 ∧ 𝑦 == 𝑛\n",
    "    𝑝𝑜𝑠 = 𝑟 == 𝑚 ∗ 𝑛\n",
    "\"\"\"\n",
    "N = BV(2^16-1,16)\n",
    "#Pré-condição\n",
    "pre = And([\n",
    "            BVUGE(m,Zero),\n",
    "            BVUGE(n,Zero),\n",
    "            Equals(r,Zero),\n",
    "            Equals(x,m),\n",
    "            Equals(y,n),\n",
    "            BVULE(n,N),\n",
    "            BVULE(m,N)\n",
    "]) \n",
    "#Pós-condição\n",
    "pos = And(Equals(r,BVMul(m,n)))\n",
    "\n",
    "#Condição do while - linha 0\n",
    "l0 = BVUGT(y,Zero)\n",
    "\n",
    "#Condição do if - linha 1\n",
    "l1 = Equals(BVAnd(y,One),One)\n",
    "\n",
    "#Atribuições com if TRUE\n",
    "true = And([\n",
    "            Equals(prime(y),BVLShr(BVSub(y,One),One)),\n",
    "            Equals(prime(r),BVAdd(r,x)),\n",
    "            Equals(prime(x),BVLShl(x,One))\n",
    "])\n",
    "#Identico ao true apenas nao tem a subtração do y nem a adição do r\n",
    "false = And([\n",
    "            Equals(prime(y),BVLShr(y,One)),\n",
    "            #Equals(prime(r),BVAdd(r,x)),\n",
    "            Equals(prime(x),BVLShl(x,One))\n",
    "])\n",
    "\n",
    "transicao = Ite(l1,true,false)\n",
    "\n"
   ]
  },
  {
   "cell_type": "code",
   "execution_count": 8,
   "id": "80a31878",
   "metadata": {
    "scrolled": true
   },
   "outputs": [
    {
     "name": "stdout",
     "output_type": "stream",
     "text": [
      "sucesso: tentativa 5 \n"
     ]
    }
   ],
   "source": [
    "W = Cycle(variaveis,pre,pos,l0,transicao)\n",
    "W.unroll(50)"
   ]
  }
 ],
 "metadata": {
  "kernelspec": {
   "display_name": "Python 3",
   "language": "python",
   "name": "python3"
  },
  "language_info": {
   "codemirror_mode": {
    "name": "ipython",
    "version": 3
   },
   "file_extension": ".py",
   "mimetype": "text/x-python",
   "name": "python",
   "nbconvert_exporter": "python",
   "pygments_lexer": "ipython3",
   "version": "3.8.8"
  }
 },
 "nbformat": 4,
 "nbformat_minor": 5
}
