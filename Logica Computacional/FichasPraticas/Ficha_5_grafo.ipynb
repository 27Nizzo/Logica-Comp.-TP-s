{
 "cells": [
  {
   "cell_type": "markdown",
   "id": "41dcee93",
   "metadata": {
    "id": "41dcee93"
   },
   "source": [
    "# Transformadores de predicados\n",
    "\n",
    "Um transformador de predicados, como o nome sugere, não é mais do que um operador que recebe um predicado e produz um predicado.\n",
    "Uma técnica de verificação de segurança de sistemas dinâmicos que pode ser aplicada a SFOTS baseia-se neste conceito. Associado a uma transição $\\;\\mathsf{T}\\,$, o transformador de predicados $\\;\\mathsf{wp_T}\\;$, designado por **weakest pre-condition** mapeia um predicado genérico $\\,\\mathsf{Q}\\,$ no  predicado $\\;\\mathsf{wp_T}(\\mathsf{Q})\\;$ que verifica, para todo o predicado $\\;\\mathsf{P}$, a seguinte propriedade\n",
    "$$\\mathsf{P}\\,\\to\\,\\mathsf{wp_T}(\\mathsf{Q})\\quad \\mbox{ sse } \\quad\\mathsf{P}\\,\\land\\,\\mathsf{T}\\,\\to\\,\\mathsf{Q}'\\quad$$\n",
    "\n",
    "O transformador de predicados $\\;\\mathsf{sp_T}$, associado a uma transição $\\;\\mathsf{T}\\,$, designado por **strongest post-condition**, mapeia um predicado genérico $\\,\\mathsf{P}\\,$ no  predicado $\\;\\mathsf{sp_T}(\\mathsf{P})\\;$ que verifica, para todo o predicado $\\;\\mathsf{Q}$,\n",
    "$$\\mathsf{sp_T}(\\mathsf{P})\\,\\to\\,\\mathsf{Q}\\quad \\mbox{ sse } \\quad\\mathsf{P}\\,\\land\\,\\mathsf{T}\\,\\to\\,\\mathsf{Q}'\\quad$$\n",
    "\n",
    "Relembramos estes tranformadores para os diversos tipos de transições, conforme apresentado nas aulas teóricas.\n",
    "\n",
    "- Atribuição:  $ \\quad\\mathsf{T(X,X')}\\;\\equiv\\; (\\mathsf{X}' = \\mathit{exp}(\\mathsf{X}))$\n",
    "   - $\\mathsf{wp_T(Q)\\;\\equiv\\;Q\\{\\mathsf{X}/\\mathit{exp}(\\mathsf{X})\\} }$\n",
    "   - $\\mathsf{sp_T(P)\\;\\equiv\\; P\\{\\mathsf{X}/\\mathsf{Z}\\}\\,\\land\\,(\\mathsf{X}=\\mathit{exp}(\\mathsf{Z})) }\\quad$ sendo $\\;\\mathsf{Z}\\;$ uma variável fresca\n",
    "   \n",
    "   \n",
    "- Guarda: $\\quad\\mathsf{T(X,X')\\;\\equiv \\;G(X)\\,\\land\\, S(X,X')}\\,$\n",
    "   - $\\mathsf{wp_T(Q)\\;\\equiv\\; G \\to \\,wp_S(Q)}$\n",
    "   - $\\mathsf{sp_T(P)\\;\\equiv\\;sp_S(G\\land P)}$\n",
    "   \n",
    "   \n",
    "- Escolha: $\\quad \\mathsf{T(X,X') \\;\\equiv\\; \\mathsf{T}_0(X,X') \\;\\lor\\;\\mathsf{T}_1(X,X')}$\n",
    "   - $\\mathsf{wp_{\\mathsf{T}}(Q)\\;\\equiv\\; \\mathsf{wp}_{\\mathsf{T}_0}(Q)\\,\\land\\,\\mathsf{wp}_{\\mathsf{T}_1}(Q)}$\n",
    "   - $\\mathsf{sp_{\\mathsf{T}}(P)\\;\\equiv\\; \\mathsf{sp}_{\\mathsf{T}_0}(P)\\,\\lor\\,\\mathsf{sp}_{\\mathsf{T}_1}(P)}$\n",
    "   \n",
    "   \n",
    "- Composição: $\\quad\\mathsf{T(X,X')\\;\\equiv\\;\\exists\\,Y\\,\\centerdot\\,\\mathsf{T}_0(X,Y)\\land\\mathsf{T}_1(Y,X')}$\n",
    "   - $\\mathsf{wp_\\mathsf{T}(Q)\\;\\equiv\\; \\mathsf{wp}_{\\mathsf{T}_0}(\\mathsf{wp}_{\\mathsf{T}_1}(Q))}$\n",
    "   - $\\mathsf{sp_\\mathsf{T}(P)\\;\\equiv\\; \\mathsf{sp}_{\\mathsf{T}_1}(\\mathsf{sp}_{\\mathsf{T}_0}(P))}$\n",
    "\n",
    "\n",
    "- Atribuição não-determinística: $ \\quad\\mathsf{T(X,X')\\;\\equiv\\; (X' = havoc(X))\\;\\equiv\\; \\bigvee\\,a\\,\\centerdot\\,(X'=a) }$\n",
    "   - $\\,\\mathsf{wp_T(Q)\\,\\equiv\\,\\bigwedge\\,a\\,\\centerdot\\,Q\\{X/a\\} \\,\\equiv\\,\\forall\\,a\\,\\centerdot\\,Q\\{X/a\\}}$\n",
    "   - $\\mathsf{sp_T(P)\\,\\equiv\\,\\bigvee\\,a\\,\\centerdot\\,(X=a) \\,\\equiv\\,\\exists\\,a\\,\\centerdot\\,(X=a)}$\n"
   ]
  },
  {
   "cell_type": "markdown",
   "id": "PKXuSigQAmkg",
   "metadata": {
    "id": "PKXuSigQAmkg"
   },
   "source": [
    "$$T = (y' = y \\wedge  x'=y+1)$$\n",
    "\n",
    "Exemplo WPC:\n",
    "\n",
    "$$Q = (x>0)$$\n",
    "\n",
    "$$\\mathsf{wp_T}(\\mathsf{Q}) = ? $$\n",
    "\n",
    "$$\\mathsf{wp_T}(\\mathsf{Q}) = (y>-1)$$\n",
    "\n",
    "Exemplo de pré-condição que não é a mais fraca:\n",
    "\n",
    "$$P = (y>0)$$\n",
    "\n",
    "Exemplo SPC:\n",
    "\n",
    "$$P = (y>0)$$\n",
    "\n",
    "$$\\mathsf{sp_T}(\\mathsf{P}) = ? $$\n",
    "\n",
    "$$\\mathsf{sp_T}(\\mathsf{P}) =  y>0 \\wedge x=y+1$$\n",
    "\n",
    "Exemplo de pós-condições que não são as mais fortes:\n",
    "\n",
    "$$Q = (y>0) $$\n",
    "\n",
    "$$Q = (x>1) $$\n",
    "\n",
    "$$Q = (y>-5) $$"
   ]
  },
  {
   "cell_type": "code",
   "execution_count": 1,
   "id": "_SORbbPT8U5x",
   "metadata": {
    "id": "_SORbbPT8U5x"
   },
   "outputs": [
    {
     "ename": "FileNotFoundError",
     "evalue": "[Errno 2] No such file or directory: '/usr/local/lib/python3.10/dist-packages/pysmt/smtlib/parser/__init__.py'",
     "output_type": "error",
     "traceback": [
      "\u001b[0;31m---------------------------------------------------------------------------\u001b[0m",
      "\u001b[0;31mFileNotFoundError\u001b[0m                         Traceback (most recent call last)",
      "Cell \u001b[0;32mIn[1], line 6\u001b[0m\n\u001b[1;32m      3\u001b[0m get_ipython()\u001b[38;5;241m.\u001b[39msystem(\u001b[38;5;124m'\u001b[39m\u001b[38;5;124myes | pysmt-install --z3 --msat\u001b[39m\u001b[38;5;124m'\u001b[39m)\n\u001b[1;32m      5\u001b[0m file \u001b[38;5;241m=\u001b[39m \u001b[38;5;124m'\u001b[39m\u001b[38;5;124m/usr/local/lib/python3.10/dist-packages/pysmt/smtlib/parser/__init__.py\u001b[39m\u001b[38;5;124m'\u001b[39m\n\u001b[0;32m----> 6\u001b[0m \u001b[38;5;28;01mwith\u001b[39;00m \u001b[38;5;28;43mopen\u001b[39;49m\u001b[43m(\u001b[49m\u001b[43mfile\u001b[49m\u001b[43m,\u001b[49m\u001b[43m \u001b[49m\u001b[38;5;124;43m'\u001b[39;49m\u001b[38;5;124;43mr\u001b[39;49m\u001b[38;5;124;43m'\u001b[39;49m\u001b[43m)\u001b[49m \u001b[38;5;28;01mas\u001b[39;00m f:\n\u001b[1;32m      7\u001b[0m     code \u001b[38;5;241m=\u001b[39m f\u001b[38;5;241m.\u001b[39mread()\n\u001b[1;32m      8\u001b[0m     new_code \u001b[38;5;241m=\u001b[39m code\u001b[38;5;241m.\u001b[39mreplace(\u001b[38;5;124m'\u001b[39m\u001b[38;5;124mUSE_CYTHON = True\u001b[39m\u001b[38;5;124m'\u001b[39m, \u001b[38;5;124m'\u001b[39m\u001b[38;5;124mUSE_CYTHON = False\u001b[39m\u001b[38;5;124m'\u001b[39m)\n",
      "File \u001b[0;32m~/miniconda3/envs/logica/lib/python3.10/site-packages/IPython/core/interactiveshell.py:324\u001b[0m, in \u001b[0;36m_modified_open\u001b[0;34m(file, *args, **kwargs)\u001b[0m\n\u001b[1;32m    317\u001b[0m \u001b[38;5;28;01mif\u001b[39;00m file \u001b[38;5;129;01min\u001b[39;00m {\u001b[38;5;241m0\u001b[39m, \u001b[38;5;241m1\u001b[39m, \u001b[38;5;241m2\u001b[39m}:\n\u001b[1;32m    318\u001b[0m     \u001b[38;5;28;01mraise\u001b[39;00m \u001b[38;5;167;01mValueError\u001b[39;00m(\n\u001b[1;32m    319\u001b[0m         \u001b[38;5;124mf\u001b[39m\u001b[38;5;124m\"\u001b[39m\u001b[38;5;124mIPython won\u001b[39m\u001b[38;5;124m'\u001b[39m\u001b[38;5;124mt let you open fd=\u001b[39m\u001b[38;5;132;01m{\u001b[39;00mfile\u001b[38;5;132;01m}\u001b[39;00m\u001b[38;5;124m by default \u001b[39m\u001b[38;5;124m\"\u001b[39m\n\u001b[1;32m    320\u001b[0m         \u001b[38;5;124m\"\u001b[39m\u001b[38;5;124mas it is likely to crash IPython. If you know what you are doing, \u001b[39m\u001b[38;5;124m\"\u001b[39m\n\u001b[1;32m    321\u001b[0m         \u001b[38;5;124m\"\u001b[39m\u001b[38;5;124myou can use builtins\u001b[39m\u001b[38;5;124m'\u001b[39m\u001b[38;5;124m open.\u001b[39m\u001b[38;5;124m\"\u001b[39m\n\u001b[1;32m    322\u001b[0m     )\n\u001b[0;32m--> 324\u001b[0m \u001b[38;5;28;01mreturn\u001b[39;00m \u001b[43mio_open\u001b[49m\u001b[43m(\u001b[49m\u001b[43mfile\u001b[49m\u001b[43m,\u001b[49m\u001b[43m \u001b[49m\u001b[38;5;241;43m*\u001b[39;49m\u001b[43margs\u001b[49m\u001b[43m,\u001b[49m\u001b[43m \u001b[49m\u001b[38;5;241;43m*\u001b[39;49m\u001b[38;5;241;43m*\u001b[39;49m\u001b[43mkwargs\u001b[49m\u001b[43m)\u001b[49m\n",
      "\u001b[0;31mFileNotFoundError\u001b[0m: [Errno 2] No such file or directory: '/usr/local/lib/python3.10/dist-packages/pysmt/smtlib/parser/__init__.py'"
     ]
    }
   ],
   "source": [
    "%%capture\n",
    "!yes | pip install pysmt\n",
    "!apt-get install libgmp3-dev\n",
    "!yes | pysmt-install --z3 --msat\n",
    "\n",
    "file = '/usr/local/lib/python3.10/dist-packages/pysmt/smtlib/parser/__init__.py'\n",
    "with open(file, 'r') as f:\n",
    "    code = f.read()\n",
    "    new_code = code.replace('USE_CYTHON = True', 'USE_CYTHON = False')\n",
    "\n",
    "with open(file, 'w') as f:\n",
    "  f.write(new_code)"
   ]
  },
  {
   "cell_type": "markdown",
   "id": "ca897a17",
   "metadata": {
    "id": "ca897a17"
   },
   "source": [
    "Os dois operadores $\\;\\mathsf{wp}\\,$ e $\\,\\mathsf{sp}\\,$  podem ser aplicados múltiplas vezes.  $\\;\\mathsf{sp}^n(\\mathsf{I})\\;$ é a pós-condição mais forte  após a aplicação $\\,n\\,$ vezes da transição $\\,\\mathsf{T}\\,$ a partir de um estado inicial $\\,s\\in\\mathsf{I}\\,$. Formalmente tem-se\n",
    "$\\:\\mathsf{sp}^0(\\mathsf{I}) \\;\\equiv\\;\\mathsf{I}\\:$ e $\\:\\mathsf{sp}^{n}(\\mathsf{I})\\;\\equiv\\;\\mathsf{sp}(\\mathsf{sp}^{n-1}(\\mathsf{I}))\\;$ para $n>0$.\n",
    "De igual modo,  $\\mathsf{wp}^m(\\mathsf{E})\\;$ é a pré-condição mais fraca que assegura um estado de erro $\\,e\\in\\mathsf{E}\\;$ após $\\,m\\,$ aplicações  da transição $\\;\\mathsf{T}$. Formalmente tem-se\n",
    "$\\mathsf{wp}^0(\\mathsf{E}) \\;\\equiv\\;\\mathsf{E}\\:$ e $\\:\\mathsf{wp}^{m}(\\mathsf{E})\\;\\equiv\\;\\mathsf{wp}(\\mathsf{wp}^{m-1}(\\mathsf{E}))\\:$ para $m>0$.\n",
    "\n",
    "$\\mathsf{sp}^\\ast(\\mathsf{I})\\;\\equiv\\;\\bigvee_{n=0}^\\infty\\;\\mathsf{sp}^n(\\mathsf{I})\\:$ denota o conjunto  dos estados alcançáveis\n",
    "e $\\:\\mathsf{wp}^\\ast(\\mathsf{E})\\;\\equiv\\;\\bigvee_{m=0}^\\infty\\;\\mathsf{wp}^m(\\mathsf{E})\\:$ representa o conjunto dos estados inseguros.\n",
    "O  sistema $\\;\\Sigma\\;$ é seguro se estes dois conjuntos nunca se intersectam, isto é, se $\\;\\mathsf{sp}^\\ast(\\mathsf{I})\\,\\land\\,\\mathsf{wp}^\\ast(\\mathsf{E})\\;$ é insatisfazível.\n",
    "\n",
    "Nem $\\;\\mathsf{sp}^\\ast(\\mathsf{I})\\;$ nem $\\;\\mathsf{wp}^\\ast(\\mathsf{E})\\;$ pode ser computado (por ter um número infinito de disjunções), mas podemos esboçar um algoritmo de verificação baseado nesta ideia, recorrendo a aproximações destes predicados."
   ]
  },
  {
   "cell_type": "markdown",
   "id": "a4544329",
   "metadata": {
    "id": "a4544329"
   },
   "source": [
    "### Exercício 1\n",
    "\n",
    "Considere o seguinte programa anotado com uma pré-condição e desenhe um  \"control flow automaton” (CFA) que o modele, seguindo as diretivas apresentadas nas aulas teóricas.\n",
    "```Python\n",
    "{ x >= 3 }\n",
    "while (x>0):\n",
    "    if x == 2:\n",
    "        raise error\n",
    "    x = x-5\n",
    "stop\n",
    "```"
   ]
  },
  {
   "cell_type": "markdown",
   "id": "b3109fa6",
   "metadata": {
    "id": "b3109fa6"
   },
   "source": [
    "Pode-se assumir que o predicado dos estados iniciais é\n",
    "$\\mathsf{I}\\;\\equiv\\;\\mathsf{True}$ e associar um predicado a cada um dos locais do sistema de acordo com os seguintes princípios:\n",
    "- Ao primeiro local de acessibilidade ($\\,\\mathsf{system}\\,$) associamos a pré-condição mais forte $\\;\\mathsf{sp}(\\mathsf{I})\\,$, o que é determinado pelo comando  $\\,\\mathsf{havoc}\\,$ seguido da guarda da transição.\n",
    "- Aos locais $\\;\\mathsf{stop}\\;$ e $\\;\\mathsf{error}\\;$ associamos predicados constantes que vão depender do tipo de problema que vamos tentar modelar.\n",
    "- Aos restantes locais associamos a pré-condição mais fraca.                       "
   ]
  },
  {
   "cell_type": "markdown",
   "id": "ad5ae83c",
   "metadata": {
    "id": "ad5ae83c"
   },
   "source": [
    "### Exercício 2\n",
    "\n",
    "À semelhança do apresentado nos apontamentos teóricos, escreva as definições recursivas que descrevem o CFA que construiu no exercício 1."
   ]
  },
  {
   "cell_type": "markdown",
   "id": "94ad6ed4",
   "metadata": {
    "id": "94ad6ed4"
   },
   "source": [
    "*(completar)*"
   ]
  },
  {
   "cell_type": "markdown",
   "id": "9943b4a6",
   "metadata": {
    "id": "9943b4a6"
   },
   "source": [
    "Para determinar se existe algum estado acessível que seja um estado inseguro faz-se $\\;\\mathsf{error}\\,\\equiv\\,\\mathsf{True}\\,$ e  $\\;\\mathsf{stop}\\,\\equiv\\,\\mathsf{False}\\,$ e verifica-se se $\\;\\mathsf{system}\\;$ é satisfazível (caso isso aconteça o sistema é inseguro)."
   ]
  },
  {
   "cell_type": "markdown",
   "id": "0e840306",
   "metadata": {
    "id": "0e840306"
   },
   "source": [
    "### Exercício 3\n",
    "\n",
    "Tendo por base o exercício 2, escreva uma função em python que, de forma iterativa, tente detectar uma situação em que o sistema é inseguro. A função pode receber dois argumentos um valor de entrada para x e o número de tentativas no cálculo aproximado de $\\;\\mathsf{wp}^\\ast(\\mathsf{E})\\;$.\n",
    "\n",
    "\n",
    "\n",
    "\n",
    "\n",
    "\n",
    "\n",
    "\n",
    "\n",
    "\n",
    "\n",
    "\n",
    "\n",
    "\n",
    "\n",
    "\n",
    "\n",
    "\n",
    "\n",
    "\n",
    "\n",
    "\n",
    "\n",
    "\n"
   ]
  },
  {
   "cell_type": "code",
   "execution_count": 2,
   "id": "c1a33a5b",
   "metadata": {
    "id": "c1a33a5b"
   },
   "outputs": [],
   "source": [
    "from pysmt.shortcuts import *\n",
    "from pysmt.typing import INT\n",
    "\n",
    "def ex1_safety(val, n):\n",
    "    print(f\"> A testar o caso x = {val} ({n} tentativas).\")\n",
    "    with Solver() as solver:\n",
    "      x = Symbol(\"x\", INT)\n",
    "      error = TRUE()\n",
    "      stop = FALSE()\n",
    "\n",
    "      do = FALSE()\n",
    "      guarda = And(GE(x, Int(3)), Equals(x, Int(val)))\n",
    "\n",
    "      for i in range(n):\n",
    "          system = And(guarda, do)\n",
    "          if solver.solve([system]):\n",
    "            print(f\"> Iteração {i}: sistema inseguro.\")\n",
    "            return\n",
    "\n",
    "          # do[x\\x-5]\n",
    "          atrib = substitute(do, {x: Minus(x, Int(5))})\n",
    "\n",
    "          new_do = And(Implies(Equals(x, Int(2)), error),\n",
    "                       Implies(LE(x, Int(0)), stop),\n",
    "                       Implies(And(GE(x, Int(0)), NotEquals(x, Int(2))),\n",
    "                               atrib))\n",
    "          do = Or(do, new_do)\n",
    "\n",
    "      print(\"> Não foram encontrados estados inseguros.\")"
   ]
  },
  {
   "cell_type": "markdown",
   "id": "PoD7kK1A17B8",
   "metadata": {
    "id": "PoD7kK1A17B8"
   },
   "source": [
    "![image.png](data:image/png;base64,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)"
   ]
  },
  {
   "cell_type": "code",
   "execution_count": 3,
   "id": "f0afdb7c",
   "metadata": {
    "colab": {
     "base_uri": "https://localhost:8080/"
    },
    "id": "f0afdb7c",
    "outputId": "984d0184-ac95-4e6e-b340-aa1aea3f1b40"
   },
   "outputs": [
    {
     "name": "stdout",
     "output_type": "stream",
     "text": [
      "> A testar o caso x = 5 (10 tentativas).\n",
      "> Não foram encontrados estados inseguros.\n"
     ]
    }
   ],
   "source": [
    "ex1_safety(5,10)"
   ]
  },
  {
   "cell_type": "code",
   "execution_count": 4,
   "id": "f213cb07",
   "metadata": {
    "colab": {
     "base_uri": "https://localhost:8080/"
    },
    "id": "f213cb07",
    "outputId": "21a2a6c2-c029-4b2e-f9fb-f7a887af30f5"
   },
   "outputs": [
    {
     "name": "stdout",
     "output_type": "stream",
     "text": [
      "> A testar o caso x = 17 (10 tentativas).\n",
      "> Iteração 4: sistema inseguro.\n"
     ]
    }
   ],
   "source": [
    "ex1_safety(17,10)"
   ]
  },
  {
   "cell_type": "markdown",
   "id": "cfd9e9dd",
   "metadata": {
    "id": "cfd9e9dd"
   },
   "source": [
    "### Exercício 4\n",
    "\n",
    "Experimente fortalecer a pré-condição da função de forma evitar situações de erro.\n",
    "\n",
    "$(x-2)\\%5 \\neq 0$\n",
    "\n",
    "$\\leftrightarrow Div(x-2, 5)* 5 = x-2$\n",
    "\n",
    "y múltiplo de m $\\leftrightarrow Div(y, m)* m = y$\n",
    "\n",
    "$Div(6, 3)* 3 = 6 \\leftrightarrow 2*3 = 6$\n",
    "\n",
    "$Div(7, 3)* 3 = 7 \\leftrightarrow 2*3 = 7$"
   ]
  },
  {
   "cell_type": "code",
   "execution_count": 5,
   "id": "cfe28abe",
   "metadata": {
    "colab": {
     "base_uri": "https://localhost:8080/"
    },
    "id": "cfe28abe",
    "outputId": "d1b404e2-65d7-4cf7-a058-0444662f76c6"
   },
   "outputs": [
    {
     "name": "stdout",
     "output_type": "stream",
     "text": [
      "* A testar 10 tentativas) com pré-condição extra True.\n"
     ]
    },
    {
     "name": "stdout",
     "output_type": "stream",
     "text": [
      "> Iteração 2: sistema inseguro.\n",
      "* A testar 10 tentativas) com pré-condição extra (! ((((x - 2) / 5) * 5) = (x - 2))).\n",
      "> Não foram encontrados estados inseguros.\n"
     ]
    }
   ],
   "source": [
    "# completar\n",
    "\n",
    "def ex2_safety(n, extra):\n",
    "    print(f\"* A testar {n} tentativas) com pré-condição extra {extra.serialize()}.\")\n",
    "    with Solver(name=\"z3\") as solver:\n",
    "      error = TRUE()\n",
    "      stop = FALSE()\n",
    "\n",
    "      do = FALSE()\n",
    "      guarda = And(GE(x, Int(3)), extra)\n",
    "\n",
    "      for i in range(n):\n",
    "          system = And(guarda, do)\n",
    "          if solver.solve([system]):\n",
    "            print(f\"> Iteração {i}: sistema inseguro.\")\n",
    "            return\n",
    "\n",
    "          # do[x\\x-5]\n",
    "          atrib = substitute(do, {x: Minus(x, Int(5))})\n",
    "\n",
    "          new_do = And(Implies(Equals(x, Int(2)), error),\n",
    "                       Implies(LE(x, Int(0)), stop),\n",
    "                       Implies(And(GE(x, Int(0)), NotEquals(x, Int(2))),\n",
    "                               atrib))\n",
    "\n",
    "          # Tentar provar que do_n <-> do_{n-1}.\n",
    "          if solver.is_unsat(And(new_do, Not(do))):\n",
    "            if solver.is_unsat(And(do, Not(new_do))):\n",
    "              print(f\"> O sistema é seguro (iteração {i}).\")\n",
    "\n",
    "          do = Or(do, new_do)\n",
    "\n",
    "      print(\"> Não foram encontrados estados inseguros.\")\n",
    "\n",
    "x = Symbol(\"x\", INT)\n",
    "extra = TRUE()\n",
    "ex2_safety(10, extra)\n",
    "extra = NotEquals(Div(x-Int(2), Int(5))*Int(5), x-Int(2))\n",
    "ex2_safety(10, extra)"
   ]
  },
  {
   "cell_type": "markdown",
   "id": "GKceoyd_K4nx",
   "metadata": {
    "id": "GKceoyd_K4nx"
   },
   "source": [
    "# Versão com Grafo NetworkX\n"
   ]
  },
  {
   "cell_type": "code",
   "execution_count": 6,
   "id": "eGT4-O64K8fQ",
   "metadata": {
    "id": "eGT4-O64K8fQ"
   },
   "outputs": [],
   "source": [
    "import networkx as nx\n",
    "import matplotlib.pyplot as plt\n",
    "\n",
    "G = nx.DiGraph()\n",
    "\n",
    "x = Symbol(\"x\", INT)\n",
    "\n",
    "# Nodes: label-annotation tuples.\n",
    "nodes = [(\"system\", \"havoc x\"),\n",
    "         (\"do\", \"skip\"),\n",
    "         (\"error\", \"skip\"),\n",
    "         (\"stop\", \"skip\"),\n",
    "         (\"nottwo\", {x: Minus(x, Int(5))})]\n",
    "\n",
    "# Edges: source-target-condition tuples.\n",
    "edges = [(\"system\", \"do\", GE(x, Int(3))),\n",
    "         (\"do\", \"stop\", LE(x, Int(0))),\n",
    "         (\"do\", \"error\", Equals(x, Int(2))),\n",
    "         (\"do\", \"nottwo\",\" And(NotEquals(x, Int(2)), GE(x, Int(0)))\"),\n",
    "         (\"nottwo\", \"do\", \"\")]\n",
    "\n",
    "for label, annotation in  nodes:\n",
    "    G.add_node(label, annotation = annotation)\n",
    "\n",
    "for source, target, condition in edges:\n",
    "    G.add_edge(source, target, condition = condition)"
   ]
  },
  {
   "cell_type": "code",
   "execution_count": 7,
   "id": "_kv99P1QM91I",
   "metadata": {
    "colab": {
     "base_uri": "https://localhost:8080/",
     "height": 836
    },
    "id": "_kv99P1QM91I",
    "outputId": "df895086-37a4-4cc9-8ac0-57b33054e8ee"
   },
   "outputs": [
    {
     "ename": "ModuleNotFoundError",
     "evalue": "No module named 'pydot'",
     "output_type": "error",
     "traceback": [
      "\u001b[0;31m---------------------------------------------------------------------------\u001b[0m",
      "\u001b[0;31mModuleNotFoundError\u001b[0m                       Traceback (most recent call last)",
      "Cell \u001b[0;32mIn[7], line 1\u001b[0m\n\u001b[0;32m----> 1\u001b[0m pos \u001b[38;5;241m=\u001b[39m \u001b[43mnx\u001b[49m\u001b[38;5;241;43m.\u001b[39;49m\u001b[43mnx_pydot\u001b[49m\u001b[38;5;241;43m.\u001b[39;49m\u001b[43mpydot_layout\u001b[49m\u001b[43m(\u001b[49m\u001b[43mG\u001b[49m\u001b[43m,\u001b[49m\u001b[43m \u001b[49m\u001b[43mprog\u001b[49m\u001b[38;5;241;43m=\u001b[39;49m\u001b[38;5;124;43m\"\u001b[39;49m\u001b[38;5;124;43mdot\u001b[39;49m\u001b[38;5;124;43m\"\u001b[39;49m\u001b[43m)\u001b[49m\n\u001b[1;32m      2\u001b[0m plt\u001b[38;5;241m.\u001b[39mfigure(figsize\u001b[38;5;241m=\u001b[39m(\u001b[38;5;241m10\u001b[39m, \u001b[38;5;241m8\u001b[39m))\n\u001b[1;32m      3\u001b[0m nx\u001b[38;5;241m.\u001b[39mdraw(G, pos  \u001b[38;5;241m=\u001b[39m pos, with_labels \u001b[38;5;241m=\u001b[39m \u001b[38;5;28;01mTrue\u001b[39;00m, node_size \u001b[38;5;241m=\u001b[39m \u001b[38;5;241m4000\u001b[39m, connectionstyle\u001b[38;5;241m=\u001b[39m\u001b[38;5;124m\"\u001b[39m\u001b[38;5;124marc3,rad=0.2\u001b[39m\u001b[38;5;124m\"\u001b[39m)\n",
      "File \u001b[0;32m~/miniconda3/envs/logica/lib/python3.10/site-packages/networkx/drawing/nx_pydot.py:363\u001b[0m, in \u001b[0;36mpydot_layout\u001b[0;34m(G, prog, root)\u001b[0m\n\u001b[1;32m    325\u001b[0m \u001b[38;5;28;01mdef\u001b[39;00m \u001b[38;5;21mpydot_layout\u001b[39m(G, prog\u001b[38;5;241m=\u001b[39m\u001b[38;5;124m\"\u001b[39m\u001b[38;5;124mneato\u001b[39m\u001b[38;5;124m\"\u001b[39m, root\u001b[38;5;241m=\u001b[39m\u001b[38;5;28;01mNone\u001b[39;00m):\n\u001b[1;32m    326\u001b[0m \u001b[38;5;250m    \u001b[39m\u001b[38;5;124;03m\"\"\"Create node positions using :mod:`pydot` and Graphviz.\u001b[39;00m\n\u001b[1;32m    327\u001b[0m \n\u001b[1;32m    328\u001b[0m \u001b[38;5;124;03m    Parameters\u001b[39;00m\n\u001b[0;32m   (...)\u001b[0m\n\u001b[1;32m    361\u001b[0m \n\u001b[1;32m    362\u001b[0m \u001b[38;5;124;03m    \"\"\"\u001b[39;00m\n\u001b[0;32m--> 363\u001b[0m     \u001b[38;5;28;01mimport\u001b[39;00m \u001b[38;5;21;01mpydot\u001b[39;00m\n\u001b[1;32m    365\u001b[0m     P \u001b[38;5;241m=\u001b[39m to_pydot(G)\n\u001b[1;32m    366\u001b[0m     \u001b[38;5;28;01mif\u001b[39;00m root \u001b[38;5;129;01mis\u001b[39;00m \u001b[38;5;129;01mnot\u001b[39;00m \u001b[38;5;28;01mNone\u001b[39;00m:\n",
      "\u001b[0;31mModuleNotFoundError\u001b[0m: No module named 'pydot'"
     ]
    }
   ],
   "source": [
    "pos = nx.nx_pydot.pydot_layout(G, prog=\"dot\")\n",
    "plt.figure(figsize=(10, 8))\n",
    "nx.draw(G, pos  = pos, with_labels = True, node_size = 4000, connectionstyle=\"arc3,rad=0.2\")\n",
    "\n",
    "edge_conds = nx.get_edge_attributes(G, name = \"condition\")\n",
    "nx.draw_networkx_edge_labels(G, pos, edge_conds)\n",
    "\n",
    "annotations = nx.get_node_attributes(G, 'annotation')\n",
    "for node, annotation in annotations.items():\n",
    "    xp, yp = pos[node]\n",
    "    plt.text(xp, yp - 5, annotation, fontsize=8, ha='center', va='top')\n",
    "\n",
    "plt.show()"
   ]
  },
  {
   "cell_type": "code",
   "execution_count": null,
   "id": "RsTOCT1HPw4n",
   "metadata": {
    "colab": {
     "base_uri": "https://localhost:8080/"
    },
    "id": "RsTOCT1HPw4n",
    "outputId": "ff9b4f0c-66ca-4b07-c394-b2f992a95f57"
   },
   "outputs": [
    {
     "name": "stdout",
     "output_type": "stream",
     "text": [
      "* A testar 10 tentativas) com pré-condição extra True.\n",
      "> Iteração 2: sistema inseguro.\n",
      "* A testar 10 tentativas) com pré-condição extra (! ((((x - 2) / 5) * 5) = (x - 2))).\n",
      "> Não foram encontrados estados inseguros.\n"
     ]
    }
   ],
   "source": [
    "def graph_safety(G, n, extra):\n",
    "    print(f\"* A testar {n} iterações com pré-condição extra {extra.serialize()}.\")\n",
    "    with Solver(name=\"z3\") as solver:\n",
    "      error = TRUE()\n",
    "      stop = FALSE()\n",
    "\n",
    "      do = FALSE()\n",
    "      guarda = And(GE(x, Int(3)), extra)\n",
    "\n",
    "      for i in range(n):\n",
    "          system = And(guarda, do)\n",
    "          if solver.solve([system]):\n",
    "            print(f\"> Iteração {i}: sistema inseguro.\")\n",
    "            return\n",
    "\n",
    "          # do[x\\x-5]\n",
    "          atrib = substitute(do, {x: Minus(x, Int(5))})\n",
    "\n",
    "          new_do = And(Implies(Equals(x, Int(2)), error),\n",
    "                       Implies(LE(x, Int(0)), stop),\n",
    "                       Implies(And(GE(x, Int(0)), NotEquals(x, Int(2))),\n",
    "                               atrib))\n",
    "\n",
    "          # Tentar provar que do_n <-> do_{n-1}.\n",
    "          if solver.is_unsat(And(new_do, Not(do))):\n",
    "            if solver.is_unsat(And(do, Not(new_do))):\n",
    "              print(f\"> O sistema é seguro (iteração {i}).\")\n",
    "\n",
    "          do = Or(do, new_do)\n",
    "\n",
    "      print(\"> Não foram encontrados estados inseguros.\")\n",
    "\n",
    "x = Symbol(\"x\", INT)\n",
    "extra = TRUE()\n",
    "ex2_safety(10, extra)\n",
    "extra = NotEquals(Div(x-Int(2), Int(5))*Int(5), x-Int(2))\n",
    "ex2_safety(10, extra)"
   ]
  },
  {
   "cell_type": "markdown",
   "id": "7efdfbcf",
   "metadata": {
    "id": "7efdfbcf"
   },
   "source": [
    "### Exercício 5\n",
    "\n",
    "Para determinar se existe algum estado acessível que conduza a uma paragem no estado $\\;\\mathsf{stop}\\;$, pode-se fazer  $\\;\\mathsf{stop}\\,\\equiv\\,\\mathsf{True}\\,$ e $\\;\\mathsf{error}\\,\\equiv\\,\\mathsf{False}\\,$ e verificar se $\\,\\mathsf{system}\\,$ é satisfazível. Codifique uma função python que implementa este teste."
   ]
  },
  {
   "cell_type": "code",
   "execution_count": null,
   "id": "fea1302c",
   "metadata": {
    "id": "fea1302c"
   },
   "outputs": [],
   "source": [
    "# completar"
   ]
  },
  {
   "cell_type": "code",
   "execution_count": null,
   "id": "faa71f1e",
   "metadata": {
    "colab": {
     "base_uri": "https://localhost:8080/"
    },
    "id": "faa71f1e",
    "outputId": "0ea833c7-93bd-45ad-9c19-ed155a7f8dac"
   },
   "outputs": [
    {
     "name": "stdout",
     "output_type": "stream",
     "text": [
      "* A verificar se a terminação é acessível em 10 iterações.\n",
      "> Iteração 4: stop é acessível.\n",
      "* A verificar se a terminação é acessível em 10 iterações.\n",
      "> Não foi provada a terminação do sistema.\n"
     ]
    }
   ],
   "source": [
    "def ex3_termination(val, n):\n",
    "    print(f\"* A verificar se a terminação é acessível em {n} iterações.\")\n",
    "\n",
    "    with Solver(name=\"z3\") as solver:\n",
    "      error = FALSE()\n",
    "      stop = TRUE()\n",
    "\n",
    "      do = FALSE()\n",
    "      guarda = And(GE(x, Int(3)), Equals(x, Int(val)))\n",
    "\n",
    "      for i in range(n):\n",
    "          system = And(guarda, do)\n",
    "\n",
    "          if solver.solve([system]):\n",
    "            print(f\"> Iteração {i}: stop é acessível.\")\n",
    "            return\n",
    "\n",
    "          # do[x\\x-5]\n",
    "          atrib = substitute(do, {x: Minus(x, Int(5))})\n",
    "\n",
    "          new_do = And(Implies(Equals(x, Int(2)), error),\n",
    "                       Implies(LE(x, Int(0)), stop),\n",
    "                       Implies(And(GE(x, Int(0)), NotEquals(x, Int(2))),\n",
    "                               atrib))\n",
    "\n",
    "          do = Or(do, new_do)\n",
    "\n",
    "      print(\"> Não foi provada a terminação do sistema.\")\n",
    "\n",
    "ex3_termination(10, 10)\n",
    "ex3_termination(17, 10)"
   ]
  }
 ],
 "metadata": {
  "colab": {
   "provenance": []
  },
  "kernelspec": {
   "display_name": "logica",
   "language": "python",
   "name": "python3"
  },
  "language_info": {
   "codemirror_mode": {
    "name": "ipython",
    "version": 3
   },
   "file_extension": ".py",
   "mimetype": "text/x-python",
   "name": "python",
   "nbconvert_exporter": "python",
   "pygments_lexer": "ipython3",
   "version": "3.10.14"
  }
 },
 "nbformat": 4,
 "nbformat_minor": 5
}
