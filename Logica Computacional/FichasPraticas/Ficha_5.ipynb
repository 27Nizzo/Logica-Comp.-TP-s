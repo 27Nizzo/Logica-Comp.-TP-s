{
 "cells": [
  {
   "cell_type": "markdown",
   "id": "41dcee93",
   "metadata": {},
   "source": [
    "# Transformadores de predicados\n",
    "\n",
    "Um transformador de predicados, como o nome sugere, não é mais do que um operador que recebe um predicado e produz um predicado.\n",
    "Uma técnica de verificação de segurança de sistemas dinâmicos que pode ser aplicada a SFOTS baseia-se neste conceito. Associado a uma transição $\\;\\mathsf{T}\\,$, o transformador de predicados $\\;\\mathsf{wp_T}\\;$, designado por **weakest pre-condition** mapeia um predicado genérico $\\,\\mathsf{Q}\\,$ no  predicado $\\;\\mathsf{wp_T}(\\mathsf{Q})\\;$ que verifica, para todo o predicado $\\;\\mathsf{P}$, a seguinte propriedade\n",
    "$$\\mathsf{P}\\,\\to\\,\\mathsf{wp_T}(\\mathsf{Q})\\quad \\mbox{ sse } \\quad\\mathsf{P}\\,\\land\\,\\mathsf{T}\\,\\to\\,\\mathsf{Q}'\\quad$$ \n",
    "\n",
    "O transformador de predicados $\\;\\mathsf{sp_T}$, associado a uma transição $\\;\\mathsf{T}\\,$, designado por **strongest post-condition**, mapeia um predicado genérico $\\,\\mathsf{P}\\,$ no  predicado $\\;\\mathsf{sp_T}(\\mathsf{P})\\;$ que verifica, para todo o predicado $\\;\\mathsf{Q}$,\n",
    "$$\\mathsf{sp_T}(\\mathsf{P})\\,\\to\\,\\mathsf{Q}\\quad \\mbox{ sse } \\quad\\mathsf{P}\\,\\land\\,\\mathsf{T}\\,\\to\\,\\mathsf{Q}'\\quad$$ \n",
    "\n",
    "Relembramos estes tranformadores para os diversos tipos de transições, conforme apresentado nas aulas teóricas.\n",
    "\n",
    "- Atribuição:  $ \\quad\\mathsf{T(X,X')}\\;\\equiv\\; (\\mathsf{X}' = \\mathit{exp}(\\mathsf{X}))$\n",
    "   - $\\mathsf{wp_T(Q)\\;\\equiv\\;Q\\{\\mathsf{X}/\\mathit{exp}(\\mathsf{X})\\} }$\n",
    "   - $\\mathsf{sp_T(P)\\;\\equiv\\; P\\{\\mathsf{X}/\\mathsf{Z}\\}\\,\\land\\,(\\mathsf{X}=\\mathit{exp}(\\mathsf{Z})) }\\quad$ sendo $\\;\\mathsf{Z}\\;$ uma variável fresca\n",
    "   \n",
    "   \n",
    "- Guarda: $\\quad\\mathsf{T(X,X')\\;\\equiv \\;G(X)\\,\\land\\, S(X,X')}\\,$\n",
    "   - $\\mathsf{wp_T(Q)\\;\\equiv\\; G \\to \\,wp_S(Q)}$\n",
    "   - $\\mathsf{sp_T(P)\\;\\equiv\\;sp_S(G\\land P)}$\n",
    "   \n",
    "   \n",
    "- Escolha: $\\quad \\mathsf{T(X,X') \\;\\equiv\\; \\mathsf{T}_0(X,X') \\;\\lor\\;\\mathsf{T}_1(X,X')}$\n",
    "   - $\\mathsf{wp_{\\mathsf{T}}(Q)\\;\\equiv\\; \\mathsf{wp}_{\\mathsf{T}_0}(Q)\\,\\land\\,\\mathsf{wp}_{\\mathsf{T}_1}(Q)}$\n",
    "   - $\\mathsf{sp_{\\mathsf{T}}(P)\\;\\equiv\\; \\mathsf{sp}_{\\mathsf{T}_0}(P)\\,\\lor\\,\\mathsf{sp}_{\\mathsf{T}_1}(P)}$\n",
    "   \n",
    "   \n",
    "- Composição: $\\quad\\mathsf{T(X,X')\\;\\equiv\\;\\exists\\,Y\\,\\centerdot\\,\\mathsf{T}_0(X,Y)\\land\\mathsf{T}_1(Y,X')}$\n",
    "   - $\\mathsf{wp_\\mathsf{T}(Q)\\;\\equiv\\; \\mathsf{wp}_{\\mathsf{T}_0}(\\mathsf{wp}_{\\mathsf{T}_1}(Q))}$\n",
    "   - $\\mathsf{sp_\\mathsf{T}(P)\\;\\equiv\\; \\mathsf{sp}_{\\mathsf{T}_1}(\\mathsf{sp}_{\\mathsf{T}_0}(P))}$\n",
    "\n",
    "\n",
    "- Atribuição não-determinística: $ \\quad\\mathsf{T(X,X')\\;\\equiv\\; (X' = havoc(X))\\;\\equiv\\; \\bigvee\\,a\\,\\centerdot\\,(X'=a) }$ \n",
    "   - $\\,\\mathsf{wp_T(Q)\\,\\equiv\\,\\bigwedge\\,a\\,\\centerdot\\,Q\\{X/a\\} \\,\\equiv\\,\\forall\\,a\\,\\centerdot\\,Q\\{X/a\\}}$\n",
    "   - $\\mathsf{sp_T(P)\\,\\equiv\\,\\bigvee\\,a\\,\\centerdot\\,(X=a) \\,\\equiv\\,\\exists\\,a\\,\\centerdot\\,(X=a)}$\n"
   ]
  },
  {
   "cell_type": "markdown",
   "id": "ca897a17",
   "metadata": {},
   "source": [
    "Os dois operadores $\\;\\mathsf{wp}\\,$ e $\\,\\mathsf{sp}\\,$  podem ser aplicados múltiplas vezes.  $\\;\\mathsf{sp}^n(\\mathsf{I})\\;$ é a pós-condição mais forte  após a aplicação $\\,n\\,$ vezes da transição $\\,\\mathsf{T}\\,$ a partir de um estado inicial $\\,s\\in\\mathsf{I}\\,$. Formalmente tem-se\n",
    "$\\:\\mathsf{sp}^0(\\mathsf{I}) \\;\\equiv\\;\\mathsf{I}\\:$ e $\\:\\mathsf{sp}^{n}(\\mathsf{I})\\;\\equiv\\;\\mathsf{sp}(\\mathsf{sp}^{n-1}(\\mathsf{I}))\\;$ para $n>0$.\n",
    "De igual modo,  $\\mathsf{wp}^m(\\mathsf{E})\\;$ é a pré-condição mais fraca que assegura um estado de erro $\\,e\\in\\mathsf{E}\\;$ após $\\,m\\,$ aplicações  da transição $\\;\\mathsf{T}$. Formalmente tem-se\n",
    "$\\mathsf{wp}^0(\\mathsf{E}) \\;\\equiv\\;\\mathsf{E}\\:$ e $\\:\\mathsf{wp}^{m}(\\mathsf{E})\\;\\equiv\\;\\mathsf{wp}(\\mathsf{wp}^{m-1}(\\mathsf{E}))\\:$ para $m>0$.\n",
    "\n",
    "$\\mathsf{sp}^\\ast(\\mathsf{I})\\;\\equiv\\;\\bigvee_{n=0}^\\infty\\;\\mathsf{sp}^n(\\mathsf{I})\\:$ denota o conjunto  dos estados alcançáveis\n",
    "e $\\:\\mathsf{wp}^\\ast(\\mathsf{E})\\;\\equiv\\;\\bigvee_{m=0}^\\infty\\;\\mathsf{wp}^m(\\mathsf{E})\\:$ representa o conjunto dos estados inseguros.\n",
    "O  sistema $\\;\\Sigma\\;$ é seguro se estes dois conjuntos nunca se intersectam, isto é, se $\\;\\mathsf{sp}^\\ast(\\mathsf{I})\\,\\land\\,\\mathsf{wp}^\\ast(\\mathsf{E})\\;$ é insatisfazível.\n",
    "\n",
    "Nem $\\;\\mathsf{sp}^\\ast(\\mathsf{I})\\;$ nem $\\;\\mathsf{wp}^\\ast(\\mathsf{E})\\;$ pode ser computado (por ter um número infinito de disjunções), mas podemos esboçar um algoritmo de verificação baseado nesta ideia, recorrendo a aproximações destes predicados. "
   ]
  },
  {
   "cell_type": "markdown",
   "id": "a4544329",
   "metadata": {},
   "source": [
    "### Exercício 1\n",
    "\n",
    "Considere o seguinte programa anotado com uma pré-condição e desenhe um  \"control flow automaton” (CFA) que o modele, seguindo as diretivas apresentadas nas aulas teóricas.\n",
    "```Python\n",
    "{ x >= 3 } \n",
    "while (x>0):\n",
    "    if x == 2: \n",
    "        raise error\n",
    "    x = x-5\n",
    "stop\n",
    "```"
   ]
  },
  {
   "cell_type": "markdown",
   "id": "b3109fa6",
   "metadata": {},
   "source": [
    "Pode-se assumir que o predicado dos estados iniciais é\n",
    "$\\mathsf{I}\\;\\equiv\\;\\mathsf{True}$ e associar um predicado a cada um dos locais do sistema de acordo com os seguintes princípios:\n",
    "- Ao primeiro local de acessibilidade ($\\,\\mathsf{system}\\,$) associamos a pré-condição mais forte $\\;\\mathsf{sp}(\\mathsf{I})\\,$, o que é determinado pelo comando  $\\,\\mathsf{havoc}\\,$ seguido da guarda da transição. \n",
    "- Aos locais $\\;\\mathsf{stop}\\;$ e $\\;\\mathsf{error}\\;$ associamos predicados constantes que vão depender do tipo de problema que vamos tentar modelar. \n",
    "- Aos restantes locais associamos a pré-condição mais fraca.                       "
   ]
  },
  {
   "cell_type": "markdown",
   "id": "ad5ae83c",
   "metadata": {},
   "source": [
    "### Exercício 2\n",
    "\n",
    "À semelhança do apresentado nos apontamentos teóricos, escreva as definições recursivas que descrevem o CFA que construiu no exercício 1."
   ]
  },
  {
   "cell_type": "markdown",
   "id": "94ad6ed4",
   "metadata": {},
   "source": [
    "*(completar)*"
   ]
  },
  {
   "cell_type": "code",
   "execution_count": null,
   "id": "97836dbb",
   "metadata": {},
   "outputs": [
    {
     "ename": "SyntaxError",
     "evalue": "invalid syntax (3525664881.py, line 1)",
     "output_type": "error",
     "traceback": [
      "\u001b[0;36m  Cell \u001b[0;32mIn[10], line 1\u001b[0;36m\u001b[0m\n\u001b[0;31m    import\u001b[0m\n\u001b[0m          ^\u001b[0m\n\u001b[0;31mSyntaxError\u001b[0m\u001b[0;31m:\u001b[0m invalid syntax\n"
     ]
    }
   ],
   "source": [
    "\n",
    "\n",
    "def ex2_safety(n, extra):\n",
    "    print(f\"> A testar {n} tentativas com pré-condição extra {extra}.\")\n",
    "    with Solver(name=\"z3\") as solver:\n",
    "        error = TRUE()\n",
    "        stop = FALSE()\n",
    "\n",
    "        do = FALSE()\n",
    "        guarda = And(GE(x, Int(3)), extra)\n",
    "\n",
    "        for i in range(n):\n",
    "            system = And(guarda, do)\n",
    "            if solver.solve([system]):\n",
    "                print(f\"> Iteração {i}: sistema inseguro.\")\n",
    "                return\n",
    "\n",
    "            # do[x\\x-5]\n",
    "            atrib = substitute(do, {x: x - Int(5)})\n",
    "\n",
    "            new_do = And(Implies(Equals(x, Int(2)), error),\n",
    "                         Implies(LE(x, Int(0)), stop),\n",
    "                         Implies(And(GT(x, Int(0)), NotEquals(x, Int(2))), atrib))\n",
    "            \n",
    "            if solver.is_unsat(And(new_do, Not(do))):\n",
    "                if solver.is_unsat(And(do, Not(new_do))):\n",
    "                    print(f\"> O sistema é seguro (iteração {i})\")\n",
    "                    return\n",
    "\n",
    "            do = Or(do, new_do)\n",
    "    \n",
    "    print(\"> Não foram encontrados estados inseguros\")\n",
    "\n",
    "x = Symbol(\"x\", INT)\n",
    "extra = TRUE()\n",
    "ex2_safety(10, extra)\n",
    "extra = NotEquals(Div(x - Int(2), Int(5)) * Int(5), x - Int(2))"
   ]
  },
  {
   "cell_type": "markdown",
   "id": "9943b4a6",
   "metadata": {},
   "source": [
    "Para determinar se existe algum estado acessível que seja um estado inseguro faz-se $\\;\\mathsf{error}\\,\\equiv\\,\\mathsf{True}\\,$ e  $\\;\\mathsf{stop}\\,\\equiv\\,\\mathsf{False}\\,$ e verifica-se se $\\;\\mathsf{system}\\;$ é satisfazível (caso isso aconteça o sistema é inseguro)."
   ]
  },
  {
   "cell_type": "markdown",
   "id": "0e840306",
   "metadata": {},
   "source": [
    "### Exercício 3\n",
    "\n",
    "Tendo por base o exercício 2, escreva uma função em python que, de forma iterativa, tente detectar uma situação em que o sistema é inseguro. A função pode receber dois argumentos um valor de entrada para x e o número de tentativas no cálculo aproximado de $\\;\\mathsf{wp}^\\ast(\\mathsf{E})\\;$."
   ]
  },
  {
   "cell_type": "code",
   "execution_count": null,
   "id": "c1a33a5b",
   "metadata": {},
   "outputs": [],
   "source": [
    "from pysmt.shortcuts import *\n",
    "from pysmt.typing import INT\n",
    "\n",
    "def ex1_safety(val, n):\n",
    "    print(f\"> Testing for value {val}.\")\n",
    "    \n",
    "    x = Symbol(\"x\", INT)\n",
    "    error = TRUE()\n",
    "    stop = FALSE()\n",
    "    \n",
    "    first = And(GE(x, Int(3)), Equals(x, Int(val)))\n",
    "    \n",
    "    do = FALSE()\n",
    "    with Solver(name=\"z3\") as s:\n",
    "        for i in range(n):\n",
    "            if s.solve([do, first]):\n",
    "                print(f\"> Unsafe (iteration {i}).\")\n",
    "                return\n",
    "\n",
    "            atrib = substitute(do, {x: x-Int(5)})\n",
    "\n",
    "            new_do = And(Implies(Equals(x, Int(2)), error),\n",
    "                        Implies(LE(x, Int(0)), stop),\n",
    "                        Implies(And(GT(x, Int(0)), NotEquals(x, Int(2))), atrib))\n",
    "\n",
    "            do = Or(do, new_do)\n",
    "        \n",
    "    print(\"> Did not find error state.\")"
   ]
  },
  {
   "cell_type": "code",
   "execution_count": null,
   "id": "f0afdb7c",
   "metadata": {},
   "outputs": [
    {
     "name": "stdout",
     "output_type": "stream",
     "text": [
      "> Testing for value 5.\n",
      "> Did not find error state.\n"
     ]
    }
   ],
   "source": [
    "ex1_safety(5,10)"
   ]
  },
  {
   "cell_type": "code",
   "execution_count": null,
   "id": "f213cb07",
   "metadata": {},
   "outputs": [
    {
     "name": "stdout",
     "output_type": "stream",
     "text": [
      "> Testing for value 17.\n",
      "> Unsafe (iteration 4).\n"
     ]
    }
   ],
   "source": [
    "ex1_safety(17,5)"
   ]
  },
  {
   "cell_type": "markdown",
   "id": "cfd9e9dd",
   "metadata": {},
   "source": [
    "### Exercício 4\n",
    "\n",
    "Experimente fortalecer a pré-condição da função de forma evitar situações de erro.\n",
    "\n",
    "$(x-2)\\%5 \\neq 0$\n",
    "\n",
    "$\\leftrightarrow Div(x-2, 5)* 5 = x-2$ \n",
    "\n",
    "y múltiplo de m $\\leftrightarrow Div(y, m)* m = y$ \n",
    "\n",
    "$Div(6, 3)* 3 = 6 \\leftrightarrow 2*3 = 6$\n",
    "\n",
    "$Div(7, 3)* 3 = 7 \\leftrightarrow 2*3 = 7$"
   ]
  },
  {
   "cell_type": "code",
   "execution_count": null,
   "id": "cfe28abe",
   "metadata": {},
   "outputs": [
    {
     "name": "stdout",
     "output_type": "stream",
     "text": [
      "> Testing for value 5.\n"
     ]
    },
    {
     "ename": "NameError",
     "evalue": "name 'Symbol' is not defined",
     "output_type": "error",
     "traceback": [
      "\u001b[0;31m---------------------------------------------------------------------------\u001b[0m",
      "\u001b[0;31mNameError\u001b[0m                                 Traceback (most recent call last)",
      "Cell \u001b[0;32mIn[1], line 33\u001b[0m\n\u001b[1;32m     29\u001b[0m             do \u001b[38;5;241m=\u001b[39m Or(do, new_do)\n\u001b[1;32m     31\u001b[0m     \u001b[38;5;28mprint\u001b[39m(\u001b[38;5;124m\"\u001b[39m\u001b[38;5;124m> Did not find error state.\u001b[39m\u001b[38;5;124m\"\u001b[39m)\n\u001b[0;32m---> 33\u001b[0m \u001b[43mex4_safety\u001b[49m\u001b[43m(\u001b[49m\u001b[38;5;241;43m5\u001b[39;49m\u001b[43m,\u001b[49m\u001b[38;5;241;43m10\u001b[39;49m\u001b[43m)\u001b[49m\n\u001b[1;32m     34\u001b[0m ex4_safety(\u001b[38;5;241m17\u001b[39m,\u001b[38;5;241m5\u001b[39m)\n",
      "Cell \u001b[0;32mIn[1], line 9\u001b[0m, in \u001b[0;36mex4_safety\u001b[0;34m(val, n)\u001b[0m\n\u001b[1;32m      6\u001b[0m \u001b[38;5;28;01mdef\u001b[39;00m \u001b[38;5;21mex4_safety\u001b[39m(val, n):\n\u001b[1;32m      7\u001b[0m     \u001b[38;5;28mprint\u001b[39m(\u001b[38;5;124mf\u001b[39m\u001b[38;5;124m\"\u001b[39m\u001b[38;5;124m> Testing for value \u001b[39m\u001b[38;5;132;01m{\u001b[39;00mval\u001b[38;5;132;01m}\u001b[39;00m\u001b[38;5;124m.\u001b[39m\u001b[38;5;124m\"\u001b[39m)\n\u001b[0;32m----> 9\u001b[0m     x \u001b[38;5;241m=\u001b[39m \u001b[43mSymbol\u001b[49m(\u001b[38;5;124m\"\u001b[39m\u001b[38;5;124mx\u001b[39m\u001b[38;5;124m\"\u001b[39m, INT)\n\u001b[1;32m     10\u001b[0m     error \u001b[38;5;241m=\u001b[39m TRUE()\n\u001b[1;32m     11\u001b[0m     stop \u001b[38;5;241m=\u001b[39m FALSE()\n",
      "\u001b[0;31mNameError\u001b[0m: name 'Symbol' is not defined"
     ]
    }
   ],
   "source": [
    "# completar\n",
    "\n",
    "# { x >= 3 && x = real } -> x <= 3 && {Div(x-2,5)*5 = x - 2} -> extra\n",
    "\n",
    "\n",
    "def ex4_safety(val, n):\n",
    "    print(f\"> Testing for value {val}.\")\n",
    "    \n",
    "    x = Symbol(\"x\", INT)\n",
    "    error = TRUE()\n",
    "    stop = FALSE()\n",
    "    \n",
    "    noterror = NotEquals(Div(x-Int(2), Int(5))*Int(5), x - Int(2))\n",
    "    first = And(GE(x, Int(3)), Equals(x, Int(val)), noterror)\n",
    "    \n",
    "    do = FALSE()\n",
    "    with Solver(name=\"z3\") as s:\n",
    "        for i in range(n):\n",
    "            if s.solve([do, first]):\n",
    "                print(f\"> Unsafe (iteration {i}).\")\n",
    "                return\n",
    "\n",
    "            atrib = substitute(do, {x: x-Int(5)})\n",
    "\n",
    "            new_do = And(Implies(Equals(x, Int(2)), error),\n",
    "                        Implies(LE(x, Int(0)), stop),\n",
    "                        Implies(And(GT(x, Int(0)), NotEquals(x, Int(2))), atrib))\n",
    "\n",
    "            do = Or(do, new_do)\n",
    "        \n",
    "    print(\"> Did not find error state.\")\n",
    "\n",
    "ex4_safety(5,10)\n",
    "ex4_safety(17,5)\n"
   ]
  },
  {
   "cell_type": "markdown",
   "id": "7efdfbcf",
   "metadata": {},
   "source": [
    "### Exercício 5\n",
    "\n",
    "Para determinar se existe algum estado acessível que conduza a uma paragem no estado $\\;\\mathsf{stop}\\;$, pode-se fazer  $\\;\\mathsf{stop}\\,\\equiv\\,\\mathsf{True}\\,$ e $\\;\\mathsf{error}\\,\\equiv\\,\\mathsf{False}\\,$ e verificar se $\\,\\mathsf{system}\\,$ é satisfazível. Codifique uma função python que implementa este teste."
   ]
  },
  {
   "cell_type": "code",
   "execution_count": null,
   "id": "24fac67c",
   "metadata": {},
   "outputs": [],
   "source": [
    "import networkx as nx\n",
    "import matplotlib.pyplot as plt\n",
    "\n",
    "G = nx.digraph()\n",
    "x = Symbol(x , INT)\n",
    "\n",
    "\n",
    "# Nodes: label: annotation tuples\n",
    "nodes = [(\"system\", \"havoc x\"),\n",
    "         ]\n",
    "\n",
    "#Edges:\n",
    "edges = [(\"System\", \"do\", GE(x, Int(3)))]\n",
    "\n",
    "for label, annotation in nodes:\n",
    "    G.add_node(label, annotation = annotation)\n",
    "\n",
    "for source, target, condition in edges:\n",
    "    G.add_edge(source, target, condition = condition)\n"
   ]
  },
  {
   "cell_type": "code",
   "execution_count": null,
   "id": "fea1302c",
   "metadata": {},
   "outputs": [
    {
     "name": "stdout",
     "output_type": "stream",
     "text": [
      "> Testing for value 5.\n",
      "> Estado 'stop' é acessível (iteration 2).\n",
      "> Testing for value 17.\n",
      "> Não se provou a acessibilidade do estado 'stop'.\n"
     ]
    }
   ],
   "source": [
    "# completar\n",
    "def ex5_safety(val, n):\n",
    "    print(f\"> Testing for value {val}.\")\n",
    "    \n",
    "    x = Symbol(\"x\", INT)\n",
    "    error = FALSE()\n",
    "    stop = TRUE()\n",
    "    \n",
    "    first = And(GE(x, Int(3)), Equals(x, Int(val)))\n",
    "    \n",
    "    do = FALSE()\n",
    "    with Solver(name=\"z3\") as s:\n",
    "        for i in range(n):\n",
    "            if s.solve([do, first]):\n",
    "                print(f\"> Estado 'stop' é acessível (iteration {i}).\")\n",
    "                return\n",
    "\n",
    "            atrib = substitute(do, {x: x-Int(5)})\n",
    "\n",
    "            new_do = And(Implies(Equals(x, Int(2)), error),\n",
    "                        Implies(LE(x, Int(0)), stop),\n",
    "                        Implies(And(GT(x, Int(0)), NotEquals(x, Int(2))), atrib))\n",
    "\n",
    "            do = Or(do, new_do)\n",
    "        \n",
    "    print(\"> Não se provou a acessibilidade do estado 'stop'.\")\n",
    "    \n",
    "ex5_safety(5,10)\n",
    "ex5_safety(17,5)"
   ]
  },
  {
   "cell_type": "code",
   "execution_count": null,
   "id": "faa71f1e",
   "metadata": {},
   "outputs": [],
   "source": []
  }
 ],
 "metadata": {
  "kernelspec": {
   "display_name": "logica",
   "language": "python",
   "name": "python3"
  },
  "language_info": {
   "codemirror_mode": {
    "name": "ipython",
    "version": 3
   },
   "file_extension": ".py",
   "mimetype": "text/x-python",
   "name": "python",
   "nbconvert_exporter": "python",
   "pygments_lexer": "ipython3",
   "version": "3.10.14"
  }
 },
 "nbformat": 4,
 "nbformat_minor": 5
}
