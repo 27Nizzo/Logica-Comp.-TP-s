{
 "cells": [
  {
   "cell_type": "markdown",
   "metadata": {},
   "source": [
    "###  Outubro, 8, 2024\n",
    "\n",
    "\n",
    "## TP2 - Grupo 20\n",
    "\n",
    "Afonso Martins Campos Fernandes - A102940\n",
    "\n",
    "Luís Filipe Pinheiro Silva - A105530"
   ]
  },
  {
   "cell_type": "markdown",
   "metadata": {},
   "source": [
    "### Exercicio 2 - Multiplicação de Inteiros"
   ]
  },
  {
   "cell_type": "markdown",
   "metadata": {},
   "source": [
    "Considere o problema descrito no documento \"+Lógica Computacional: Multiplicação de Inteiros\" . Nesse documento usa-se um “Control Flow Automaton” como  modelo do programa imperativo que calcula a multiplicação de  inteiros positivos representados por vetores de bits."
   ]
  },
  {
   "cell_type": "code",
   "execution_count": 34,
   "metadata": {},
   "outputs": [],
   "source": [
    "from pysmt.shortcuts import *\n",
    "from z3 import *"
   ]
  },
  {
   "cell_type": "markdown",
   "metadata": {},
   "source": [
    "\n",
    "Pretende-se:\n",
    "\n",
    "a. Construir um SFOTS, usando BitVec’s de tamanho $n$ , que descreva o comportamento deste autómato; para isso identifique e codifique em `Z3`  ou `pySMT`, as variáveis do modelo, o estado inicial , a relação de transição e o estado de erro.\n"
   ]
  },
  {
   "cell_type": "code",
   "execution_count": 35,
   "metadata": {},
   "outputs": [],
   "source": [
    "def states(i,n):\n",
    "    state = {}\n",
    "    \n",
    "    state['c'] = Int('c'+str(i))\n",
    "    state['x'] = BitVec('x' + str(i),n)\n",
    "    state['y'] = BitVec('y' + str(i),n)\n",
    "    state['z'] = BitVec('z' + str(i),n)\n",
    "\n",
    "    return state\n",
    "\n",
    "def init(state,a,b):\n",
    "\n",
    "    return And(state['c'] == 0, state['x'] == a, state['y'] == b, state['z'] == 0)\n",
    "\n",
    "def trans(atual,prox,n):\n",
    "\n",
    "    #transicões entre estados Ex: t0_1 -> transição entre o estado 0 e o estado 1\n",
    "\n",
    "    valores_constantes = And(prox['x'] == atual['x'],prox['y'] == atual['y'],prox['z'] == atual['z'])\n",
    "\n",
    "    t0_1 = And(atual['c'] == 0, prox['c'] == 1, valores_constantes)\n",
    "\n",
    "    t1_2 = And(atual['c'] == 1, prox['c'] == 2, Not(atual['y'] == 0), URem(atual['y'],2) == 1, valores_constantes)\n",
    "\n",
    "    t1_3 = And(atual['c'] == 1, prox['c'] == 3, Not(atual['y'] == 0), URem(atual['y'],2) == 0, valores_constantes)\n",
    "\n",
    "    t3_1 = And(atual['c'] == 3, prox['x'] == atual['x'] << BitVecVal(1,n), prox['y'] == atual['y'] >> BitVecVal(1,n), prox['z'] == atual['z'], Or(And(ULT(atual['x'], BitVecVal(2**(n-1),n)),prox['c'] == 1),And(UGE(atual['x'], BitVecVal(2**(n-1),n)),prox['c'] == 4)))\n",
    "\n",
    "    t2_1 = And(atual['c'] == 2, prox['x'] == atual['x'], prox['y'] == atual['y'] - 1, prox['z'] == atual['z'] + atual['x'], Or(And(ULT(prox['z'], BitVecVal(2**(n-1),n)),prox['c'] == 1),And(UGE(prox['z'], BitVecVal(2**(n-1),n)),prox['c'] == 4)))\n",
    "\n",
    "    stop_transition = And(prox['c'] == atual['c'], valores_constantes, Or(And(atual['c'] == 4, prox['c'] == 4), And(atual['c'] == 5, prox['c'] == 5)))\n",
    "\n",
    "\n",
    "    return Or(t0_1,t1_2,t1_3,t3_1,t2_1,stop_transition)"
   ]
  },
  {
   "cell_type": "markdown",
   "metadata": {},
   "source": [
    "b. Usando $k$-indução verifique nesse SFOTS se a propriedade $$\\;(x*y + z = a*b)\\;$$ $$\\;$$é um invariante do seu comportamento."
   ]
  },
  {
   "cell_type": "code",
   "execution_count": null,
   "metadata": {},
   "outputs": [
    {
     "name": "stdout",
     "output_type": "stream",
     "text": [
      "Passo  0\n",
      "c = 0\n",
      "x = 150\n",
      "y = 2\n",
      "z = 0\n",
      "Passo  1\n",
      "c = 1\n",
      "x = 150\n",
      "y = 2\n",
      "z = 0\n",
      "Passo  2\n",
      "c = 3\n",
      "x = 150\n",
      "y = 2\n",
      "z = 0\n",
      "Passo  3\n",
      "c = 4\n",
      "x = 44\n",
      "y = 1\n",
      "z = 0\n",
      "Passo  4\n",
      "c = 4\n",
      "x = 44\n",
      "y = 1\n",
      "z = 0\n",
      "Passo  5\n",
      "c = 4\n",
      "x = 44\n",
      "y = 1\n",
      "z = 0\n",
      "Passo  6\n",
      "c = 4\n",
      "x = 44\n",
      "y = 1\n",
      "z = 0\n",
      "Passo  7\n",
      "c = 4\n",
      "x = 44\n",
      "y = 1\n",
      "z = 0\n",
      "Passo  8\n",
      "c = 4\n",
      "x = 44\n",
      "y = 1\n",
      "z = 0\n",
      "Passo  9\n",
      "c = 4\n",
      "x = 44\n",
      "y = 1\n",
      "z = 0\n",
      "Passo  10\n",
      "c = 4\n",
      "x = 44\n",
      "y = 1\n",
      "z = 0\n",
      "Passo  11\n",
      "c = 4\n",
      "x = 44\n",
      "y = 1\n",
      "z = 0\n",
      "Passo  12\n",
      "c = 4\n",
      "x = 44\n",
      "y = 1\n",
      "z = 0\n",
      "Passo  13\n",
      "c = 4\n",
      "x = 44\n",
      "y = 1\n",
      "z = 0\n",
      "Passo  14\n",
      "c = 4\n",
      "x = 44\n",
      "y = 1\n",
      "z = 0\n",
      "Passo  15\n",
      "c = 4\n",
      "x = 44\n",
      "y = 1\n",
      "z = 0\n",
      "Passo  16\n",
      "c = 4\n",
      "x = 44\n",
      "y = 1\n",
      "z = 0\n",
      "Passo  17\n",
      "c = 4\n",
      "x = 44\n",
      "y = 1\n",
      "z = 0\n",
      "Passo  18\n",
      "c = 4\n",
      "x = 44\n",
      "y = 1\n",
      "z = 0\n",
      "Passo  19\n",
      "c = 4\n",
      "x = 44\n",
      "y = 1\n",
      "z = 0\n",
      "sat\n"
     ]
    }
   ],
   "source": [
    "def gera_auto(k,n,a,b):\n",
    "\n",
    "    solver = Solver()\n",
    "\n",
    "    estados = [states(i,n) for i in range(k)]\n",
    "\n",
    "    solver.add(init(estados[0],a,b))\n",
    "\n",
    "    for i in range(k-1):\n",
    "        solver.add(trans(estados[i],estados[i+1],n))\n",
    "    \n",
    "    check = solver.check()\n",
    "\n",
    "    if check == sat:\n",
    "        m = solver.model()\n",
    "        for i in range(k):\n",
    "            print(\"Passo \",i)\n",
    "            for v in estados[i]:\n",
    "                print(v,\"=\", m[estados[i][v]])\n",
    "    print(check)\n",
    "\n",
    "gera_auto(20,8,120,2)\n"
   ]
  },
  {
   "cell_type": "markdown",
   "metadata": {},
   "source": [
    "c. Usando $k$-indução no FOTS acima e adicionando ao estado inicial  a condição  $$\\,$$ $$\\,(a < 2^{n/2})\\land(b < 2^{n/2})\\,$$ $$\\,$$ verifique a segurança do programa; nomeadamente  prove que, com tal estado inicial, o estado de erro nunca é acessível.  "
   ]
  },
  {
   "cell_type": "markdown",
   "metadata": {},
   "source": []
  }
 ],
 "metadata": {
  "kernelspec": {
   "display_name": "Python 3",
   "language": "python",
   "name": "python3"
  },
  "language_info": {
   "codemirror_mode": {
    "name": "ipython",
    "version": 3
   },
   "file_extension": ".py",
   "mimetype": "text/x-python",
   "name": "python",
   "nbconvert_exporter": "python",
   "pygments_lexer": "ipython3",
   "version": "3.10.12"
  }
 },
 "nbformat": 4,
 "nbformat_minor": 2
}
