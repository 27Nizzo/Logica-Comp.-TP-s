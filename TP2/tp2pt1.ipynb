{
 "cells": [
  {
   "cell_type": "markdown",
   "metadata": {},
   "source": [
    "# TP2 \n",
    "\n",
    "## Exercicio 1:\n",
    "    \n",
    "   #### Considere a descrição da cifra A5/1 que consta no documento +Lógica Computacional: a Cifra A5/1 Informação complementar pode ser obtida no artigo da Wikipedia. \n",
    "\n",
    "#### a) Definir e codificar, em z3 e usando o tipo BitVec para modelar a informação, uma FSM que descreva o gerador."
   ]
  },
  {
   "cell_type": "code",
   "execution_count": 28,
   "metadata": {},
   "outputs": [],
   "source": [
    "from z3 import *\n",
    "\n",
    "# Definir os LFSRs como BitVecs com os tamanhos adequados\n",
    "LFSR1 = BitVec('LFSR1', 19)\n",
    "LFSR2 = BitVec('LFSR2', 22)\n",
    "LFSR3 = BitVec('LFSR3', 23)\n",
    "\n",
    "# Funções de atualização para cada LFSR\n",
    "def nextLFSR1(LFSR1):\n",
    "    f = Extract(18, 18, LFSR1) ^ Extract(17, 17, LFSR1) ^ Extract(16, 16, LFSR1) ^ Extract(13, 13, LFSR1)\n",
    "    return Concat(f, Extract(18, 1, LFSR1))\n",
    "\n",
    "def nextLFSR2(LFSR2):\n",
    "    f = Extract(21, 21, LFSR2) ^ Extract(20, 20, LFSR2)\n",
    "    return Concat(f, Extract(21, 1, LFSR2))\n",
    "\n",
    "def nextLFSR3(LFSR3):\n",
    "    f = Extract(22, 22, LFSR3) ^ Extract(21, 21, LFSR3) ^ Extract(20, 20, LFSR3) ^ Extract(7, 7, LFSR3)\n",
    "    return Concat(f, Extract(22, 1, LFSR3))\n",
    "\n",
    "# Bits de clock para cada LFSR\n",
    "clockBit1 = Extract(8, 8, LFSR1)\n",
    "clockBit2 = Extract(10, 10, LFSR2)\n",
    "clockBit3 = Extract(10, 10, LFSR3)\n",
    "\n",
    "# Função de clock majoritário\n",
    "def majority(b1, b2, b3):\n",
    "    return If(b1 + b2 + b3 > 1, BitVecVal(1, 1), BitVecVal(0, 1))\n",
    "\n",
    "# Calcular o bit majoritário\n",
    "majority_bit = majority(clockBit1, clockBit2, clockBit3)\n",
    "\n",
    "# Atualizar os LFSRs com base no bit de clock majoritário\n",
    "next_LFSR1 = If(clockBit1 == majority_bit, nextLFSR1(LFSR1), LFSR1)\n",
    "next_LFSR2 = If(clockBit2 == majority_bit, nextLFSR2(LFSR2), LFSR2)\n",
    "next_LFSR3 = If(clockBit3 == majority_bit, nextLFSR3(LFSR3), LFSR3)\n"
   ]
  },
  {
   "cell_type": "markdown",
   "metadata": {},
   "source": [
    "### b) Considere as seguintes propriedades de erro:\n",
    "### i) Ocorrência de um \"burst\" 0^t(t-zeros) que ocorre em 2^t passos ou menos.\n",
    "Tente codificar estas propriedade e cerificar se são acessíveis a partir de um estado inicial aleatoriamente gerado  "
   ]
  },
  {
   "cell_type": "code",
   "execution_count": 30,
   "metadata": {},
   "outputs": [
    {
     "name": "stdout",
     "output_type": "stream",
     "text": [
      "Burst de zeros foi encontrado dentro do limite.\n"
     ]
    }
   ],
   "source": [
    "\n",
    "\n",
    "# Definir o tamanho de burst e o limite de passos\n",
    "t = 4  # Número de zeros consecutivos\n",
    "passos = 2 ** t  # Número máximo de passos\n",
    "\n",
    "# Configurar o solver\n",
    "solver = Solver()\n",
    "curLFSR1 = LFSR1\n",
    "curLFSR2 = LFSR2\n",
    "curLFSR3 = LFSR3\n",
    "countZeros = BitVecVal(0, 32)  # Inicializar o contador de zeros consecutivos\n",
    "\n",
    "# Loop para simular os passos\n",
    "for passo in range(passos):\n",
    "    # Calcular o bit majoritário\n",
    "    majority_bit = majority(clockBit1, clockBit2, clockBit3)\n",
    "    \n",
    "    # Atualizar os LFSRs com base no bit de clock majoritário\n",
    "    next_LFSR1 = If(clockBit1 == majority_bit, nextLFSR1(curLFSR1), curLFSR1)\n",
    "    next_LFSR2 = If(clockBit2 == majority_bit, nextLFSR2(curLFSR2), curLFSR2)\n",
    "    next_LFSR3 = If(clockBit3 == majority_bit, nextLFSR3(curLFSR3), curLFSR3)\n",
    "    \n",
    "    # Atualizar o estado atual\n",
    "    curLFSR1, curLFSR2, curLFSR3 = next_LFSR1, next_LFSR2, next_LFSR3\n",
    "    \n",
    "    # Extrair o bit menos significativo para verificar se é zero\n",
    "    output_bit = Extract(0, 0, curLFSR1) ^ Extract(0, 0, curLFSR2) ^ Extract(0, 0, curLFSR3)\n",
    "    \n",
    "    # Checar se o bit é zero\n",
    "    isZero = output_bit == BitVecVal(0, 1)\n",
    "    countZeros = If(isZero, countZeros + 1, BitVecVal(0, 32))  # Reinicia se não for zero\n",
    "    \n",
    "    # Se atingirmos t zeros consecutivos, adicionamos uma restrição para o solver\n",
    "    if countZeros == t:\n",
    "        solver.add(isZero)\n",
    "        break\n",
    "\n",
    "# Verificar se conseguimos satisfazer a condição\n",
    "if solver.check() == sat:\n",
    "    print(\"Burst de zeros foi encontrado dentro do limite.\")\n",
    "else:\n",
    "    print(\"Não foi encontrado nenhum burst de zeros dentro do limite.\")\n"
   ]
  },
  {
   "cell_type": "markdown",
   "metadata": {},
   "source": [
    "### ii) Ocorrência de um \"burst\" de tamanho t que repete um \"burst\" anterior no mesmo output em 2^(t/2) passos ou menos.\n",
    "Tente codificar estas propriedade e cerificar se são acessíveis a partir de um estado inicial aleatoriamente gerado  "
   ]
  },
  {
   "cell_type": "code",
   "execution_count": 31,
   "metadata": {},
   "outputs": [
    {
     "name": "stdout",
     "output_type": "stream",
     "text": [
      "Repetição de burst encontrada dentro do limite de passos.\n"
     ]
    }
   ],
   "source": [
    "\n",
    "\n",
    "# Definir o tamanho de burst e o limite de passos\n",
    "t = 4  # Tamanho do burst\n",
    "limite_passos = 2 ** (t // 2)  # Número máximo de passos entre bursts repetidos\n",
    "\n",
    "# Configurar o solver\n",
    "solver = Solver()\n",
    "curLFSR1 = LFSR1\n",
    "curLFSR2 = LFSR2\n",
    "curLFSR3 = LFSR3\n",
    "\n",
    "# Lista para armazenar a sequência de bursts\n",
    "output_history = []\n",
    "\n",
    "# Loop para simular os passos e verificar repetição de bursts\n",
    "for passo in range(limite_passos):\n",
    "    # Calcular o bit majoritário\n",
    "    majority_bit = majority(clockBit1, clockBit2, clockBit3)\n",
    "    \n",
    "    # Atualizar os LFSRs com base no bit de clock majoritário\n",
    "    next_LFSR1 = If(clockBit1 == majority_bit, nextLFSR1(curLFSR1), curLFSR1)\n",
    "    next_LFSR2 = If(clockBit2 == majority_bit, nextLFSR2(curLFSR2), curLFSR2)\n",
    "    next_LFSR3 = If(clockBit3 == majority_bit, nextLFSR3(curLFSR3), curLFSR3)\n",
    "    \n",
    "    # Atualizar o estado atual\n",
    "    curLFSR1, curLFSR2, curLFSR3 = next_LFSR1, next_LFSR2, next_LFSR3\n",
    "    \n",
    "    # Extrair o bit menos significativo para formar a saída\n",
    "    output_bit = Extract(0, 0, curLFSR1) ^ Extract(0, 0, curLFSR2) ^ Extract(0, 0, curLFSR3)\n",
    "    \n",
    "    # Adicionar o bit ao histórico\n",
    "    output_history.append(output_bit)\n",
    "    \n",
    "    # Verificar se a sequência de comprimento t se repete\n",
    "    if len(output_history) >= t:\n",
    "        burst_sequence = output_history[-t:]  # Últimos t bits\n",
    "        if any(burst_sequence == output_history[i:i + t] for i in range(len(output_history) - t * 2)):\n",
    "            # Encontramos uma repetição do burst\n",
    "            solver.add(output_bit == burst_sequence[0])  # Exemplo de condição de restrição\n",
    "            break\n",
    "\n",
    "# Verificar se o solver encontrou uma solução\n",
    "if solver.check() == sat:\n",
    "    print(\"Repetição de burst encontrada dentro do limite de passos.\")\n",
    "else:\n",
    "    print(\"Não foi encontrada nenhuma repetição de burst dentro do limite de passos.\")\n"
   ]
  }
 ],
 "metadata": {
  "kernelspec": {
   "display_name": "logica",
   "language": "python",
   "name": "python3"
  },
  "language_info": {
   "codemirror_mode": {
    "name": "ipython",
    "version": 3
   },
   "file_extension": ".py",
   "mimetype": "text/x-python",
   "name": "python",
   "nbconvert_exporter": "python",
   "pygments_lexer": "ipython3",
   "version": "3.10.14"
  }
 },
 "nbformat": 4,
 "nbformat_minor": 2
}
