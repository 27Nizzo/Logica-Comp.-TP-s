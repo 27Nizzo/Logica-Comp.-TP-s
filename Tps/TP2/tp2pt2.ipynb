{
 "cells": [
  {
   "cell_type": "markdown",
   "metadata": {},
   "source": [
    "###  Outubro, 8, 2024\n",
    "\n",
    "\n",
    "## TP2 - Grupo 20\n",
    "\n",
    "Afonso Martins Campos Fernandes - A102940\n",
    "\n",
    "Luís Filipe Pinheiro Silva - A105530"
   ]
  },
  {
   "cell_type": "markdown",
   "metadata": {},
   "source": [
    "### Exercicio 2 - Multiplicação de Inteiros"
   ]
  },
  {
   "cell_type": "markdown",
   "metadata": {},
   "source": [
    "Considere o problema descrito no documento \"+Lógica Computacional: Multiplicação de Inteiros\" . Nesse documento usa-se um “Control Flow Automaton” como  modelo do programa imperativo que calcula a multiplicação de  inteiros positivos representados por vetores de bits."
   ]
  },
  {
   "cell_type": "code",
   "execution_count": 3,
   "metadata": {},
   "outputs": [],
   "source": [
    "from pysmt.shortcuts import *\n",
    "from z3 import *"
   ]
  },
  {
   "cell_type": "markdown",
   "metadata": {},
   "source": [
    "\n",
    "Pretende-se:\n",
    "\n",
    "a. Construir um SFOTS, usando BitVec’s de tamanho $n$ , que descreva o comportamento deste autómato; para isso identifique e codifique em `Z3`  ou `pySMT`, as variáveis do modelo, o estado inicial , a relação de transição e o estado de erro.\n"
   ]
  },
  {
   "cell_type": "markdown",
   "metadata": {},
   "source": [
    "### Função states(i, n)\n",
    "\n",
    "Esta função cria a i-nésima cópia das variáveis de estados, acessíveis apartir de um dicionário"
   ]
  },
  {
   "cell_type": "code",
   "execution_count": 7,
   "metadata": {},
   "outputs": [],
   "source": [
    "def states(i,n):\n",
    "    state = {}\n",
    "    \n",
    "    state['c'] = Int('c'+str(i))\n",
    "    state['x'] = BitVec('x' + str(i),n)\n",
    "    state['y'] = BitVec('y' + str(i),n)\n",
    "    state['z'] = BitVec('z' + str(i),n)\n",
    "\n",
    "    return state"
   ]
  },
  {
   "cell_type": "markdown",
   "metadata": {},
   "source": [
    "### Função init(state, a, b)\n",
    "\n",
    "- state: Dicionário das variáveis de estado\n",
    "- a: Valor do 1º número a ser multiplicado\n",
    "- b: Valor do 2º número a ser multiplicado\n",
    "\n",
    "Esta função devolve um predicado do Solver que testa se um dado estado, acessado apartir do dicionário state, pode ser um estado inicial do programa"
   ]
  },
  {
   "cell_type": "code",
   "execution_count": 8,
   "metadata": {},
   "outputs": [],
   "source": [
    "def init(state,a,b):\n",
    "\n",
    "    return And(state['c'] == 0, state['x'] == a, state['y'] == b, state['z'] == 0)"
   ]
  },
  {
   "cell_type": "markdown",
   "metadata": {},
   "source": [
    "### Função trans(atual, prox, n)\n",
    "\n",
    "- atual: Estado das variáveis atuais\n",
    "- prox: Estado das variáveis na próxima iteração\n",
    "- n: número de bits\n",
    "\n",
    "Esta função devolve um predicado do Solver que testa, entre os estados possíveis, se é possível transitar entre dois deles"
   ]
  },
  {
   "cell_type": "code",
   "execution_count": 9,
   "metadata": {},
   "outputs": [],
   "source": [
    "def trans(atual,prox,n):\n",
    "\n",
    "    #transicões entre estados Ex: t0_1 -> transição entre o estado 0 e o estado 1\n",
    "\n",
    "    valores_constantes = And(prox['x'] == atual['x'],prox['y'] == atual['y'],prox['z'] == atual['z'])\n",
    "\n",
    "    t0_1 = And(atual['c'] == 0, prox['c'] == 1, valores_constantes)\n",
    "\n",
    "    t1_5 = And(atual['c'] == 1, prox['c'] == 5, atual['y'] == 0, valores_constantes)\n",
    "\n",
    "    t1_2 = And(atual['c'] == 1, prox['c'] == 2, Not(atual['y'] == 0), URem(atual['y'],2) == 1, valores_constantes)\n",
    "\n",
    "    t1_3 = And(atual['c'] == 1, prox['c'] == 3, Not(atual['y'] == 0), URem(atual['y'],2) == 0, valores_constantes)\n",
    "\n",
    "    t3_next = And(atual['c'] == 3, prox['x'] == atual['x'] << BitVecVal(1,n), prox['y'] == atual['y'] >> BitVecVal(1,n), prox['z'] == atual['z'], Or(And(ULT(atual['x'], BitVecVal(2**(n-1),n)),prox['c'] == 1),And(UGT(atual['x'] >> BitVecVal(1, n), prox['x']),prox['c'] == 4)))\n",
    "\n",
    "    t2_next = And(atual['c'] == 2, prox['x'] == atual['x'], prox['y'] == atual['y'] - 1, prox['z'] == atual['z'] + atual['x'], Or(And(ULT(atual['x'], BitVecVal(2**(n-1),n)),prox['c'] == 1),And(UGT(atual['x'] >> BitVecVal(1, n), prox['x']),prox['c'] == 4)))\n",
    "\n",
    "    stop_transition = And(prox['c'] == atual['c'], valores_constantes, Or(And(atual['c'] == 4, prox['c'] == 4), And(atual['c'] == 5, prox['c'] == 5)))\n",
    "\n",
    "\n",
    "    return Or(t0_1,t1_5,t1_2,t1_3,t3_next,t2_next,stop_transition)"
   ]
  },
  {
   "cell_type": "markdown",
   "metadata": {},
   "source": [
    "### Função error(state, a, b)\n",
    "\n",
    "- state: Dicionário das variáveis de estado\n",
    "- a: Valor do 1º número a ser multiplicado\n",
    "- b: Valor do 2º número a ser multiplicado\n",
    "\n",
    "Esta função devolve um predicado do Solver que testa se um dado estado é estado de erro"
   ]
  },
  {
   "cell_type": "code",
   "execution_count": 10,
   "metadata": {},
   "outputs": [],
   "source": [
    "def error(state,a,b):\n",
    "\n",
    "    return Or(state['c'] == 4, And(state['z'] != a*b, state['c'] == 5))"
   ]
  },
  {
   "cell_type": "markdown",
   "metadata": {},
   "source": [
    "b. Usando $k$-indução verifique nesse SFOTS se a propriedade $$\\;(x*y + z = a*b)\\;$$ $$\\;$$é um invariante do seu comportamento.\n",
    "\n",
    "### Função gera_traco(states, init, trans, error, inv, k, n, a, b)\n",
    "\n",
    "- states: Cria variáveis de estado\n",
    "- init: Condições de estado inicial\n",
    "- trans: Função transição\n",
    "- error: Condições de estado de erro\n",
    "- k: valor do traço\n",
    "- n: número de bits\n",
    "- a: 1º valor a ser multiplicado\n",
    "- b: 2º valor a ser multiplicado\n",
    "\n",
    "A função gera_traco serve para testar, para dados n, a e b, se a propriedade inv = (x\\*y + z = a\\*b), é um invariante do seu comportamento em k passos"
   ]
  },
  {
   "cell_type": "code",
   "execution_count": 11,
   "metadata": {},
   "outputs": [],
   "source": [
    "def gera_traco(states,init,trans,error,inv,k,n,a,b):\n",
    "\n",
    "    if a < 0 or b < 0:\n",
    "        print(\"As variáveis 'a' e 'b' tem que ser maiores que 0.\")\n",
    "        return\n",
    "    \n",
    "    solver = Solver()\n",
    "\n",
    "    estados = [states(i,n) for i in range(k)]\n",
    "\n",
    "    solver.add(init(estados[0],a,b))\n",
    "\n",
    "    for i in range(k-1):\n",
    "        solver.add(trans(estados[i],estados[i+1],n))\n",
    "\n",
    "    for i in range(k):\n",
    "        solver.push()\n",
    "        solver.add(error(estados[i],a,b))\n",
    "        if solver.check() == sat:\n",
    "            m = solver.model()\n",
    "            print(f\">O passo\",i,\"é um estado de erro\")\n",
    "            return\n",
    "        solver.pop()\n",
    "\n",
    "    for i in range(k):\n",
    "        solver.push()\n",
    "        solver.add(Not(inv(estados[i],a,b,n)))\n",
    "        if solver.check() == sat:\n",
    "            m = solver.model()\n",
    "            print(f\">O invariante não se verifica nos k estados inicais.\")\n",
    "            for i in range(k):\n",
    "                print(\"x, c, inv: \", m[estados[i]['x']], \"|\" ,m[estados[i]['c']], \"|\" ,m[estados[i]['x']]*m[estados[i]['y']] + m[estados[i]['z']], \"=\\=\", a*b)\n",
    "            return\n",
    "        solver.pop()\n",
    "\n",
    "    \n",
    "    check = solver.check()\n",
    "\n",
    "    if check == sat:\n",
    "        m = solver.model()\n",
    "        for i in range(k):\n",
    "            print(\"Passo \",i, end=\" | \")\n",
    "            if m[estados[i]['c']] == 4:\n",
    "                print(\"Estado de Erro\")\n",
    "            else:\n",
    "                for v in estados[i]:\n",
    "                    print(v,\"=\", m[estados[i][v]] , end=\" | \")\n",
    "                print(\"\")\n",
    "        \n",
    "        if not m[estados[i]['c']] == 4:\n",
    "            print(f\"> O invariante verifica-se por k-indução (k={k}).\")\n",
    "    else:\n",
    "        print(check)"
   ]
  },
  {
   "cell_type": "markdown",
   "metadata": {},
   "source": [
    "### A função check_inv(state, a, b, n)"
   ]
  },
  {
   "cell_type": "code",
   "execution_count": 12,
   "metadata": {},
   "outputs": [
    {
     "name": "stdout",
     "output_type": "stream",
     "text": [
      "Passo  0 | c = 0 | x = 120 | y = 3 | z = 0 | \n",
      "Passo  1 | c = 1 | x = 120 | y = 3 | z = 0 | \n",
      "Passo  2 | c = 2 | x = 120 | y = 3 | z = 0 | \n",
      "Passo  3 | c = 1 | x = 120 | y = 2 | z = 120 | \n",
      "Passo  4 | c = 3 | x = 120 | y = 2 | z = 120 | \n",
      "Passo  5 | c = 1 | x = 240 | y = 1 | z = 120 | \n",
      "Passo  6 | c = 2 | x = 240 | y = 1 | z = 120 | \n",
      "Passo  7 | c = 1 | x = 240 | y = 0 | z = 360 | \n",
      "Passo  8 | c = 5 | x = 240 | y = 0 | z = 360 | \n",
      "Passo  9 | c = 5 | x = 240 | y = 0 | z = 360 | \n",
      "Passo  10 | c = 5 | x = 240 | y = 0 | z = 360 | \n",
      "Passo  11 | c = 5 | x = 240 | y = 0 | z = 360 | \n",
      "Passo  12 | c = 5 | x = 240 | y = 0 | z = 360 | \n",
      "Passo  13 | c = 5 | x = 240 | y = 0 | z = 360 | \n",
      "Passo  14 | c = 5 | x = 240 | y = 0 | z = 360 | \n",
      "Passo  15 | c = 5 | x = 240 | y = 0 | z = 360 | \n",
      "Passo  16 | c = 5 | x = 240 | y = 0 | z = 360 | \n",
      "Passo  17 | c = 5 | x = 240 | y = 0 | z = 360 | \n",
      "Passo  18 | c = 5 | x = 240 | y = 0 | z = 360 | \n",
      "Passo  19 | c = 5 | x = 240 | y = 0 | z = 360 | \n",
      "> O invariante verifica-se por k-indução (k=20).\n"
     ]
    }
   ],
   "source": [
    "def check_inv(state,a,b,n):\n",
    "    \n",
    "    return (((state['x'] * state['y']) + state['z']) == BitVecVal(a, n) * BitVecVal(b, n))\n",
    "\n",
    "gera_traco(states,init,trans,error,check_inv,20,9,120,3)\n"
   ]
  },
  {
   "cell_type": "markdown",
   "metadata": {},
   "source": [
    "c. Usando $k$-indução no FOTS acima e adicionando ao estado inicial  a condição  $$\\,$$ $$\\,(a < 2^{n/2})\\land(b < 2^{n/2})\\,$$ $$\\,$$ verifique a segurança do programa; nomeadamente  prove que, com tal estado inicial, o estado de erro nunca é acessível.  "
   ]
  },
  {
   "cell_type": "code",
   "execution_count": 13,
   "metadata": {},
   "outputs": [
    {
     "name": "stdout",
     "output_type": "stream",
     "text": [
      "Passo  0 | c = 0 | x = 16 | y = 3 | z = 0 | \n",
      "Passo  1 | c = 1 | x = 16 | y = 3 | z = 0 | \n",
      "Passo  2 | c = 2 | x = 16 | y = 3 | z = 0 | \n",
      "Passo  3 | c = 1 | x = 16 | y = 2 | z = 16 | \n",
      "Passo  4 | c = 3 | x = 16 | y = 2 | z = 16 | \n",
      "Passo  5 | c = 1 | x = 32 | y = 1 | z = 16 | \n",
      "Passo  6 | c = 2 | x = 32 | y = 1 | z = 16 | \n",
      "Passo  7 | c = 1 | x = 32 | y = 0 | z = 48 | \n",
      "Passo  8 | c = 5 | x = 32 | y = 0 | z = 48 | \n",
      "Passo  9 | c = 5 | x = 32 | y = 0 | z = 48 | \n",
      "Passo  10 | c = 5 | x = 32 | y = 0 | z = 48 | \n",
      "Passo  11 | c = 5 | x = 32 | y = 0 | z = 48 | \n",
      "Passo  12 | c = 5 | x = 32 | y = 0 | z = 48 | \n",
      "Passo  13 | c = 5 | x = 32 | y = 0 | z = 48 | \n",
      "Passo  14 | c = 5 | x = 32 | y = 0 | z = 48 | \n",
      "Passo  15 | c = 5 | x = 32 | y = 0 | z = 48 | \n",
      "Passo  16 | c = 5 | x = 32 | y = 0 | z = 48 | \n",
      "Passo  17 | c = 5 | x = 32 | y = 0 | z = 48 | \n",
      "Passo  18 | c = 5 | x = 32 | y = 0 | z = 48 | \n",
      "Passo  19 | c = 5 | x = 32 | y = 0 | z = 48 | \n",
      "> O estado de erro é inacessível em 20 passos\n"
     ]
    }
   ],
   "source": [
    "def gera_traco_cond(states,init,trans,error,k,n,a,b):\n",
    "\n",
    "    if a < 0 or b < 0:\n",
    "        print(\"As variáveis 'a' e 'b' tem que ser maiores que 0.\")\n",
    "        return\n",
    "    \n",
    "    if a >= 2**(n/2) or b >= 2**(n/2):\n",
    "        print(\"As variáveis 'a' e 'b' tem que ser menores que 2**(n/2).\")\n",
    "        return\n",
    "    \n",
    "    solver = Solver()\n",
    "\n",
    "    estados = [states(i,n) for i in range(k)]\n",
    "\n",
    "    solver.add(init(estados[0],a,b))\n",
    "\n",
    "    for i in range(k-1):\n",
    "        solver.add(trans(estados[i],estados[i+1],n))\n",
    "\n",
    "    for i in range(k):\n",
    "        solver.push()\n",
    "        solver.add(error(estados[i],a,b))\n",
    "        if solver.check() == sat:\n",
    "            m = solver.model()\n",
    "            print(f\">O passo\",i,\"é um estado de erro\")\n",
    "            return\n",
    "        solver.pop()\n",
    "\n",
    "    \n",
    "    check = solver.check()\n",
    "\n",
    "    if check == sat:\n",
    "        m = solver.model()\n",
    "        for i in range(k):\n",
    "            print(\"Passo \",i, end=\" | \")\n",
    "            for v in estados[i]:\n",
    "                print(v,\"=\", m[estados[i][v]] , end=\" | \")\n",
    "            print(\"\")\n",
    "        \n",
    "        if not m[estados[i]['c']] == 4:\n",
    "            print(f\"> O estado de erro é inacessível em\",k, \"passos\")\n",
    "    else:\n",
    "        print(check)\n",
    "\n",
    "gera_traco_cond(states,init,trans,error,20,9,16,3)"
   ]
  }
 ],
 "metadata": {
  "kernelspec": {
   "display_name": "logica",
   "language": "python",
   "name": "python3"
  },
  "language_info": {
   "codemirror_mode": {
    "name": "ipython",
    "version": 3
   },
   "file_extension": ".py",
   "mimetype": "text/x-python",
   "name": "python",
   "nbconvert_exporter": "python",
   "pygments_lexer": "ipython3",
   "version": "3.10.14"
  }
 },
 "nbformat": 4,
 "nbformat_minor": 4
}
