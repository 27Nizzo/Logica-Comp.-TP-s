{
 "cells": [
  {
   "cell_type": "markdown",
   "metadata": {},
   "source": [
    "## Problema 2:\n",
    "\n",
    "### Este exercício é dirigido à prova de correção do algoritmo estendido de Euclides  apresentado no trabalho TP3\n",
    "\n",
    " a) Construa a asserção lógica que representa a pós-condição do algoritmo. Note que a definição da função  $$\\gcd$$  é   $$\\gcd(a,b)\\;\\equiv\\; \\min \\{\\,r > 0\\,|\\,\\exists\\,s,t\\,\\centerdot\\, r = a*s+b*t\\,\\}$$ ."
   ]
  },
  {
   "cell_type": "code",
   "execution_count": 1,
   "metadata": {},
   "outputs": [
    {
     "name": "stdout",
     "output_type": "stream",
     "text": [
      "\n",
      "Teste com a=48, b=36, r=12, s=-1, t=2\n",
      "Resultado: Falha\n",
      "Mensagem: r não é uma combinação linear de a e b\n",
      "\n",
      "Teste com a=48, b=36, r=12, s=1, t=-1\n",
      "Resultado: Sucesso\n",
      "Mensagem: Pós-condição verificada com sucesso\n",
      "\n",
      "Teste com a=17, b=5, r=1, s=-2, t=7\n",
      "Resultado: Sucesso\n",
      "Mensagem: Pós-condição verificada com sucesso\n"
     ]
    }
   ],
   "source": [
    "def pos_condicao(a, b, r, s, t):\n",
    "    if r <= 0:\n",
    "        return False, \"r não é positivo\"\n",
    "\n",
    "    if r != a * s + b * t:\n",
    "        return False, \"r não é uma combinação linear de a e b\"\n",
    "\n",
    "    for x in range(1, r):\n",
    "        # Procurar combinações lineares menores\n",
    "        for s_test in range(-abs(r), abs(r)):\n",
    "            for t_test in range(-abs(r), abs(r)):\n",
    "                if x == a * s_test + b * t_test:\n",
    "                    return False, f\"Existe um valor menor ({x}) que satisfaz a condição\"\n",
    "\n",
    "    return True, \"Pós-condição verificada com sucesso\"\n",
    "\n",
    "def testar_pos_condicao():\n",
    "    casos_teste = [\n",
    "        (48, 36, 12, -1, 2),  \n",
    "        (48, 36, 12, 1, -1),  \n",
    "        (17, 5, 1, -2, 7)     \n",
    "    ]\n",
    "    \n",
    "    for a, b, r, s, t in casos_teste:\n",
    "        sucesso, mensagem = pos_condicao(a, b, r, s, t)\n",
    "        print(f\"\\nTeste com a={a}, b={b}, r={r}, s={s}, t={t}\")\n",
    "        print(f\"Resultado: {'Sucesso' if sucesso else 'Falha'}\")\n",
    "        print(f\"Mensagem: {mensagem}\")\n",
    "\n",
    "testar_pos_condicao()\n"
   ]
  },
  {
   "cell_type": "markdown",
   "metadata": {},
   "source": []
  },
  {
   "cell_type": "markdown",
   "metadata": {},
   "source": [
    " b) Usando a metodologia do comando havoc para o ciclo, escreva o programa na linguagem dos comandos anotados (LPA). Codifique a pós-condição do algoritmo com um comando assert ."
   ]
  },
  {
   "cell_type": "code",
   "execution_count": 2,
   "metadata": {},
   "outputs": [],
   "source": [
    "def lpa(a,b):\n",
    "    estados = []\n",
    "\n",
    "    r, r_linha = a,b\n",
    "    s, s_linha = 1, 0\n",
    "    t, t_linha = 0, 1\n",
    "    q = 0 \n",
    "\n",
    "    estados.append((r, r_linha, s, s_linha, t, t_linha, q))\n",
    "\n",
    "    while r_linha != 0:\n",
    "        q = r // r_linha\n",
    "\n",
    "        r, r_linha, s, s_linha, t, t_linha = (\n",
    "            r_linha,\n",
    "            r - q * r_linha,\n",
    "            s_linha,\n",
    "            s - q * s_linha,\n",
    "            t_linha,\n",
    "            t - q * t_linha  \n",
    "        )\n",
    "\n",
    "        estados.append((r, r_linha, s, s_linha, t, t_linha, q))\n",
    "\n",
    "    return estados"
   ]
  },
  {
   "cell_type": "markdown",
   "metadata": {},
   "source": []
  },
  {
   "cell_type": "markdown",
   "metadata": {},
   "source": [
    "c) Construa codificações do programa LPA através de transformadores de predicados “strongest post-condition” e  prove a correção  do programa LPA."
   ]
  },
  {
   "cell_type": "code",
   "execution_count": 3,
   "metadata": {},
   "outputs": [],
   "source": [
    "def verifica_correcao(estados):\n",
    "    solver = Solver()\n",
    "    for i in range(len(estados) - 1):\n",
    "        atual = estados[i]\n",
    "        proximo = estados[i+1]\n",
    "        invariante = And(\n",
    "            atual.r == estados[0].r * atual.s + estados[0].r_linha * atual.t,\n",
    "            atual.r_linha == estados[0].r * atual.s_linha + estados[0].r_linha * atual.t_linha,\n",
    "            atual.r > 0\n",
    "        )\n",
    "        solver.add(invariante)\n",
    "    return solver.check() == sat"
   ]
  }
 ],
 "metadata": {
  "kernelspec": {
   "display_name": "logica",
   "language": "python",
   "name": "python3"
  },
  "language_info": {
   "codemirror_mode": {
    "name": "ipython",
    "version": 3
   },
   "file_extension": ".py",
   "mimetype": "text/x-python",
   "name": "python",
   "nbconvert_exporter": "python",
   "pygments_lexer": "ipython3",
   "version": "3.10.14"
  }
 },
 "nbformat": 4,
 "nbformat_minor": 2
}
