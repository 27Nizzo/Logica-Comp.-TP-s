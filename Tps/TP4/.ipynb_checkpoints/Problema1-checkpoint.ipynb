{
 "cells": [
  {
   "cell_type": "markdown",
   "metadata": {},
   "source": [
    "# TP4 - Grupo 20\n",
    "###  Dezembro, 4, 2024\n",
    "\n",
    "Afonso Martins Campos Fernandes - A102940\n",
    "\n",
    "Luís Filipe Pinheiro Silva - A105530"
   ]
  },
  {
   "cell_type": "markdown",
   "metadata": {},
   "source": [
    "## ABS - Anti-Lock Braking System\n",
    "\n",
    "No contexto do sistema de travagem ABS (“Anti-Lock Breaking System”), pretende-se construir um autómato híbrido que descreva o sistema e que  possa ser usado para verificar as suas propriedades dinâmicas.\n",
    "\n",
    "    \n",
    "\n",
    "- A componente discreta do autómato contém os modos:  `Start`,  `Free`,  `Stopping`, `Blocked`, e `Stopped`. No modo `Free`  não existe qualquer força de travagem; no modo `Stopping` aplica-se a força de travagem alta; no modo `Blocked` as rodas estão bloqueadas em relação ao corpo mas o veículo  desloca-se; no modo `Stopped` o veículo está imobilizado.\n",
    "\n",
    "- A componente contínua  do autómato usa variáveis contínuas $V,v$ para descrever a  `velocidade do corpo`  do veículo em relação ao solo e a `velocidade linear das rodas` também em relação ao solo.\n",
    "\n",
    "- Assume-se que o sistema de travagem exerce uma força de atrito  nos travões proporcional à diferença das duas velocidades.  A dinâmica contínua está descrita  abaixo no bloco Equaçoes de Fluxo.\n",
    "\n",
    "Fazer:\n",
    "1. Defina um autómato híbrido que descreva a dinâmica do sistema segundo as notas abaixo indicadas e com os “switchs” por si escolhidos. \n",
    "        Os “switchs” (“jumps”) são uma  componente de projeto deste trabalho; cabe ao aluno definir quais devem ser estas  condições de modo a que o sistema tenha um comportamento desejável: imobilize-se depressa e não “derrape” muito.\n",
    "2. Modele em lógica temporal linear LT  propriedades que caracterizam o comportamento desejável do sistema. Nomeadamente \n",
    "    1. ”o veículo imobiliza-se completamente em menos de $t$ segundos” \n",
    "    2. “a velocidade $V$ diminui sempre com o tempo”.\n",
    "3. Construa o FOTS que que descreve a discretização do  modelo  que definiu em a. e codifique em SMT’s\n",
    "4. Codifique a verificação das propriedades temporais que definiu em b.\n",
    "\n",
    "\n",
    "![](https://paper-attachments.dropboxusercontent.com/s_C5426E33053EA04D1E3446B871CC8485C43045FF7CAAA1FC86A9B3A8E09058F9_1574702123197_Documento.png)\n",
    " \n",
    "Equações de Fluxo: <br>\n",
    "1. Durante  a travagem não existe qualquer  força no sistema excepto as forças de atrito. Quando uma superfície se desloca em relação à outra, a força de atrito  é proporcional à força de compressão entre elas.<br><br>\n",
    "2. No contacto rodas/solo o atrito é constante porque a força de compressão é o peso; tem-se $f = a\\cdot P$ sendo  $a$ a constante de atrito e $P$ o peso. Ambos são fixos e independentes do modo.<br><br>\n",
    "3. No contacto corpo/rodas,  a força de compressão é a força de travagem que aqui se assume como proporcional à diferença de velocidades  $F =  c\\cdot (V-v)$.  A  constante de proporcionalidade $c$ depende do modo: é elevada no modo `Stopping` e baixa nos outros.<br><br>\n",
    "4. Existe um atrito no contacto corpo/ar  que é aproximado por uma constante positiva $\\,b$.<br><br>\n",
    "5. As equações que traduzem a dinâmica  do sistema são, em todos os modo excepto `Blocked`,<br>     $\\begin{array}{rcl} \\dot{V} & = & - c\\cdot(V-v) - b\\\\ \\dot{v} & = & -a\\cdot P  + c\\cdot(V-v) \\end{array}$   <br><br>e , no modo `Blocked`,  a dinâmica do sistema é  regida por<br>        $(V = v) \\;\\land\\; (\\,\\dot{V}\\,=\\, -a\\cdot P - b\\,)$<br><br>\n",
    "6. Tanto no modo `Blocked`  como no modo `Free`  existe um “timer” que impede que se permaneça nesses modo mais do que $\\,\\tau\\,$segundos. Os $\\mathsf{jumps}(V,v,t,V',v',t')\\,$ com origem nesses modos devem forçar esta condição.<br><br>\n",
    "7. No instante inicial assume-se $\\,V = v\\,=\\,V_0$  ,  em que a velocidade $V_0$ é o “input” do problema. |\n"
   ]
  },
  {
   "cell_type": "markdown",
   "metadata": {},
   "source": []
  }
 ],
 "metadata": {
  "kernelspec": {
   "display_name": "Python 3 (ipykernel)",
   "language": "python",
   "name": "python3"
  },
  "language_info": {
   "codemirror_mode": {
    "name": "ipython",
    "version": 3
   },
   "file_extension": ".py",
   "mimetype": "text/x-python",
   "name": "python",
   "nbconvert_exporter": "python",
   "pygments_lexer": "ipython3",
   "version": "3.10.14"
  }
 },
 "nbformat": 4,
 "nbformat_minor": 4
}
