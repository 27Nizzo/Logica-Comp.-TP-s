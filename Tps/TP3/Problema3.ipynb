{
 "cells": [
  {
   "cell_type": "markdown",
   "metadata": {},
   "source": [
    "# TP3 - Grupo 20\n",
    "###  Dezembro, 4, 2024\n",
    "\n",
    "Afonso Martins Campos Fernandes - A102940\n",
    "\n",
    "Luís Filipe Pinheiro Silva - A105530\n",
    "\n",
    "## Cifra A5/1 - SFOTS\n",
    "\n",
    "Considere de novo o 1º problema do trabalho TP2  relativo à descrição da cifra $$\\,\\mathsf{A5/1}$$ e o FOTS usando BitVec’s que aì foi definido para a componente do gerador de chaves. Ignore a componente de geração final da chave e restrinja o modelo aos três LFSR’s. \n",
    "Sejam $$\\,\\mathsf{X}_0, \\mathsf{X}_1, \\mathsf{X}_2\\,$$ as variáveis que determinam os estados dos três LFSR’s que ocorrem neste modelo. Como condição inicial  e condição de erro use os predicados\n",
    "\n",
    "$$\\,\\mathsf{I} \\;\\equiv\\; (\\mathsf{X}_0 > 0)\\,\\land\\,(\\mathsf{X}_1 > 0)\\,\\land\\,(\\mathsf{X}_2 > 0)\\quad e \\quad \\mathsf{E}\\;\\equiv\\;\\neg\\,\\mathsf{I}$$"
   ]
  },
  {
   "cell_type": "code",
   "execution_count": 277,
   "metadata": {},
   "outputs": [],
   "source": [
    "from pysmt.shortcuts import *\n",
    "from z3 import *\n",
    "from random import getrandbits"
   ]
  },
  {
   "cell_type": "markdown",
   "metadata": {},
   "source": [
    "a. Codifique em “z3”  o SFOTS assim definido."
   ]
  },
  {
   "cell_type": "code",
   "execution_count": 278,
   "metadata": {},
   "outputs": [],
   "source": [
    "def states(i):\n",
    "    state = {}\n",
    "\n",
    "    state['LFSR1'] = BitVec('LFSR1' + str(i),19)\n",
    "    state['LFSR2'] = BitVec('LFSR2' + str(i),22)\n",
    "    state['LFSR3'] = BitVec('LFSR3' + str(i),23)\n",
    "\n",
    "    return state"
   ]
  },
  {
   "cell_type": "code",
   "execution_count": 279,
   "metadata": {},
   "outputs": [],
   "source": [
    "def init(state):\n",
    "    return And(state['LFSR1'] > 0,state['LFSR2'] > 0,state['LFSR3'] > 0)"
   ]
  },
  {
   "cell_type": "code",
   "execution_count": 280,
   "metadata": {},
   "outputs": [],
   "source": [
    "def error(state):\n",
    "    return Not(And(state['LFSR1'] > 0,state['LFSR2'] > 0,state['LFSR3'] > 0))"
   ]
  },
  {
   "cell_type": "code",
   "execution_count": 281,
   "metadata": {},
   "outputs": [],
   "source": [
    "def transition(atual,prox):\n",
    "    cBit1 = Extract(8, 8, atual['LFSR1'])\n",
    "    cBit2 = Extract(10, 10, atual['LFSR2'])\n",
    "    cBit3 = Extract(10, 10, atual['LFSR3'])\n",
    "\n",
    "    t1y = And(prox['LFSR1'] == Concat(Extract(18, 18, atual['LFSR1']) ^ \n",
    "                                      Extract(17, 17, atual['LFSR1']) ^ \n",
    "                                      Extract(16, 16, atual['LFSR1']) ^ \n",
    "                                      Extract(13, 13, atual['LFSR1']), \n",
    "                                      Extract(18, 1, atual['LFSR1'])),\n",
    "              Or(cBit1 == cBit2,cBit1 == cBit3))\n",
    "    \n",
    "    t1n = And(prox['LFSR1'] == atual['LFSR1'], \n",
    "              Not(Or(cBit1 == cBit2,cBit1 == cBit3)))\n",
    "\n",
    "    t2y = And(prox['LFSR2'] == Concat(Extract(21, 21, atual['LFSR2']) ^ \n",
    "                                      Extract(20, 20, atual['LFSR2']), \n",
    "                                      Extract(21, 1, atual['LFSR2'])),\n",
    "              Or(cBit1 == cBit2,cBit2 == cBit3))\n",
    "    \n",
    "    t2n = And(prox['LFSR2'] == atual['LFSR2'], \n",
    "              Not(Or(cBit1 == cBit2,cBit2 == cBit3)))\n",
    "\n",
    "    t3y = And(prox['LFSR3'] == Concat(Extract(22, 22, atual['LFSR3']) ^ \n",
    "                                      Extract(21, 21, atual['LFSR3']) ^ \n",
    "                                      Extract(20, 20, atual['LFSR3']) ^ \n",
    "                                      Extract(7, 7, atual['LFSR3']), \n",
    "                                      Extract(22, 1, atual['LFSR3'])),\n",
    "              Or(cBit3 == cBit2,cBit1 == cBit3))\n",
    "    \n",
    "    t3n = And(prox['LFSR3'] == atual['LFSR3'], \n",
    "              Not(Or(cBit3 == cBit2,cBit1 == cBit3)))\n",
    "\n",
    "    return And(Or(t1y,t1n),Or(t2y,t2n),Or(t3y,t3n))"
   ]
  },
  {
   "cell_type": "code",
   "execution_count": 282,
   "metadata": {},
   "outputs": [
    {
     "name": "stdout",
     "output_type": "stream",
     "text": [
      "Is solvable\n",
      "Passo 1\n",
      "LFSR1 = 0000000000011000000\n",
      "LFSR2 = 0001000001000000000000\n",
      "LFSR3 = 01010111000110110101010\n",
      "--------------------------------\n",
      "Passo 2\n",
      "LFSR1 = 0000000000001100000\n",
      "LFSR2 = 0000100000100000000000\n",
      "LFSR3 = 01010111000110110101010\n",
      "--------------------------------\n",
      "Passo 3\n",
      "LFSR1 = 0000000000000110000\n",
      "LFSR2 = 0000010000010000000000\n",
      "LFSR3 = 01010111000110110101010\n",
      "--------------------------------\n",
      "Passo 4\n",
      "LFSR1 = 0000000000000110000\n",
      "LFSR2 = 0000001000001000000000\n",
      "LFSR3 = 00101011100011011010101\n",
      "--------------------------------\n",
      "Passo 5\n",
      "LFSR1 = 0000000000000011000\n",
      "LFSR2 = 0000000100000100000000\n",
      "LFSR3 = 00101011100011011010101\n",
      "--------------------------------\n",
      "Passo 6\n",
      "LFSR1 = 0000000000000001100\n",
      "LFSR2 = 0000000010000010000000\n",
      "LFSR3 = 00101011100011011010101\n",
      "--------------------------------\n",
      "Passo 7\n",
      "LFSR1 = 0000000000000000110\n",
      "LFSR2 = 0000000001000001000000\n",
      "LFSR3 = 00101011100011011010101\n",
      "--------------------------------\n",
      "Passo 8\n",
      "LFSR1 = 0000000000000000011\n",
      "LFSR2 = 0000000000100000100000\n",
      "LFSR3 = 00101011100011011010101\n",
      "--------------------------------\n",
      "Passo 9\n",
      "LFSR1 = 0000000000000000001\n",
      "LFSR2 = 0000000000010000010000\n",
      "LFSR3 = 00101011100011011010101\n",
      "--------------------------------\n",
      "Passo 10\n",
      "LFSR1 = 0000000000000000001\n",
      "LFSR2 = 0000000000001000001000\n",
      "LFSR3 = 00010101110001101101010\n",
      "--------------------------------\n"
     ]
    }
   ],
   "source": [
    "def gera_sfots(init,error,trans,k):\n",
    "\n",
    "    solver = Solver()\n",
    "\n",
    "    estados = [states(i) for i in range(k)]\n",
    "\n",
    "    solver.add(init(estados[0]))\n",
    "\n",
    "    for i in range(k):\n",
    "        solver.add(Not(error(estados[i])))\n",
    "\n",
    "    for i in range(k-1):\n",
    "        solver.add(trans(estados[i],estados[i+1]))\n",
    "\n",
    "    check = solver.check()\n",
    "    \n",
    "    if check == sat:\n",
    "        print(\"Is solvable\")\n",
    "        m = solver.model()\n",
    "        for i in range(k):\n",
    "            print(\"Passo\",i+1)\n",
    "            for v in estados[i]:\n",
    "                x = m.eval(estados[i][v])\n",
    "                print(v,\"=\", format(x.as_long(),f'0{m[estados[i][v]].size()}b'))\n",
    "            print(\"--------------------------------\")\n",
    "    else:\n",
    "        print(\"Not solvable\")\n",
    "\n",
    "gera_sfots(init,error,transition,10)"
   ]
  },
  {
   "cell_type": "markdown",
   "metadata": {},
   "source": [
    "b. Use o algoritmo PDR “property directed reachability” (codifique-o ou use uma versão pré-existente) e, com ele, tente provar a segurança deste modelo."
   ]
  },
  {
   "cell_type": "code",
   "execution_count": 283,
   "metadata": {},
   "outputs": [],
   "source": [
    "def states_PDR(i):\n",
    "    state = {}\n",
    "\n",
    "    state['LFSR1'] = BitVec('LFSR1',19)\n",
    "    state['LFSR2'] = BitVec('LFSR2',22)\n",
    "    state['LFSR3'] = BitVec('LFSR3',23)\n",
    "\n",
    "    return state"
   ]
  },
  {
   "cell_type": "code",
   "execution_count": 284,
   "metadata": {},
   "outputs": [
    {
     "name": "stdout",
     "output_type": "stream",
     "text": [
      "Iteração 0\n",
      "Iteração 1\n",
      "Iteração 2\n",
      "System is Safe\n"
     ]
    }
   ],
   "source": [
    "# Nesta função não descrevi o P porque o estado de erro é a negação do init, logo como o P é a negação do estado de erro, P é igual ao init\n",
    "def PDR(init,trans,error):\n",
    "    \n",
    "    solver = Solver()\n",
    "\n",
    "    frames = [Not(init(states_PDR(0)))]\n",
    "    k = 0\n",
    "\n",
    "    while True:\n",
    "        print(\"Iteração\",k)\n",
    "        bad = get_bad_cubes(error,frames,k,solver)\n",
    "\n",
    "        if bad == None:\n",
    "            if k > 0 and frames[k] == frames[k-1]:\n",
    "                print(\"System is Safe\")\n",
    "                return None\n",
    "            else:\n",
    "                frames.append(False)\n",
    "                k+=1\n",
    "        else:\n",
    "            block = bloqueio(bad,frames,k,trans,solver)\n",
    "            if not block:\n",
    "                print(\"System is Unsafe\")\n",
    "                return None\n",
    "\n",
    "\n",
    "def get_bad_cubes(error,frames,k,solver):\n",
    "\n",
    "    estado_atual = states_PDR(k)\n",
    "    solver.push()\n",
    "    for frame in frames:\n",
    "        solver.add(Not(frame))\n",
    "    solver.add(error(estado_atual))\n",
    "\n",
    "    if solver.check() == sat:\n",
    "        model = solver.model()\n",
    "        cube = {var: model.eval(var, model_completion=True) for var in estado_atual.values()}\n",
    "        solver.pop()\n",
    "        return cube\n",
    "    \n",
    "    solver.pop()\n",
    "    return None\n",
    "\n",
    "def bloqueio(bad_cube,frames,k,trans,solver):\n",
    "\n",
    "    for i in range(k,1,-1):\n",
    "        solver.push()\n",
    "        estado_atual = states_PDR(i-1)\n",
    "        proximo_estado = states_PDR(i)\n",
    "\n",
    "        solver.add(trans(estado_atual,proximo_estado))\n",
    "        for j in range(i):\n",
    "            solver.add(Not(frames[j]))\n",
    "        cube = True\n",
    "        for var,val in bad_cube.items():\n",
    "            cube = And(cube,var != val)\n",
    "\n",
    "        solver.add(cube)\n",
    "        \n",
    "        if solver.check() == unsat:\n",
    "            solver.pop()\n",
    "            print(\"Cubo bloqueado no frame\",i)\n",
    "            frames[i] = cube\n",
    "            return True\n",
    "        solver.pop()\n",
    "\n",
    "    return False\n",
    "\n",
    "PDR(init,transition,error)"
   ]
  }
 ],
 "metadata": {
  "kernelspec": {
   "display_name": "Python 3",
   "language": "python",
   "name": "python3"
  },
  "language_info": {
   "codemirror_mode": {
    "name": "ipython",
    "version": 3
   },
   "file_extension": ".py",
   "mimetype": "text/x-python",
   "name": "python",
   "nbconvert_exporter": "python",
   "pygments_lexer": "ipython3",
   "version": "3.10.12"
  }
 },
 "nbformat": 4,
 "nbformat_minor": 2
}
