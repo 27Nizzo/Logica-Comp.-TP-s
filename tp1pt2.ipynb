{
  "cells": [
    {
      "cell_type": "markdown",
      "metadata": {},
      "source": [
        "### Exercicio 2:   "
      ]
    },
    {
      "cell_type": "markdown",
      "metadata": {},
      "source": [
        "\n",
        "    Um sistema de tráfego  é representado por um grafo orientado ligado. Os nodos denotam pontos de acesso e  os arcos denotam vias de comunicação só com um sentido .  O grafo tem de ser ligado: entre cada par de nodos e <n1,n2> tem de existir um caminho n1 -> n2 e um caminho n2 -> n1. \\\n",
        "  ### Alíneas: \n",
        "    a. Gerar aleatoriamente o grafo com  $$N \\in\\{6..10\\}$$  nodos e com ramos verificando: \\\n",
        "        i. Cada nodo tem um número aleatório de descendentes $$d\\in\\{1 .. 3\\}\\,$$ cujos destinos são também gerados aleatoriamente. \\\n",
        "        ii. Se  existirem “loops”  ou destinos repetidos, deve-se gerar outro grafo. \n",
        "        \n",
        "    b. Pretende-se fazer  manutenção interrompendo  determinadas vias. Determinar o maior número de vias que é possível remover mantendo o grafo ligado."
      ]
    },
    {
      "cell_type": "markdown",
      "metadata": {},
      "source": []
    },
    {
      "cell_type": "code",
      "execution_count": 1,
      "metadata": {},
      "outputs": [],
      "source": [
        "import networkx as nx\n",
        "from ortools.linear_solver import pywraplp\n",
        "import random "
      ]
    },
    {
      "cell_type": "markdown",
      "metadata": {},
      "source": []
    },
    {
      "cell_type": "code",
      "execution_count": 2,
      "metadata": {},
      "outputs": [],
      "source": [
        "### Completar\n"
      ]
    }
  ],
  "metadata": {
    "kernelspec": {
      "display_name": "logica",
      "language": "python",
      "name": "python3"
    },
    "language_info": {
      "codemirror_mode": {
        "name": "ipython",
        "version": 3
      },
      "file_extension": ".py",
      "mimetype": "text/x-python",
      "name": "python",
      "nbconvert_exporter": "python",
      "pygments_lexer": "ipython3",
      "version": "3.10.14"
    }
  },
  "nbformat": 4,
  "nbformat_minor": 2
}
