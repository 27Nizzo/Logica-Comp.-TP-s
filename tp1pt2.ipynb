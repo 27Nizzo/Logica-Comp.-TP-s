{
  "cells": [
    {
      "cell_type": "markdown",
      "metadata": {},
      "source": [
        "# Exercicio 2:   "
      ]
    },
    {
      "cell_type": "markdown",
      "metadata": {},
      "source": []
    },
    {
      "cell_type": "markdown",
      "metadata": {},
      "source": [
        "# Bibliotecas a Utilizar:\n",
        "\n",
        "## 1) `networkx`:\n",
        "- Biblioteca que auxilia na criação e manipulação de grafos, oferecendo uma interface simples para trabalhar com grafos orientados e não orientados.\n",
        "- Neste trabalho, vamos trabalhar com **grafos orientados** e verificar se são **fortemente conectados**. Com a utilização desta biblioteca, conseguiremos manipular as **arestas** e **nós** do grafo.\n",
        "\n",
        "## 2) `ortools`:\n",
        "- A biblioteca `ortools` é uma ferramenta que permite resolver problemas de **programação linear**, **programação inteira** e problemas de **otimização com restrições** utilizando diferentes tipos de **solvers**.\n",
        "- Vamos utilizá-la neste trabalho para resolver o problema de **remoção de arestas**, garantindo que o grafo permaneça **fortemente conexo**. O `ortools` será responsável por maximizar o número de arestas que podem ser removidas, mantendo as restrições de conectividade.\n",
        "\n",
        "## 3) `random`:\n",
        "- A biblioteca `random` é uma biblioteca do Python que fornece funções para a **geração de números aleatórios** e **amostras aleatórias**.\n",
        "- Vamos utilizá-la para gerar **descendentes aleatórios** de nós no grafo. Isso significa que a criação das arestas entre os nós será feita de maneira aleatória, respeitando os limites definidos.\n"
      ]
    },
    {
      "cell_type": "code",
      "execution_count": 1,
      "metadata": {},
      "outputs": [],
      "source": [
        "import networkx as nx\n",
        "from ortools.linear_solver import pywraplp\n",
        "import random "
      ]
    },
    {
      "cell_type": "markdown",
      "metadata": {},
      "source": [
        "### Alínea a)\n",
        "\n",
        "- Vamos gerar um grafo orientado ligado aleatório com `N` (número de nodos) variando entre 6 e 10, onde cada nodo possui entre 1 a 3 descendentes, **sem loops** ou destinos repetidos.\n",
        "- O grafo deve ser **fortemente conexo**, ou seja, para cada par de nós **`<n1, n2>`**, deve existir um caminho de `n1` para `n2` e outro caminho de `n2` para `n1`.\n"
      ]
    },
    {
      "cell_type": "markdown",
      "metadata": {},
      "source": []
    },
    {
      "cell_type": "code",
      "execution_count": 2,
      "metadata": {},
      "outputs": [],
      "source": [
        "### Completar\n",
        "N = random.randint(6,10)\n",
        "\n",
        "def geraGrafo(N): \n",
        "    while True: \n",
        "        G = nx.DiGraph()\n",
        "        G.add_nodes_from(range(N))\n",
        "\n",
        "        for node in range(N):\n",
        "            desc = random.randint(1,3)\n",
        "            dest = random.sample([n for n in range(N) if n != node], desc)\n",
        "            G.add_edges_from((node, dest) for dest in dest)\n",
        "\n",
        "        if nx.is_strongly_connected(G):\n",
        "            return G\n",
        "\n",
        "grafo = geraGrafo(N)\n",
        "\n"
      ]
    },
    {
      "cell_type": "markdown",
      "metadata": {},
      "source": [
        "### Descrição do Bloco de Código\n",
        "\n",
        "Neste bloco de código, definimos a variável `N`, que representa o número máximo de nodos, sendo um valor aleatório entre 6 e 10, gerado com o auxílio da biblioteca *random*. A seguir, construímos uma função para gerar grafos de acordo com o valor de `N` previamente definido.\n",
        "\n",
        "A condição **`while True:`** garante que os grafos gerados sejam sempre **orientados e fortemente conectados**. Sem essa condição, precisaríamos de uma abordagem mais controlada, ou seja, seria necessário definir um número máximo de tentativas para gerar um grafo orientado e conectado, evitando um loop infinito caso a geração falhe repetidamente.\n",
        "\n",
        "A função `gera_grafo` cria inicialmente um grafo `G` vazio e, em seguida, adiciona um número de nós, definido aleatoriamente pela variável `N`. O laço `for` subsequente adiciona as arestas ao grafo de acordo com as restrições dos descendentes. Finalmente, o **`if statement`** utiliza a função **`is_strongly_connected`** da biblioteca *NetworkX*, que verifica se o grafo é fortemente conexo. Se for, o grafo é retornado; caso contrário, o processo continua até gerar um grafo válido.\n"
      ]
    },
    {
      "cell_type": "code",
      "execution_count": 3,
      "metadata": {},
      "outputs": [
        {
          "name": "stdout",
          "output_type": "stream",
          "text": [
            "0 -> 2\n",
            "1 -> 4\n",
            "1 -> 2\n",
            "2 -> 7\n",
            "2 -> 0\n",
            "2 -> 1\n",
            "3 -> 6\n",
            "3 -> 5\n",
            "4 -> 0\n",
            "5 -> 1\n",
            "5 -> 4\n",
            "5 -> 0\n",
            "6 -> 5\n",
            "6 -> 2\n",
            "7 -> 4\n",
            "7 -> 0\n",
            "7 -> 3\n"
          ]
        }
      ],
      "source": [
        "for w,r in grafo.edges():\n",
        "    print(f\"{w} -> {r}\")"
      ]
    },
    {
      "cell_type": "markdown",
      "metadata": {},
      "source": [
        "Este bloco de código é apenas um loop para gerar as arestas do grafo"
      ]
    },
    {
      "cell_type": "code",
      "execution_count": 5,
      "metadata": {},
      "outputs": [
        {
          "name": "stdout",
          "output_type": "stream",
          "text": [
            "0 -> 4\n",
            "1 -> 5\n",
            "1 -> 2\n",
            "1 -> 3\n",
            "2 -> 1\n",
            "2 -> 4\n",
            "3 -> 0\n",
            "3 -> 1\n",
            "4 -> 1\n",
            "4 -> 0\n",
            "5 -> 0\n"
          ]
        }
      ],
      "source": [
        "# Código Inteiro:\n",
        "N = random.randint(6,10)\n",
        "\n",
        "def geraGrafo(N): \n",
        "    while True: \n",
        "        G = nx.DiGraph()\n",
        "        G.add_nodes_from(range(N))\n",
        "\n",
        "        for node in range(N):\n",
        "            desc = random.randint(1,3)\n",
        "            dest = random.sample([n for n in range(N) if n != node], desc)\n",
        "            G.add_edges_from((node, dest) for dest in dest)\n",
        "\n",
        "        if nx.is_strongly_connected(G):\n",
        "            return G\n",
        "\n",
        "grafo = geraGrafo(N)\n",
        "\n",
        "for w,r in grafo.edges():\n",
        "    print(f\"{w} -> {r}\")\n"
      ]
    }
  ],
  "metadata": {
    "kernelspec": {
      "display_name": "logica",
      "language": "python",
      "name": "python3"
    },
    "language_info": {
      "codemirror_mode": {
        "name": "ipython",
        "version": 3
      },
      "file_extension": ".py",
      "mimetype": "text/x-python",
      "name": "python",
      "nbconvert_exporter": "python",
      "pygments_lexer": "ipython3",
      "version": "3.10.14"
    }
  },
  "nbformat": 4,
  "nbformat_minor": 2
}
