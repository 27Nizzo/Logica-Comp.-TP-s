{
  "cells": [
    {
      "cell_type": "markdown",
      "metadata": {},
      "source": [
        "# Exercicio 2:   "
      ]
    },
    {
      "cell_type": "markdown",
      "metadata": {},
      "source": [
        "\n",
        "    Um sistema de tráfego  é representado por um grafo orientado ligado. Os nodos denotam pontos de acesso e  os arcos denotam vias de comunicação só com um sentido .  O grafo tem de ser ligado: entre cada par de nodos e <n1,n2> tem de existir um caminho n1 -> n2 e um caminho n2 -> n1. \\\n",
        " "
      ]
    },
    {
      "cell_type": "markdown",
      "metadata": {},
      "source": []
    },
    {
      "cell_type": "markdown",
      "metadata": {},
      "source": [
        "# Bibliotecas a utilizar:\n",
        "## 1) networkx:\n",
        "    - Biblioteca que ajuda na criação e manipulação de grafos. Com uma interface simples para trabalhar com grafos orientados e não orientados;\n",
        "    - Neste trablho vamos trabalhar com grafos orientados e verificar se os grafos são orientados e ligados. E por isso, com a utilização desta biblioteca vamos conseguir manipular arestas e nós do grafo\n",
        "\n",
        "## 2) ortools: \n",
        "    - A biblioteca ortools é uma ferramenta que permite resolver problemas de programação linear, inteira e problemas de otimização com restrições utilizando diferentes tipos de **solvers**;\n",
        "    - Vamos utilizar esta biblioteca neste trabalho com o propósito no problema de remoção de arestas, para garantir que um grafo é conexo. O **ortools** vai maximizar o número de arestas que poderão ser removidas enquanto mantém as restrições.\n",
        "\n",
        "## 3) random:\n",
        "    - A biblioteca \"**random**\" é um biblioteca de Python que fornece funções de gerações de números aleatórios e apresentações aleatórias;\n",
        "    - Vamos utilizar esta bilbioteca para gerar descendentes aleatórios de nós no grafo, ou seja, na criação de arestas entre os nós é feita de maneira aleatória com base nos limites definidos;  "
      ]
    },
    {
      "cell_type": "code",
      "execution_count": 1,
      "metadata": {},
      "outputs": [],
      "source": [
        "import networkx as nx\n",
        "from ortools.linear_solver import pywraplp\n",
        "import random "
      ]
    },
    {
      "cell_type": "markdown",
      "metadata": {},
      "source": [
        "### Alínea a)\n",
        "    - Vamos ter que gerar um grafo orientado aleatório com N(número máximo de nodos) entre 6 a 10, onde cada nodo tem entre 1 a 3 descendentes, sem loops ou destinos que se repitam;\n",
        "    - O grafo tem que ser orientado ligado, ou seja, cada para **<n1,n2>**, deve haver um caminho de n1 para n2 e outro caminho de n2 para n1."
      ]
    },
    {
      "cell_type": "markdown",
      "metadata": {},
      "source": []
    },
    {
      "cell_type": "code",
      "execution_count": 2,
      "metadata": {},
      "outputs": [],
      "source": [
        "### Completar\n",
        "N = random.randint(6,10)\n",
        "\n",
        "def geraGrafo(N): \n",
        "    while True: \n",
        "        G = nx.DiGraph()\n",
        "        G.add_nodes_from(range(N))\n",
        "\n",
        "        for node in range(N):\n",
        "            desc = random.randint(1,3)\n",
        "            dest = random.sample([n for n in range(N) if n != node], desc)\n",
        "            G.add_edges_from((node, dest) for dest in dest)\n",
        "\n",
        "        if nx.is_strongly_connected(G):\n",
        "            return G\n",
        "\n",
        "grafo = geraGrafo(N)\n",
        "\n"
      ]
    },
    {
      "cell_type": "markdown",
      "metadata": {},
      "source": [
        "    Neste bloco de codigo definimos a variável N sendo o número máximo de nodos entre 6 a 10 gerados aleatóriamente com o auxilio da biblioteca *random*. Depois contruimos uma função para gerar   grafos de acordo com a varável N definida anteriormente.\n",
        "    A condição <i>while True:</i> permite que os grafos gerados sejam sempre orientados ligados, se não for utilizado esta condição teriamos que ir por uma abordagem mais \"controlada\", ou seja, teriamos que definir um número máximo de tentativas para gerar um grafo orientado ligado para evitar um loop infinito caso a geração falhe várias vezes. A função *geraGrafo* vai criar um grafo G primeiramente vazio e de seguida adiciona o número de nodes dado aleatóriamente por N. O *for* seguinte vai é um ciclo que vai adicionar arestas de acordo com as restrições dos descendentes e o <i>if statement</i> utiliza a função <bold>is_strongly_connected</bold> que verifica se o grafo é conexo ou não, se sim vai gerar o mesmo caso contrário não.\n",
        "    "
      ]
    },
    {
      "cell_type": "code",
      "execution_count": 3,
      "metadata": {},
      "outputs": [
        {
          "name": "stdout",
          "output_type": "stream",
          "text": [
            "0 -> 2\n",
            "1 -> 4\n",
            "1 -> 2\n",
            "2 -> 7\n",
            "2 -> 0\n",
            "2 -> 1\n",
            "3 -> 6\n",
            "3 -> 5\n",
            "4 -> 0\n",
            "5 -> 1\n",
            "5 -> 4\n",
            "5 -> 0\n",
            "6 -> 5\n",
            "6 -> 2\n",
            "7 -> 4\n",
            "7 -> 0\n",
            "7 -> 3\n"
          ]
        }
      ],
      "source": [
        "for w,r in grafo.edges():\n",
        "    print(f\"{w} -> {r}\")"
      ]
    },
    {
      "cell_type": "markdown",
      "metadata": {},
      "source": [
        "Este bloco de código é apenas um loop para gerar as arestas do grafo"
      ]
    },
    {
      "cell_type": "code",
      "execution_count": 5,
      "metadata": {},
      "outputs": [
        {
          "name": "stdout",
          "output_type": "stream",
          "text": [
            "0 -> 4\n",
            "1 -> 5\n",
            "1 -> 2\n",
            "1 -> 3\n",
            "2 -> 1\n",
            "2 -> 4\n",
            "3 -> 0\n",
            "3 -> 1\n",
            "4 -> 1\n",
            "4 -> 0\n",
            "5 -> 0\n"
          ]
        }
      ],
      "source": [
        "# Código Inteiro:\n",
        "N = random.randint(6,10)\n",
        "\n",
        "def geraGrafo(N): \n",
        "    while True: \n",
        "        G = nx.DiGraph()\n",
        "        G.add_nodes_from(range(N))\n",
        "\n",
        "        for node in range(N):\n",
        "            desc = random.randint(1,3)\n",
        "            dest = random.sample([n for n in range(N) if n != node], desc)\n",
        "            G.add_edges_from((node, dest) for dest in dest)\n",
        "\n",
        "        if nx.is_strongly_connected(G):\n",
        "            return G\n",
        "\n",
        "grafo = geraGrafo(N)\n",
        "\n",
        "for w,r in grafo.edges():\n",
        "    print(f\"{w} -> {r}\")\n"
      ]
    }
  ],
  "metadata": {
    "kernelspec": {
      "display_name": "logica",
      "language": "python",
      "name": "python3"
    },
    "language_info": {
      "codemirror_mode": {
        "name": "ipython",
        "version": 3
      },
      "file_extension": ".py",
      "mimetype": "text/x-python",
      "name": "python",
      "nbconvert_exporter": "python",
      "pygments_lexer": "ipython3",
      "version": "3.10.14"
    }
  },
  "nbformat": 4,
  "nbformat_minor": 2
}
